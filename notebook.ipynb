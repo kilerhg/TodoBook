{
 "cells": [
  {
   "cell_type": "markdown",
   "source": [
    "## API GOOGLE"
   ],
   "metadata": {}
  },
  {
   "cell_type": "code",
   "execution_count": null,
   "source": [
    "import requests\r\n",
    "import pandas as pd\r\n",
    "import json"
   ],
   "outputs": [],
   "metadata": {}
  },
  {
   "cell_type": "code",
   "execution_count": null,
   "source": [
    "def consumir_api(url, busca):\r\n",
    "    url = str(url)\r\n",
    "    busca = str(busca)\r\n",
    "    resposta = requests.get(url+busca).json()\r\n",
    "    return resposta\r\n",
    "\r\n",
    "\r\n",
    "def head(resposta, qtd_resposta=10):\r\n",
    "    limpo = resposta['items'][:qtd_resposta]\r\n",
    "    return limpo\r\n",
    "\r\n",
    "def valida_chave_existe(dict_book : dict, key : str):\r\n",
    "    if key in dict_book:\r\n",
    "        dict_livro['descricao'] = livro['description']\r\n",
    "    else:\r\n",
    "        dict_livro['descricao'] = ''\r\n",
    "# 'title', authors, 'pageCount', 'maturityRating', 'language', 'infoLink', 'description'\r\n",
    "def limpa_requisicao_livro(livro):\r\n",
    "    \r\n",
    "    dict_livro = {\r\n",
    "        'titulo' : livro['title'],\r\n",
    "        'autores' : '; '.join(livro['authors']),\r\n",
    "        'num_paginas' : livro['pageCount'],\r\n",
    "        'faixa_etaria' : livro['maturityRating'],\r\n",
    "        'idioma' : livro['language'],\r\n",
    "        'link' : livro['infoLink'],\r\n",
    "    }\r\n",
    "\r\n",
    "\r\n",
    "    ## Tratando descrição\r\n",
    "    if 'description' in livro:\r\n",
    "        dict_livro['descricao'] = livro['description']\r\n",
    "    else:\r\n",
    "        dict_livro['descricao'] = ''\r\n",
    "\r\n",
    "    ## Tratando descrição ↑\r\n",
    "\r\n",
    "    ## Tratando iSBN\r\n",
    "\r\n",
    "    if 'industryIdentifiers' in livro:\r\n",
    "        for isbns in livro['industryIdentifiers']:\r\n",
    "            if isbns['type'] == 'ISBN_13':\r\n",
    "                dict_livro['isbn'] = {'tipo_isbn': isbns['type'], 'valor': isbns['identifier']}\r\n",
    "            elif isbns['type'] == 'ISBN_10':\r\n",
    "                dict_livro['isbn'] = {'tipo_isbn': isbns['type'], 'valor': isbns['identifier']}\r\n",
    "            else:\r\n",
    "                {'tipo_isbn':None}\r\n",
    "    else:\r\n",
    "        {'tipo_isbn':None}\r\n",
    "\r\n",
    "    ## Tratando iSBN ↑\r\n",
    "\r\n",
    "\r\n",
    "    ## Tratando Thumb\r\n",
    "\r\n",
    "    if 'imageLinks' in livro:\r\n",
    "        if 'smallThumbnail' in livro['imageLinks']:\r\n",
    "            dict_livro['imagem'] = livro['imageLinks']['smallThumbnail']\r\n",
    "        else:\r\n",
    "            dict_livro['imagem'] = 'https://raw.githubusercontent.com/kilerhg/TodoBook/main/imagens/livro_sem_capa.png'\r\n",
    "    else:\r\n",
    "        dict_livro['imagem'] = 'https://raw.githubusercontent.com/kilerhg/TodoBook/main/imagens/livro_sem_capa.png'\r\n",
    "\r\n",
    "    ## Tratando Thumb ↑\r\n",
    "\r\n",
    "    return dict_livro"
   ],
   "outputs": [],
   "metadata": {}
  },
  {
   "cell_type": "code",
   "execution_count": null,
   "source": [
    "' MAIN '\r\n",
    "\r\n",
    "url = 'https://www.googleapis.com/books/v1/volumes?q='\r\n",
    "busca = 'senhor'\r\n",
    "\r\n",
    "\r\n",
    "dados = consumir_api(url,busca)\r\n",
    "dados_limpo = head(dados)\r\n",
    "\r\n",
    "lista_livros = []\r\n",
    "for livro_sujo in dados_limpo:\r\n",
    "    livro_limpo = livro_sujo['volumeInfo']\r\n",
    "    try:\r\n",
    "        livro_tratado = limpa_requisicao_livro(livro=livro_limpo)\r\n",
    "    except:\r\n",
    "        livro_tratado = None\r\n",
    "    if livro_tratado:\r\n",
    "        lista_livros.append(livro_tratado)\r\n",
    "link_livros = [livro['imagem'] for livro in lista_livros]"
   ],
   "outputs": [],
   "metadata": {}
  },
  {
   "cell_type": "code",
   "execution_count": null,
   "source": [
    "dados_limpo[0]['volumeInfo'].keys()"
   ],
   "outputs": [],
   "metadata": {}
  },
  {
   "cell_type": "code",
   "execution_count": null,
   "source": [
    "len(lista_livros)"
   ],
   "outputs": [],
   "metadata": {}
  },
  {
   "cell_type": "code",
   "execution_count": null,
   "source": [],
   "outputs": [],
   "metadata": {}
  },
  {
   "cell_type": "code",
   "execution_count": null,
   "source": [
    "link_livros"
   ],
   "outputs": [],
   "metadata": {}
  },
  {
   "cell_type": "code",
   "execution_count": null,
   "source": [],
   "outputs": [],
   "metadata": {}
  },
  {
   "cell_type": "code",
   "execution_count": null,
   "source": [
    "dados_limpo"
   ],
   "outputs": [],
   "metadata": {}
  },
  {
   "cell_type": "markdown",
   "source": [],
   "metadata": {}
  },
  {
   "cell_type": "code",
   "execution_count": null,
   "source": [
    "dados_limpo[1]['volumeInfo']['imageLinks']['smallThumbnail']"
   ],
   "outputs": [],
   "metadata": {}
  },
  {
   "cell_type": "code",
   "execution_count": null,
   "source": [
    "livro = dados_limpo[2]['volumeInfo']\r\n",
    "print(livro)"
   ],
   "outputs": [],
   "metadata": {}
  },
  {
   "cell_type": "code",
   "execution_count": null,
   "source": [
    "valores = dados_limpo[2]['volumeInfo']\r\n",
    "dicionario_livro_limpo = {}\r\n",
    "for coluna in interessantes:\r\n",
    "    dicionario_livro_limpo[coluna] = valores[coluna]"
   ],
   "outputs": [],
   "metadata": {}
  },
  {
   "cell_type": "code",
   "execution_count": null,
   "source": [
    "livro['industryIdentifiers'][0]['identifier']"
   ],
   "outputs": [],
   "metadata": {}
  },
  {
   "cell_type": "code",
   "execution_count": null,
   "source": [],
   "outputs": [],
   "metadata": {}
  },
  {
   "cell_type": "code",
   "execution_count": null,
   "source": [
    "livro = dados_limpo[1]['volumeInfo']\r\n",
    "\r\n",
    "dict_livro = {\r\n",
    "    'titulo' : livro['title'],\r\n",
    "    'autores' : '; '.join(livro['authors']),\r\n",
    "    'descricao' : livro['description'],\r\n",
    "    'num_paginas' : livro['pageCount'],\r\n",
    "    'faixa_etaria' : livro['maturityRating'],\r\n",
    "    'idioma' : livro['language'],\r\n",
    "    'link' : livro['infoLink'],\r\n",
    "}\r\n",
    "\r\n",
    "## Tratando iSBN\r\n",
    "\r\n",
    "if 'industryIdentifiers' in livro:\r\n",
    "    for isbns in livro['industryIdentifiers']:\r\n",
    "        if isbns['type'] == 'ISBN_13':\r\n",
    "            dict_livro['isbn'] = {'tipo_isbn': isbns['type'], 'valor': isbns['identifier']}\r\n",
    "        elif isbns['type'] == 'ISBN_10':\r\n",
    "            dict_livro['isbn'] = {'tipo_isbn': isbns['type'], 'valor': isbns['identifier']}\r\n",
    "        else:\r\n",
    "            dict_livro['isbn'] = None\r\n",
    "else:\r\n",
    "    dict_livro['isbn'] = None\r\n",
    "\r\n",
    "## Tratando iSBN ↑\r\n",
    "\r\n",
    "## Tratando Thumb\r\n",
    "\r\n",
    "if 'imageLinks' in livro:\r\n",
    "    if 'smallThumbnail' in livro['imageLinks']:\r\n",
    "        dict_livro['imagem'] = livro['imageLinks']['smallThumbnail']\r\n",
    "    else:\r\n",
    "        dict_livro['imagem'] = 'https://raw.githubusercontent.com/kilerhg/TodoBook/main/imagens/livro_sem_capa.png'\r\n",
    "else:\r\n",
    "    dict_livro['imagem'] = 'https://raw.githubusercontent.com/kilerhg/TodoBook/main/imagens/livro_sem_capa.png'\r\n",
    "\r\n",
    "## Tratando Thumb ↑\r\n"
   ],
   "outputs": [],
   "metadata": {}
  },
  {
   "cell_type": "code",
   "execution_count": null,
   "source": [
    "dict_livro['isbn']['valor']"
   ],
   "outputs": [],
   "metadata": {}
  },
  {
   "cell_type": "code",
   "execution_count": null,
   "source": [
    "dicionario_livro_limpo\r\n",
    "\r\n",
    "# '' : livro['imageLinks'],\r\n",
    "# #  https://raw.githubusercontent.com/kilerhg/TodoBook/main/imagens/livro_sem_capa.png\r\n",
    "# 'ISBN' : livro['industryIdentifiers'],\r\n",
    "\r\n"
   ],
   "outputs": [],
   "metadata": {}
  },
  {
   "cell_type": "code",
   "execution_count": null,
   "source": [
    "dados_limpo[5]['volumeInfo']"
   ],
   "outputs": [],
   "metadata": {}
  },
  {
   "cell_type": "code",
   "execution_count": null,
   "source": [
    "interessantes = ['title', 'authors', 'description', 'industryIdentifiers', 'maturityRating', 'language', 'infoLink']\r\n",
    "interessantes_opc = ['publisher', 'imageLinks']"
   ],
   "outputs": [],
   "metadata": {}
  },
  {
   "cell_type": "code",
   "execution_count": null,
   "source": [
    "livro = dados_limpo[0]['volumeInfo']\r\n",
    "for coluna in interessantes:\r\n",
    "    limpo = livro['volumeInfo']\r\n",
    "    if coluna in limpo:\r\n",
    "        print(limpo[coluna])"
   ],
   "outputs": [],
   "metadata": {}
  },
  {
   "cell_type": "code",
   "execution_count": null,
   "source": [
    "for livro['volumeInfo'] in dados_limpo:\r\n",
    "    print('-=-=-=')\r\n",
    "    print(dados_limpo)\r\n",
    "    for coluna in interessantes:\r\n",
    "        if coluna in livro['volumeInfo']:\r\n",
    "            print(livro[coluna])"
   ],
   "outputs": [],
   "metadata": {}
  },
  {
   "cell_type": "markdown",
   "source": [
    "## DB"
   ],
   "metadata": {}
  },
  {
   "cell_type": "code",
   "execution_count": 1,
   "source": [
    "import sqlite3\r\n",
    "import os\r\n",
    "from werkzeug.security import generate_password_hash, check_password_hash\r\n",
    "\r\n",
    "def connect_db(name='database'):\r\n",
    "\r\n",
    "    if os.path.isfile(f'./{name}.db'):\r\n",
    "        db = sqlite3.connect(f\"{name}.db\")\r\n",
    "        cursor = db.cursor()\r\n",
    "    else:\r\n",
    "        db = sqlite3.connect(f\"{name}.db\")\r\n",
    "        cursor = db.cursor()\r\n",
    "\r\n",
    "        sql_query_generate_users = '''\r\n",
    "            CREATE TABLE users (\r\n",
    "                id INTEGER NOT NULL PRIMARY KEY AUTOINCREMENT,\r\n",
    "                username TEXT(50) NOT NULL,\r\n",
    "                email TEXT(50) NOT NULL UNIQUE,\r\n",
    "                password TEXT(200) NOT NULL\r\n",
    "            );'''\r\n",
    "\r\n",
    "        sql_query_generate_status_book = '''\r\n",
    "            CREATE TABLE status_book (\r\n",
    "                id_status INTEGER NOT NULL PRIMARY KEY AUTOINCREMENT,\r\n",
    "                description TEXT(50)\r\n",
    "            );'''\r\n",
    "\r\n",
    "        sql_query_generate_library = '''\r\n",
    "            CREATE TABLE library (\r\n",
    "                id_register INTEGER NOT NULL PRIMARY KEY AUTOINCREMENT,\r\n",
    "                id_user INTEGER NOT NULL,\r\n",
    "                book_unique_key TEXT(40),\r\n",
    "                id_status_book INTEGER,\r\n",
    "                percent_book FLOAT(3),\r\n",
    "                FOREIGN KEY(id_user) REFERENCES users(id)\r\n",
    "                FOREIGN KEY(id_status_book) REFERENCES status_book(id_status)\r\n",
    "            );'''\r\n",
    "\r\n",
    "        sql_query_insert_status_book = '''\r\n",
    "            insert into status_book(id_status, description) values \r\n",
    "            ('0', 'Not Stated'), \r\n",
    "            ('1', 'Reading'),\r\n",
    "            ('2', 'Readed');'''\r\n",
    "\r\n",
    "        cursor.execute(sql_query_generate_users)\r\n",
    "        cursor.execute(sql_query_generate_status_book)\r\n",
    "        cursor.execute(sql_query_generate_library)\r\n",
    "\r\n",
    "        cursor.execute(sql_query_insert_status_book)\r\n",
    "        db.commit()\r\n",
    "\r\n",
    "        \r\n",
    "    \r\n",
    "    return db, cursor\r\n",
    "\r\n",
    "def insert_user(db, cursor, username : str, email : str, pwd : str):\r\n",
    "    hash_password = generate_password_hash(pwd)\r\n",
    "    query_insert = f\"\"\"\r\n",
    "    insert into users(username, email, password) \r\n",
    "    values ('{username}', '{email}', '{hash_password}');\"\"\"\r\n",
    "    try:\r\n",
    "        cursor.execute(query_insert)\r\n",
    "    except sqlite3.IntegrityError:\r\n",
    "        return 'E-mail ja cadastrado'\r\n",
    "\r\n",
    "    db.commit()\r\n",
    "\r\n",
    "def login_user(cursor, email, pwd):\r\n",
    "    query_login = f'''\r\n",
    "    select password from users where email = '{email}';\r\n",
    "    '''\r\n",
    "    \r\n",
    "    cursor.execute(query_login)\r\n",
    "\r\n",
    "\r\n",
    "    hash_password = cursor.fetchone()\r\n",
    "\r\n",
    "    if hash_password:\r\n",
    "        if check_password_hash(hash_password[0], pwd):\r\n",
    "            return True\r\n",
    "        else:\r\n",
    "            return 'senha incorreta'\r\n",
    "    else:\r\n",
    "        return 'email não existente'\r\n",
    "\r\n",
    "def get_id_by_email(cursor, email : str):\r\n",
    "    query = f'''\r\n",
    "        select (id) from users\r\n",
    "        where email = '{email}';\r\n",
    "    '''\r\n",
    "    cursor.execute(query)\r\n",
    "    value = cursor.fetchone()\r\n",
    "\r\n",
    "    if value:\r\n",
    "        value = value[0]\r\n",
    "    else:\r\n",
    "        value = None\r\n",
    "\r\n",
    "    return value\r\n",
    "        \r\n",
    "\r\n",
    "def update_password_by_id(cursor, db, id_user, password : str):\r\n",
    "    query = f'''\r\n",
    "    UPDATE users\r\n",
    "    set password = '{password}'\r\n",
    "    where id = '{id_user}'\r\n",
    "    '''\r\n",
    "    cursor.execute(query)\r\n",
    "    db.commit()\r\n",
    "\r\n",
    "def update_email_by_id(cursor, db, id_user, email : str):\r\n",
    "    query = f'''\r\n",
    "    UPDATE users\r\n",
    "    set email = '{email}'\r\n",
    "    where id = '{id_user}'\r\n",
    "    '''\r\n",
    "    cursor.execute(query)\r\n",
    "    db.commit()\r\n",
    "\r\n",
    "def update_username_by_id(cursor, db, id_user, username : str):\r\n",
    "    query = f'''\r\n",
    "    UPDATE users\r\n",
    "    set username = '{username}'\r\n",
    "    where id = '{id_user}'\r\n",
    "    '''\r\n",
    "    cursor.execute(query)\r\n",
    "    db.commit()\r\n",
    "\r\n",
    "\r\n",
    "db, cursor = connect_db()\r\n",
    "\r\n",
    "\r\n",
    "\r\n",
    "# login_user(cursor=cursor, email=email, pwd=password)"
   ],
   "outputs": [],
   "metadata": {}
  },
  {
   "cell_type": "code",
   "execution_count": 2,
   "source": [
    "username='lucas nunes'\r\n",
    "email='lucas@gmail.com'\r\n",
    "password ='123'\r\n"
   ],
   "outputs": [],
   "metadata": {}
  },
  {
   "cell_type": "code",
   "execution_count": null,
   "source": [
    "'''\r\n",
    "To Do account:\r\n",
    "\r\n",
    "* Register\r\n",
    "* Login\r\n",
    "* Reset Password\r\n",
    "\r\n",
    "'''"
   ],
   "outputs": [],
   "metadata": {}
  },
  {
   "cell_type": "code",
   "execution_count": 13,
   "source": [
    "insert_user(db=db, cursor=cursor, username=username, email=email, pwd=password)"
   ],
   "outputs": [
    {
     "output_type": "execute_result",
     "data": {
      "text/plain": [
       "'E-mail ja cadastrado'"
      ]
     },
     "metadata": {},
     "execution_count": 13
    }
   ],
   "metadata": {}
  },
  {
   "cell_type": "code",
   "execution_count": 16,
   "source": [
    "login_user(cursor=cursor, email=email, pwd='kiler')"
   ],
   "outputs": [
    {
     "output_type": "execute_result",
     "data": {
      "text/plain": [
       "True"
      ]
     },
     "metadata": {},
     "execution_count": 16
    }
   ],
   "metadata": {}
  },
  {
   "cell_type": "code",
   "execution_count": 6,
   "source": [
    "password_new = generate_password_hash('kiler')\r\n",
    "email_new = 'kilerhg@gmail.com'\r\n",
    "username_new = 'kikil'"
   ],
   "outputs": [],
   "metadata": {}
  },
  {
   "cell_type": "code",
   "execution_count": 22,
   "source": [
    "id_user = get_id_by_email(cursor=cursor, email=email_new)"
   ],
   "outputs": [],
   "metadata": {}
  },
  {
   "cell_type": "code",
   "execution_count": 23,
   "source": [
    "id_user"
   ],
   "outputs": [
    {
     "output_type": "execute_result",
     "data": {
      "text/plain": [
       "1"
      ]
     },
     "metadata": {},
     "execution_count": 23
    }
   ],
   "metadata": {}
  },
  {
   "cell_type": "code",
   "execution_count": 10,
   "source": [
    "update_password_by_id(cursor=cursor, db=db, id_user=id_user, password=password_new)"
   ],
   "outputs": [],
   "metadata": {}
  },
  {
   "cell_type": "code",
   "execution_count": 17,
   "source": [
    "update_email_by_id(cursor=cursor, db=db, id_user=id_user, email=email_new)"
   ],
   "outputs": [],
   "metadata": {}
  },
  {
   "cell_type": "code",
   "execution_count": 18,
   "source": [
    "update_username_by_id(cursor=cursor, db=db, id_user=id_user, username=username_new)"
   ],
   "outputs": [],
   "metadata": {}
  },
  {
   "cell_type": "code",
   "execution_count": null,
   "source": [
    "\r\n",
    " \r\n"
   ],
   "outputs": [],
   "metadata": {}
  }
 ],
 "metadata": {
  "kernelspec": {
   "name": "python3",
   "display_name": "Python 3.9.5 64-bit ('venv': venv)"
  },
  "language_info": {
   "codemirror_mode": {
    "name": "ipython",
    "version": 3
   },
   "file_extension": ".py",
   "mimetype": "text/x-python",
   "name": "python",
   "nbconvert_exporter": "python",
   "pygments_lexer": "ipython3",
   "version": "3.9.5"
  },
  "interpreter": {
   "hash": "1c60b6559e6f2313bd83830ee57482056046db25f9dbb5b54a689bb628eef610"
  }
 },
 "nbformat": 4,
 "nbformat_minor": 5
}