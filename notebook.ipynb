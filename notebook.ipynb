{
 "cells": [
  {
   "cell_type": "code",
   "execution_count": 1,
   "source": [
    "import requests\r\n",
    "import pandas as pd\r\n",
    "import json"
   ],
   "outputs": [],
   "metadata": {}
  },
  {
   "cell_type": "code",
   "execution_count": 215,
   "source": [
    "def consumir_api(url, busca):\r\n",
    "    url = str(url)\r\n",
    "    busca = str(busca)\r\n",
    "    resposta = requests.get(url+busca).json()\r\n",
    "    return resposta\r\n",
    "\r\n",
    "\r\n",
    "def head(resposta, qtd_resposta=5):\r\n",
    "    limpo = resposta['items'][:qtd_resposta]\r\n",
    "    return limpo\r\n",
    "\r\n",
    "def limpa_requisicao_livro(livro):\r\n",
    "    dict_livro = {\r\n",
    "        'titulo' : livro['title'],\r\n",
    "        'autores' : '; '.join(livro['authors']),\r\n",
    "        'descricao' : livro['description'],\r\n",
    "        'num_paginas' : livro['pageCount'],\r\n",
    "        'faixa_etaria' : livro['maturityRating'],\r\n",
    "        'idioma' : livro['language'],\r\n",
    "        'link' : livro['infoLink'],\r\n",
    "    }\r\n",
    "\r\n",
    "    ## Tratando iSBN\r\n",
    "\r\n",
    "    if 'industryIdentifiers' in livro:\r\n",
    "        for isbns in livro['industryIdentifiers']:\r\n",
    "            if isbns['type'] == 'ISBN_13':\r\n",
    "                dict_livro['isbn'] = {'tipo_isbn': isbns['type'], 'valor': isbns['identifier']}\r\n",
    "            elif isbns['type'] == 'ISBN_10':\r\n",
    "                dict_livro['isbn'] = {'tipo_isbn': isbns['type'], 'valor': isbns['identifier']}\r\n",
    "            else:\r\n",
    "                {'tipo_isbn':None}\r\n",
    "    else:\r\n",
    "        {'tipo_isbn':None}\r\n",
    "\r\n",
    "    ## Tratando iSBN ↑\r\n",
    "\r\n",
    "\r\n",
    "    ## Tratando Thumb\r\n",
    "\r\n",
    "    if 'imageLinks' in livro:\r\n",
    "        if 'smallThumbnail' in livro['imageLinks']:\r\n",
    "            dict_livro['imagem'] = livro['imageLinks']['smallThumbnail']\r\n",
    "        else:\r\n",
    "            dict_livro['imagem'] = 'https://raw.githubusercontent.com/kilerhg/TodoBook/main/imagens/livro_sem_capa.png'\r\n",
    "    else:\r\n",
    "        dict_livro['imagem'] = 'https://raw.githubusercontent.com/kilerhg/TodoBook/main/imagens/livro_sem_capa.png'\r\n",
    "\r\n",
    "    ## Tratando Thumb ↑\r\n",
    "\r\n",
    "    return dict_livro"
   ],
   "outputs": [],
   "metadata": {}
  },
  {
   "cell_type": "code",
   "execution_count": 222,
   "source": [
    "lista_livros = []\r\n",
    "for livro_sujo in dados_limpo:\r\n",
    "    livro_limpo = livro_sujo['volumeInfo']\r\n",
    "    livro_tratado = limpa_requisicao_livro(livro=livro_limpo)\r\n",
    "    lista_livros.append(livro_tratado)"
   ],
   "outputs": [],
   "metadata": {}
  },
  {
   "cell_type": "code",
   "execution_count": 223,
   "source": [
    "lista_livros"
   ],
   "outputs": [
    {
     "output_type": "execute_result",
     "data": {
      "text/plain": [
       "[{'titulo': 'Mentes Geniais',\n",
       "  'autores': \"Alberto Dell'isola\",\n",
       "  'descricao': \"Neste livro, Alberto Dell'Isola procura revelar seus segredos e apresentar uma série de técnicas e exercícios que podem ajudar o leitor a aprimorar de forma significativa a capacidade cognitiva. É possível aprender a treinar o cérebro para gravar o maior número de informações, potencializar a capacidade de aprendizado e descobrir como é possível decorar de maneira eficaz datas, fórmulas, discursos, números e acontecimentos históricos.\",\n",
       "  'num_paginas': 320,\n",
       "  'faixa_etaria': 'NOT_MATURE',\n",
       "  'idioma': 'pt-BR',\n",
       "  'link': 'http://books.google.com.br/books?id=HLi2wAEACAAJ&dq=mentes&hl=&source=gbs_api',\n",
       "  'isbn': {'tipo_isbn': 'ISBN_13', 'valor': '9788579302763'},\n",
       "  'imagem': 'http://books.google.com/books/content?id=HLi2wAEACAAJ&printsec=frontcover&img=1&zoom=5&source=gbs_api'},\n",
       " {'titulo': 'Mentes Brilhantes',\n",
       "  'autores': \"Alberto Dell'isola\",\n",
       "  'descricao': \"Todo mundo reconhece aqueles que inovam, criam ou provocam situações que, de alguma forma, chamam a atenção. Então, faz sentido afirmar que o segredo do sucesso pode ser resumido em ser criativo. Neste livro de Alberto Dell'Isola, o leitor entrará em contato com técnicas profissionais para desenvolver toda a capacidade do cérebro. E, dessa\",\n",
       "  'num_paginas': 208,\n",
       "  'faixa_etaria': 'NOT_MATURE',\n",
       "  'idioma': 'pt-BR',\n",
       "  'link': 'http://books.google.com.br/books?id=fljzNAEACAAJ&dq=mentes&hl=&source=gbs_api',\n",
       "  'isbn': {'tipo_isbn': 'ISBN_13', 'valor': '9788579303265'},\n",
       "  'imagem': 'http://books.google.com/books/content?id=fljzNAEACAAJ&printsec=frontcover&img=1&zoom=5&source=gbs_api'},\n",
       " {'titulo': 'Mentes sombrias',\n",
       "  'autores': 'Alexandra Bracken',\n",
       "  'descricao': 'A distopia que inspirou o novo filme dos produtores de Stranger Things Do dia para a noite, crianças começam a morrer de um misterioso mal súbito. Em pouco tempo, a doença se espalha e os que sobrevivem a ela desenvolvem habilidades psíquicas assustadoras. Uma delas é Ruby. Na manhã do seu décimo aniversário, um acontecimento aterrador faz com que seus pais a tranquem na garagem e chamem a polícia. A menina é então levada para Thurmond, um acampamento que segue as diretrizes brutais do governo vigente. Seis anos depois, ela se torna uma das jovens mais perigosas de Thurmond, embora tenha que esconder isso a todo custo para a própria segurança. Quando a verdade vem à tona, Ruby desperta o interesse de muitas pessoas e precisa escapar às pressas. Fora dali, ela se alia a fugitivos de outros acampamentos e conhece Liam, que lidera uma fuga em direção ao único refúgio para adolescentes como eles. Por mais que queira fazer amigos e ter uma vida normal, Ruby sabe que isso não vai ser possível, porque nenhum lugar é seguro, e ela não pode confiar em ninguém — nem em si mesma.',\n",
       "  'num_paginas': 384,\n",
       "  'faixa_etaria': 'NOT_MATURE',\n",
       "  'idioma': 'pt-BR',\n",
       "  'link': 'https://play.google.com/store/books/details?id=eNJeDwAAQBAJ&source=gbs_api',\n",
       "  'isbn': {'tipo_isbn': 'ISBN_10', 'valor': '8551003828'},\n",
       "  'imagem': 'http://books.google.com/books/content?id=eNJeDwAAQBAJ&printsec=frontcover&img=1&zoom=5&edge=curl&source=gbs_api'},\n",
       " {'titulo': 'Bullying',\n",
       "  'autores': 'Ana Beatriz Barbosa Silva',\n",
       "  'descricao': \"Em 'Bullying - Mentes perigosas nas escolas', a dra. Ana Beatriz faz uma análise sobre um dos tipos de violência que precisa ser combatido. O livro faz uma investigação do problema, apresentando informações aos pais, professores, alunos e profissionais de diversas áreas para identificar esse tipo de violência e suas consequências, como também o que se pode fazer para combatê-la.\",\n",
       "  'num_paginas': 187,\n",
       "  'faixa_etaria': 'NOT_MATURE',\n",
       "  'idioma': 'pt-BR',\n",
       "  'link': 'http://books.google.com.br/books?id=5CXiwAEACAAJ&dq=mentes&hl=&source=gbs_api',\n",
       "  'isbn': {'tipo_isbn': 'ISBN_13', 'valor': '9788539000593'},\n",
       "  'imagem': 'https://raw.githubusercontent.com/kilerhg/TodoBook/main/imagens/livro_sem_capa.png'},\n",
       " {'titulo': 'Mentes Ansiosas',\n",
       "  'autores': 'Ana Beatriz Barbosa Silva',\n",
       "  'descricao': 'Nesta nova edição revista, atualizada e ampliada de \"Mentes ansiosas – o medo e a ansiedade nossos de cada dia\", a psiquiatra e best-seller Ana Beatriz Barbosa Silva aborda as diferentes manifestações da ansiedade. Medo, estresse e ansiedade, segundo ela, são fatores comuns e até necessários para uma vida mentalmente saudável. O problema, contudo, começa quando eles se agravam a ponto de se apresentarem em suas versões adoecidas: transtorno de estresse pós-traumático, transtorno de ansiedade generalizada, transtorno do pânico, entre outros. Através de sua linguagem objetiva e acessível, a autora analisa as causas, desdobramentos e possíveis formas de lidar com essas doenças.',\n",
       "  'num_paginas': 296,\n",
       "  'faixa_etaria': 'NOT_MATURE',\n",
       "  'idioma': 'pt-BR',\n",
       "  'link': 'https://play.google.com/store/books/details?id=TEk3DwAAQBAJ&source=gbs_api',\n",
       "  'isbn': {'tipo_isbn': 'ISBN_10', 'valor': '852506548X'},\n",
       "  'imagem': 'http://books.google.com/books/content?id=TEk3DwAAQBAJ&printsec=frontcover&img=1&zoom=5&edge=curl&source=gbs_api'}]"
      ]
     },
     "metadata": {},
     "execution_count": 223
    }
   ],
   "metadata": {}
  },
  {
   "cell_type": "code",
   "execution_count": 81,
   "source": [
    "' MAIN '\r\n",
    "\r\n",
    "url = 'https://www.googleapis.com/books/v1/volumes?q='\r\n",
    "busca = 'mentes'\r\n",
    "\r\n",
    "dados = consumir_api(url,busca)\r\n",
    "dados_limpo = head(dados)"
   ],
   "outputs": [],
   "metadata": {}
  },
  {
   "cell_type": "code",
   "execution_count": 198,
   "source": [
    "dados_limpo[1]['volumeInfo']['imageLinks']['smallThumbnail']"
   ],
   "outputs": [
    {
     "output_type": "execute_result",
     "data": {
      "text/plain": [
       "'http://books.google.com/books/content?id=fljzNAEACAAJ&printsec=frontcover&img=1&zoom=5&source=gbs_api'"
      ]
     },
     "metadata": {},
     "execution_count": 198
    }
   ],
   "metadata": {}
  },
  {
   "cell_type": "code",
   "execution_count": 190,
   "source": [
    "livro = dados_limpo[2]['volumeInfo']\r\n",
    "print(livro)"
   ],
   "outputs": [
    {
     "output_type": "stream",
     "name": "stdout",
     "text": [
      "{'title': 'Mentes sombrias', 'authors': ['Alexandra Bracken'], 'publisher': 'Editora Intrinseca', 'publishedDate': '2018-06-29', 'description': 'A distopia que inspirou o novo filme dos produtores de Stranger Things Do dia para a noite, crianças começam a morrer de um misterioso mal súbito. Em pouco tempo, a doença se espalha e os que sobrevivem a ela desenvolvem habilidades psíquicas assustadoras. Uma delas é Ruby. Na manhã do seu décimo aniversário, um acontecimento aterrador faz com que seus pais a tranquem na garagem e chamem a polícia. A menina é então levada para Thurmond, um acampamento que segue as diretrizes brutais do governo vigente. Seis anos depois, ela se torna uma das jovens mais perigosas de Thurmond, embora tenha que esconder isso a todo custo para a própria segurança. Quando a verdade vem à tona, Ruby desperta o interesse de muitas pessoas e precisa escapar às pressas. Fora dali, ela se alia a fugitivos de outros acampamentos e conhece Liam, que lidera uma fuga em direção ao único refúgio para adolescentes como eles. Por mais que queira fazer amigos e ter uma vida normal, Ruby sabe que isso não vai ser possível, porque nenhum lugar é seguro, e ela não pode confiar em ninguém — nem em si mesma.', 'industryIdentifiers': [{'type': 'ISBN_13', 'identifier': '9788551003824'}, {'type': 'ISBN_10', 'identifier': '8551003828'}], 'readingModes': {'text': True, 'image': True}, 'pageCount': 384, 'printType': 'BOOK', 'categories': ['Fiction'], 'maturityRating': 'NOT_MATURE', 'allowAnonLogging': True, 'contentVersion': '1.3.4.0.preview.3', 'panelizationSummary': {'containsEpubBubbles': False, 'containsImageBubbles': False}, 'imageLinks': {'smallThumbnail': 'http://books.google.com/books/content?id=eNJeDwAAQBAJ&printsec=frontcover&img=1&zoom=5&edge=curl&source=gbs_api', 'thumbnail': 'http://books.google.com/books/content?id=eNJeDwAAQBAJ&printsec=frontcover&img=1&zoom=1&edge=curl&source=gbs_api'}, 'language': 'pt-BR', 'previewLink': 'http://books.google.com.br/books?id=eNJeDwAAQBAJ&printsec=frontcover&dq=mentes&hl=&cd=3&source=gbs_api', 'infoLink': 'https://play.google.com/store/books/details?id=eNJeDwAAQBAJ&source=gbs_api', 'canonicalVolumeLink': 'https://play.google.com/store/books/details?id=eNJeDwAAQBAJ'}\n"
     ]
    }
   ],
   "metadata": {}
  },
  {
   "cell_type": "code",
   "execution_count": 120,
   "source": [
    "valores = dados_limpo[2]['volumeInfo']\r\n",
    "dicionario_livro_limpo = {}\r\n",
    "for coluna in interessantes:\r\n",
    "    dicionario_livro_limpo[coluna] = valores[coluna]"
   ],
   "outputs": [],
   "metadata": {}
  },
  {
   "cell_type": "code",
   "execution_count": 177,
   "source": [
    "livro['industryIdentifiers'][0]['identifier']"
   ],
   "outputs": [
    {
     "output_type": "execute_result",
     "data": {
      "text/plain": [
       "'8579303265'"
      ]
     },
     "metadata": {},
     "execution_count": 177
    }
   ],
   "metadata": {}
  },
  {
   "cell_type": "code",
   "execution_count": 191,
   "source": [],
   "outputs": [],
   "metadata": {}
  },
  {
   "cell_type": "code",
   "execution_count": 209,
   "source": [
    "livro = dados_limpo[1]['volumeInfo']\r\n",
    "\r\n",
    "dict_livro = {\r\n",
    "    'titulo' : livro['title'],\r\n",
    "    'autores' : '; '.join(livro['authors']),\r\n",
    "    'descricao' : livro['description'],\r\n",
    "    'num_paginas' : livro['pageCount'],\r\n",
    "    'faixa_etaria' : livro['maturityRating'],\r\n",
    "    'idioma' : livro['language'],\r\n",
    "    'link' : livro['infoLink'],\r\n",
    "}\r\n",
    "\r\n",
    "## Tratando iSBN\r\n",
    "\r\n",
    "if 'industryIdentifiers' in livro:\r\n",
    "    for isbns in livro['industryIdentifiers']:\r\n",
    "        if isbns['type'] == 'ISBN_13':\r\n",
    "            dict_livro['isbn'] = {'tipo_isbn': isbns['type'], 'valor': isbns['identifier']}\r\n",
    "        elif isbns['type'] == 'ISBN_10':\r\n",
    "            dict_livro['isbn'] = {'tipo_isbn': isbns['type'], 'valor': isbns['identifier']}\r\n",
    "        else:\r\n",
    "            {'tipo_isbn':None}\r\n",
    "else:\r\n",
    "    {'tipo_isbn':None}\r\n",
    "\r\n",
    "## Tratando iSBN ↑\r\n",
    "\r\n",
    "## Tratando Thumb\r\n",
    "\r\n",
    "if 'imageLinks' in livro:\r\n",
    "    if 'smallThumbnail' in livro['imageLinks']:\r\n",
    "        dict_livro['imagem'] = livro['imageLinks']['smallThumbnail']\r\n",
    "    else:\r\n",
    "        dict_livro['imagem'] = 'https://raw.githubusercontent.com/kilerhg/TodoBook/main/imagens/livro_sem_capa.png'\r\n",
    "else:\r\n",
    "    dict_livro['imagem'] = 'https://raw.githubusercontent.com/kilerhg/TodoBook/main/imagens/livro_sem_capa.png'\r\n",
    "\r\n",
    "## Tratando Thumb ↑\r\n"
   ],
   "outputs": [],
   "metadata": {}
  },
  {
   "cell_type": "code",
   "execution_count": 210,
   "source": [
    "dict_livro"
   ],
   "outputs": [
    {
     "output_type": "execute_result",
     "data": {
      "text/plain": [
       "{'titulo': 'Mentes Brilhantes',\n",
       " 'autores': \"Alberto Dell'isola\",\n",
       " 'descricao': \"Todo mundo reconhece aqueles que inovam, criam ou provocam situações que, de alguma forma, chamam a atenção. Então, faz sentido afirmar que o segredo do sucesso pode ser resumido em ser criativo. Neste livro de Alberto Dell'Isola, o leitor entrará em contato com técnicas profissionais para desenvolver toda a capacidade do cérebro. E, dessa\",\n",
       " 'num_paginas': 208,\n",
       " 'faixa_etaria': 'NOT_MATURE',\n",
       " 'idioma': 'pt-BR',\n",
       " 'link': 'http://books.google.com.br/books?id=fljzNAEACAAJ&dq=mentes&hl=&source=gbs_api',\n",
       " 'isbn': {'tipo_isbn': 'ISBN_13', 'valor': '9788579303265'},\n",
       " 'imagem': 'http://books.google.com/books/content?id=fljzNAEACAAJ&printsec=frontcover&img=1&zoom=5&source=gbs_api'}"
      ]
     },
     "metadata": {},
     "execution_count": 210
    }
   ],
   "metadata": {}
  },
  {
   "cell_type": "code",
   "execution_count": 115,
   "source": [
    "dicionario_livro_limpo\r\n",
    "\r\n",
    "# '' : livro['imageLinks'],\r\n",
    "# #  https://raw.githubusercontent.com/kilerhg/TodoBook/main/imagens/livro_sem_capa.png\r\n",
    "# 'ISBN' : livro['industryIdentifiers'],\r\n",
    "\r\n"
   ],
   "outputs": [
    {
     "output_type": "execute_result",
     "data": {
      "text/plain": [
       "{'title': 'Mentes Geniais',\n",
       " 'authors': [\"Alberto Dell'isola\"],\n",
       " 'description': \"Neste livro, Alberto Dell'Isola procura revelar seus segredos e apresentar uma série de técnicas e exercícios que podem ajudar o leitor a aprimorar de forma significativa a capacidade cognitiva. É possível aprender a treinar o cérebro para gravar o maior número de informações, potencializar a capacidade de aprendizado e descobrir como é possível decorar de maneira eficaz datas, fórmulas, discursos, números e acontecimentos históricos.\",\n",
       " 'industryIdentifiers': [{'type': 'ISBN_10', 'identifier': '8579302765'},\n",
       "  {'type': 'ISBN_13', 'identifier': '9788579302763'}],\n",
       " 'maturityRating': 'NOT_MATURE',\n",
       " 'language': 'pt-BR',\n",
       " 'infoLink': 'http://books.google.com.br/books?id=HLi2wAEACAAJ&dq=mentes&hl=&source=gbs_api'}"
      ]
     },
     "metadata": {},
     "execution_count": 115
    }
   ],
   "metadata": {}
  },
  {
   "cell_type": "code",
   "execution_count": 52,
   "source": [
    "dados_limpo[5]['volumeInfo']"
   ],
   "outputs": [
    {
     "output_type": "error",
     "ename": "IndexError",
     "evalue": "list index out of range",
     "traceback": [
      "\u001b[1;31m---------------------------------------------------------------------------\u001b[0m",
      "\u001b[1;31mIndexError\u001b[0m                                Traceback (most recent call last)",
      "\u001b[1;32m~\\AppData\\Local\\Temp/ipykernel_16004/2866281969.py\u001b[0m in \u001b[0;36m<module>\u001b[1;34m\u001b[0m\n\u001b[1;32m----> 1\u001b[1;33m \u001b[0mdados_limpo\u001b[0m\u001b[1;33m[\u001b[0m\u001b[1;36m5\u001b[0m\u001b[1;33m]\u001b[0m\u001b[1;33m[\u001b[0m\u001b[1;34m'volumeInfo'\u001b[0m\u001b[1;33m]\u001b[0m\u001b[1;33m\u001b[0m\u001b[1;33m\u001b[0m\u001b[0m\n\u001b[0m",
      "\u001b[1;31mIndexError\u001b[0m: list index out of range"
     ]
    }
   ],
   "metadata": {}
  },
  {
   "cell_type": "code",
   "execution_count": 105,
   "source": [
    "interessantes = ['title', 'authors', 'description', 'industryIdentifiers', 'maturityRating', 'language', 'infoLink']\r\n",
    "interessantes_opc = ['publisher', 'imageLinks']"
   ],
   "outputs": [],
   "metadata": {}
  },
  {
   "cell_type": "code",
   "execution_count": 79,
   "source": [
    "livro = dados_limpo[0]['volumeInfo']\r\n",
    "for coluna in interessantes:\r\n",
    "    limpo = livro['volumeInfo']\r\n",
    "    if coluna in limpo:\r\n",
    "        print(limpo[coluna])"
   ],
   "outputs": [],
   "metadata": {}
  },
  {
   "cell_type": "code",
   "execution_count": 64,
   "source": [
    "for livro['volumeInfo'] in dados_limpo:\r\n",
    "    print('-=-=-=')\r\n",
    "    print(dados_limpo)\r\n",
    "    for coluna in interessantes:\r\n",
    "        if coluna in livro['volumeInfo']:\r\n",
    "            print(livro[coluna])"
   ],
   "outputs": [
    {
     "output_type": "stream",
     "name": "stdout",
     "text": [
      "-=-=-=\n",
      "[{'kind': 'books#volume', 'id': 'HLi2wAEACAAJ', 'etag': 'TmDfPqYgi9k', 'selfLink': 'https://www.googleapis.com/books/v1/volumes/HLi2wAEACAAJ', 'volumeInfo': {...}, 'saleInfo': {'country': 'BR', 'saleability': 'NOT_FOR_SALE', 'isEbook': False}, 'accessInfo': {'country': 'BR', 'viewability': 'NO_PAGES', 'embeddable': False, 'publicDomain': False, 'textToSpeechPermission': 'ALLOWED', 'epub': {'isAvailable': False}, 'pdf': {'isAvailable': False}, 'webReaderLink': 'http://play.google.com/books/reader?id=HLi2wAEACAAJ&hl=&printsec=frontcover&source=gbs_api', 'accessViewStatus': 'NONE', 'quoteSharingAllowed': False}, 'searchInfo': {'textSnippet': 'Alberto Dell’isola: O Homem-memória brasileiro, detentor de dois recordes latino-americanos de memorização• Técnicas efetivas de memorização• Como memorizar nomes, fisionomias e datas• Memorize leis e artigos jurídicos • ...'}}, {'kind': 'books#volume', 'id': 'fljzNAEACAAJ', 'etag': 'URQWJGPYHGk', 'selfLink': 'https://www.googleapis.com/books/v1/volumes/fljzNAEACAAJ', 'volumeInfo': {'title': 'Mentes Brilhantes', 'authors': [\"Alberto Dell'isola\"], 'publishedDate': '2020-02-19', 'description': \"Todo mundo reconhece aqueles que inovam, criam ou provocam situações que, de alguma forma, chamam a atenção. Então, faz sentido afirmar que o segredo do sucesso pode ser resumido em ser criativo. Neste livro de Alberto Dell'Isola, o leitor entrará em contato com técnicas profissionais para desenvolver toda a capacidade do cérebro. E, dessa\", 'industryIdentifiers': [{'type': 'ISBN_10', 'identifier': '8579303265'}, {'type': 'ISBN_13', 'identifier': '9788579303265'}], 'readingModes': {'text': False, 'image': False}, 'pageCount': 208, 'printType': 'BOOK', 'maturityRating': 'NOT_MATURE', 'allowAnonLogging': False, 'contentVersion': 'preview-1.0.0', 'panelizationSummary': {'containsEpubBubbles': False, 'containsImageBubbles': False}, 'imageLinks': {'smallThumbnail': 'http://books.google.com/books/content?id=fljzNAEACAAJ&printsec=frontcover&img=1&zoom=5&source=gbs_api', 'thumbnail': 'http://books.google.com/books/content?id=fljzNAEACAAJ&printsec=frontcover&img=1&zoom=1&source=gbs_api'}, 'language': 'pt-BR', 'previewLink': 'http://books.google.com.br/books?id=fljzNAEACAAJ&dq=mentes&hl=&cd=2&source=gbs_api', 'infoLink': 'http://books.google.com.br/books?id=fljzNAEACAAJ&dq=mentes&hl=&source=gbs_api', 'canonicalVolumeLink': 'https://books.google.com/books/about/Mentes_Brilhantes.html?hl=&id=fljzNAEACAAJ'}, 'saleInfo': {'country': 'BR', 'saleability': 'NOT_FOR_SALE', 'isEbook': False}, 'accessInfo': {'country': 'BR', 'viewability': 'NO_PAGES', 'embeddable': False, 'publicDomain': False, 'textToSpeechPermission': 'ALLOWED', 'epub': {'isAvailable': False}, 'pdf': {'isAvailable': False}, 'webReaderLink': 'http://play.google.com/books/reader?id=fljzNAEACAAJ&hl=&printsec=frontcover&source=gbs_api', 'accessViewStatus': 'NONE', 'quoteSharingAllowed': False}, 'searchInfo': {'textSnippet': 'Então, faz sentido afirmar que o segredo do sucesso pode ser resumido em ser criativo. Neste livro de Alberto Dell&#39;Isola, o leitor entrará em contato com técnicas profissionais para desenvolver toda a capacidade do cérebro. E, dessa'}}, {'kind': 'books#volume', 'id': 'eNJeDwAAQBAJ', 'etag': 'iTFCbzCfz8U', 'selfLink': 'https://www.googleapis.com/books/v1/volumes/eNJeDwAAQBAJ', 'volumeInfo': {'title': 'Mentes sombrias', 'authors': ['Alexandra Bracken'], 'publisher': 'Editora Intrinseca', 'publishedDate': '2018-06-29', 'description': 'A distopia que inspirou o novo filme dos produtores de Stranger Things Do dia para a noite, crianças começam a morrer de um misterioso mal súbito. Em pouco tempo, a doença se espalha e os que sobrevivem a ela desenvolvem habilidades psíquicas assustadoras. Uma delas é Ruby. Na manhã do seu décimo aniversário, um acontecimento aterrador faz com que seus pais a tranquem na garagem e chamem a polícia. A menina é então levada para Thurmond, um acampamento que segue as diretrizes brutais do governo vigente. Seis anos depois, ela se torna uma das jovens mais perigosas de Thurmond, embora tenha que esconder isso a todo custo para a própria segurança. Quando a verdade vem à tona, Ruby desperta o interesse de muitas pessoas e precisa escapar às pressas. Fora dali, ela se alia a fugitivos de outros acampamentos e conhece Liam, que lidera uma fuga em direção ao único refúgio para adolescentes como eles. Por mais que queira fazer amigos e ter uma vida normal, Ruby sabe que isso não vai ser possível, porque nenhum lugar é seguro, e ela não pode confiar em ninguém — nem em si mesma.', 'industryIdentifiers': [{'type': 'ISBN_13', 'identifier': '9788551003824'}, {'type': 'ISBN_10', 'identifier': '8551003828'}], 'readingModes': {'text': True, 'image': True}, 'pageCount': 384, 'printType': 'BOOK', 'categories': ['Fiction'], 'maturityRating': 'NOT_MATURE', 'allowAnonLogging': True, 'contentVersion': '1.3.4.0.preview.3', 'panelizationSummary': {'containsEpubBubbles': False, 'containsImageBubbles': False}, 'imageLinks': {'smallThumbnail': 'http://books.google.com/books/content?id=eNJeDwAAQBAJ&printsec=frontcover&img=1&zoom=5&edge=curl&source=gbs_api', 'thumbnail': 'http://books.google.com/books/content?id=eNJeDwAAQBAJ&printsec=frontcover&img=1&zoom=1&edge=curl&source=gbs_api'}, 'language': 'pt-BR', 'previewLink': 'http://books.google.com.br/books?id=eNJeDwAAQBAJ&printsec=frontcover&dq=mentes&hl=&cd=3&source=gbs_api', 'infoLink': 'https://play.google.com/store/books/details?id=eNJeDwAAQBAJ&source=gbs_api', 'canonicalVolumeLink': 'https://play.google.com/store/books/details?id=eNJeDwAAQBAJ'}, 'saleInfo': {'country': 'BR', 'saleability': 'FOR_SALE', 'isEbook': True, 'listPrice': {'amount': 34.9, 'currencyCode': 'BRL'}, 'retailPrice': {'amount': 31.41, 'currencyCode': 'BRL'}, 'buyLink': 'https://play.google.com/store/books/details?id=eNJeDwAAQBAJ&rdid=book-eNJeDwAAQBAJ&rdot=1&source=gbs_api', 'offers': [{'finskyOfferType': 1, 'listPrice': {'amountInMicros': 34900000, 'currencyCode': 'BRL'}, 'retailPrice': {'amountInMicros': 31410000, 'currencyCode': 'BRL'}, 'giftable': True}]}, 'accessInfo': {'country': 'BR', 'viewability': 'PARTIAL', 'embeddable': True, 'publicDomain': False, 'textToSpeechPermission': 'ALLOWED', 'epub': {'isAvailable': True, 'acsTokenLink': 'http://books.google.com.br/books/download/Mentes_sombrias-sample-epub.acsm?id=eNJeDwAAQBAJ&format=epub&output=acs4_fulfillment_token&dl_type=sample&source=gbs_api'}, 'pdf': {'isAvailable': True, 'acsTokenLink': 'http://books.google.com.br/books/download/Mentes_sombrias-sample-pdf.acsm?id=eNJeDwAAQBAJ&format=pdf&output=acs4_fulfillment_token&dl_type=sample&source=gbs_api'}, 'webReaderLink': 'http://play.google.com/books/reader?id=eNJeDwAAQBAJ&hl=&printsec=frontcover&source=gbs_api', 'accessViewStatus': 'SAMPLE', 'quoteSharingAllowed': False}, 'searchInfo': {'textSnippet': 'A distopia que inspirou o novo filme dos produtores de Stranger Things Do dia para a noite, crianças começam a morrer de um misterioso mal súbito.'}}, {'kind': 'books#volume', 'id': '5CXiwAEACAAJ', 'etag': 'UkxTrUUdsSI', 'selfLink': 'https://www.googleapis.com/books/v1/volumes/5CXiwAEACAAJ', 'volumeInfo': {'title': 'Bullying', 'subtitle': 'mentes perigosas nas escolas', 'authors': ['Ana Beatriz Barbosa Silva'], 'publishedDate': '2009', 'description': \"Em 'Bullying - Mentes perigosas nas escolas', a dra. Ana Beatriz faz uma análise sobre um dos tipos de violência que precisa ser combatido. O livro faz uma investigação do problema, apresentando informações aos pais, professores, alunos e profissionais de diversas áreas para identificar esse tipo de violência e suas consequências, como também o que se pode fazer para combatê-la.\", 'industryIdentifiers': [{'type': 'ISBN_10', 'identifier': '8539000598'}, {'type': 'ISBN_13', 'identifier': '9788539000593'}], 'readingModes': {'text': False, 'image': False}, 'pageCount': 187, 'printType': 'BOOK', 'maturityRating': 'NOT_MATURE', 'allowAnonLogging': False, 'contentVersion': 'preview-1.0.0', 'panelizationSummary': {'containsEpubBubbles': False, 'containsImageBubbles': False}, 'language': 'pt-BR', 'previewLink': 'http://books.google.com.br/books?id=5CXiwAEACAAJ&dq=mentes&hl=&cd=4&source=gbs_api', 'infoLink': 'http://books.google.com.br/books?id=5CXiwAEACAAJ&dq=mentes&hl=&source=gbs_api', 'canonicalVolumeLink': 'https://books.google.com/books/about/Bullying.html?hl=&id=5CXiwAEACAAJ'}, 'saleInfo': {'country': 'BR', 'saleability': 'NOT_FOR_SALE', 'isEbook': False}, 'accessInfo': {'country': 'BR', 'viewability': 'NO_PAGES', 'embeddable': False, 'publicDomain': False, 'textToSpeechPermission': 'ALLOWED', 'epub': {'isAvailable': False}, 'pdf': {'isAvailable': False}, 'webReaderLink': 'http://play.google.com/books/reader?id=5CXiwAEACAAJ&hl=&printsec=frontcover&source=gbs_api', 'accessViewStatus': 'NONE', 'quoteSharingAllowed': False}}, {'kind': 'books#volume', 'id': 'TEk3DwAAQBAJ', 'etag': 'za+ORRO7rNw', 'selfLink': 'https://www.googleapis.com/books/v1/volumes/TEk3DwAAQBAJ', 'volumeInfo': {'kind': 'books#volume', 'id': 'HLi2wAEACAAJ', 'etag': 'TmDfPqYgi9k', 'selfLink': 'https://www.googleapis.com/books/v1/volumes/HLi2wAEACAAJ', 'volumeInfo': {...}, 'saleInfo': {'country': 'BR', 'saleability': 'NOT_FOR_SALE', 'isEbook': False}, 'accessInfo': {'country': 'BR', 'viewability': 'NO_PAGES', 'embeddable': False, 'publicDomain': False, 'textToSpeechPermission': 'ALLOWED', 'epub': {'isAvailable': False}, 'pdf': {'isAvailable': False}, 'webReaderLink': 'http://play.google.com/books/reader?id=HLi2wAEACAAJ&hl=&printsec=frontcover&source=gbs_api', 'accessViewStatus': 'NONE', 'quoteSharingAllowed': False}, 'searchInfo': {'textSnippet': 'Alberto Dell’isola: O Homem-memória brasileiro, detentor de dois recordes latino-americanos de memorização• Técnicas efetivas de memorização• Como memorizar nomes, fisionomias e datas• Memorize leis e artigos jurídicos • ...'}}, 'saleInfo': {'country': 'BR', 'saleability': 'FOR_SALE', 'isEbook': True, 'listPrice': {'amount': 29.94, 'currencyCode': 'BRL'}, 'retailPrice': {'amount': 27.9, 'currencyCode': 'BRL'}, 'buyLink': 'https://play.google.com/store/books/details?id=TEk3DwAAQBAJ&rdid=book-TEk3DwAAQBAJ&rdot=1&source=gbs_api', 'offers': [{'finskyOfferType': 1, 'listPrice': {'amountInMicros': 29940000, 'currencyCode': 'BRL'}, 'retailPrice': {'amountInMicros': 27900000, 'currencyCode': 'BRL'}, 'giftable': True}]}, 'accessInfo': {'country': 'BR', 'viewability': 'PARTIAL', 'embeddable': True, 'publicDomain': False, 'textToSpeechPermission': 'ALLOWED', 'epub': {'isAvailable': True, 'acsTokenLink': 'http://books.google.com.br/books/download/Mentes_Ansiosas-sample-epub.acsm?id=TEk3DwAAQBAJ&format=epub&output=acs4_fulfillment_token&dl_type=sample&source=gbs_api'}, 'pdf': {'isAvailable': True, 'acsTokenLink': 'http://books.google.com.br/books/download/Mentes_Ansiosas-sample-pdf.acsm?id=TEk3DwAAQBAJ&format=pdf&output=acs4_fulfillment_token&dl_type=sample&source=gbs_api'}, 'webReaderLink': 'http://play.google.com/books/reader?id=TEk3DwAAQBAJ&hl=&printsec=frontcover&source=gbs_api', 'accessViewStatus': 'SAMPLE', 'quoteSharingAllowed': False}, 'searchInfo': {'textSnippet': 'Nesta nova edição revista, atualizada e ampliada de &quot;Mentes ansiosas – o medo e a ansiedade nossos de cada dia&quot;, a psiquiatra e best-seller Ana Beatriz Barbosa Silva aborda as diferentes manifestações da ansiedade.'}}]\n",
      "-=-=-=\n",
      "[{'kind': 'books#volume', 'id': 'HLi2wAEACAAJ', 'etag': 'TmDfPqYgi9k', 'selfLink': 'https://www.googleapis.com/books/v1/volumes/HLi2wAEACAAJ', 'volumeInfo': {...}, 'saleInfo': {'country': 'BR', 'saleability': 'NOT_FOR_SALE', 'isEbook': False}, 'accessInfo': {'country': 'BR', 'viewability': 'NO_PAGES', 'embeddable': False, 'publicDomain': False, 'textToSpeechPermission': 'ALLOWED', 'epub': {'isAvailable': False}, 'pdf': {'isAvailable': False}, 'webReaderLink': 'http://play.google.com/books/reader?id=HLi2wAEACAAJ&hl=&printsec=frontcover&source=gbs_api', 'accessViewStatus': 'NONE', 'quoteSharingAllowed': False}, 'searchInfo': {'textSnippet': 'Alberto Dell’isola: O Homem-memória brasileiro, detentor de dois recordes latino-americanos de memorização• Técnicas efetivas de memorização• Como memorizar nomes, fisionomias e datas• Memorize leis e artigos jurídicos • ...'}}, {'kind': 'books#volume', 'id': 'fljzNAEACAAJ', 'etag': 'URQWJGPYHGk', 'selfLink': 'https://www.googleapis.com/books/v1/volumes/fljzNAEACAAJ', 'volumeInfo': {'title': 'Mentes Brilhantes', 'authors': [\"Alberto Dell'isola\"], 'publishedDate': '2020-02-19', 'description': \"Todo mundo reconhece aqueles que inovam, criam ou provocam situações que, de alguma forma, chamam a atenção. Então, faz sentido afirmar que o segredo do sucesso pode ser resumido em ser criativo. Neste livro de Alberto Dell'Isola, o leitor entrará em contato com técnicas profissionais para desenvolver toda a capacidade do cérebro. E, dessa\", 'industryIdentifiers': [{'type': 'ISBN_10', 'identifier': '8579303265'}, {'type': 'ISBN_13', 'identifier': '9788579303265'}], 'readingModes': {'text': False, 'image': False}, 'pageCount': 208, 'printType': 'BOOK', 'maturityRating': 'NOT_MATURE', 'allowAnonLogging': False, 'contentVersion': 'preview-1.0.0', 'panelizationSummary': {'containsEpubBubbles': False, 'containsImageBubbles': False}, 'imageLinks': {'smallThumbnail': 'http://books.google.com/books/content?id=fljzNAEACAAJ&printsec=frontcover&img=1&zoom=5&source=gbs_api', 'thumbnail': 'http://books.google.com/books/content?id=fljzNAEACAAJ&printsec=frontcover&img=1&zoom=1&source=gbs_api'}, 'language': 'pt-BR', 'previewLink': 'http://books.google.com.br/books?id=fljzNAEACAAJ&dq=mentes&hl=&cd=2&source=gbs_api', 'infoLink': 'http://books.google.com.br/books?id=fljzNAEACAAJ&dq=mentes&hl=&source=gbs_api', 'canonicalVolumeLink': 'https://books.google.com/books/about/Mentes_Brilhantes.html?hl=&id=fljzNAEACAAJ'}, 'saleInfo': {'country': 'BR', 'saleability': 'NOT_FOR_SALE', 'isEbook': False}, 'accessInfo': {'country': 'BR', 'viewability': 'NO_PAGES', 'embeddable': False, 'publicDomain': False, 'textToSpeechPermission': 'ALLOWED', 'epub': {'isAvailable': False}, 'pdf': {'isAvailable': False}, 'webReaderLink': 'http://play.google.com/books/reader?id=fljzNAEACAAJ&hl=&printsec=frontcover&source=gbs_api', 'accessViewStatus': 'NONE', 'quoteSharingAllowed': False}, 'searchInfo': {'textSnippet': 'Então, faz sentido afirmar que o segredo do sucesso pode ser resumido em ser criativo. Neste livro de Alberto Dell&#39;Isola, o leitor entrará em contato com técnicas profissionais para desenvolver toda a capacidade do cérebro. E, dessa'}}, {'kind': 'books#volume', 'id': 'eNJeDwAAQBAJ', 'etag': 'iTFCbzCfz8U', 'selfLink': 'https://www.googleapis.com/books/v1/volumes/eNJeDwAAQBAJ', 'volumeInfo': {'title': 'Mentes sombrias', 'authors': ['Alexandra Bracken'], 'publisher': 'Editora Intrinseca', 'publishedDate': '2018-06-29', 'description': 'A distopia que inspirou o novo filme dos produtores de Stranger Things Do dia para a noite, crianças começam a morrer de um misterioso mal súbito. Em pouco tempo, a doença se espalha e os que sobrevivem a ela desenvolvem habilidades psíquicas assustadoras. Uma delas é Ruby. Na manhã do seu décimo aniversário, um acontecimento aterrador faz com que seus pais a tranquem na garagem e chamem a polícia. A menina é então levada para Thurmond, um acampamento que segue as diretrizes brutais do governo vigente. Seis anos depois, ela se torna uma das jovens mais perigosas de Thurmond, embora tenha que esconder isso a todo custo para a própria segurança. Quando a verdade vem à tona, Ruby desperta o interesse de muitas pessoas e precisa escapar às pressas. Fora dali, ela se alia a fugitivos de outros acampamentos e conhece Liam, que lidera uma fuga em direção ao único refúgio para adolescentes como eles. Por mais que queira fazer amigos e ter uma vida normal, Ruby sabe que isso não vai ser possível, porque nenhum lugar é seguro, e ela não pode confiar em ninguém — nem em si mesma.', 'industryIdentifiers': [{'type': 'ISBN_13', 'identifier': '9788551003824'}, {'type': 'ISBN_10', 'identifier': '8551003828'}], 'readingModes': {'text': True, 'image': True}, 'pageCount': 384, 'printType': 'BOOK', 'categories': ['Fiction'], 'maturityRating': 'NOT_MATURE', 'allowAnonLogging': True, 'contentVersion': '1.3.4.0.preview.3', 'panelizationSummary': {'containsEpubBubbles': False, 'containsImageBubbles': False}, 'imageLinks': {'smallThumbnail': 'http://books.google.com/books/content?id=eNJeDwAAQBAJ&printsec=frontcover&img=1&zoom=5&edge=curl&source=gbs_api', 'thumbnail': 'http://books.google.com/books/content?id=eNJeDwAAQBAJ&printsec=frontcover&img=1&zoom=1&edge=curl&source=gbs_api'}, 'language': 'pt-BR', 'previewLink': 'http://books.google.com.br/books?id=eNJeDwAAQBAJ&printsec=frontcover&dq=mentes&hl=&cd=3&source=gbs_api', 'infoLink': 'https://play.google.com/store/books/details?id=eNJeDwAAQBAJ&source=gbs_api', 'canonicalVolumeLink': 'https://play.google.com/store/books/details?id=eNJeDwAAQBAJ'}, 'saleInfo': {'country': 'BR', 'saleability': 'FOR_SALE', 'isEbook': True, 'listPrice': {'amount': 34.9, 'currencyCode': 'BRL'}, 'retailPrice': {'amount': 31.41, 'currencyCode': 'BRL'}, 'buyLink': 'https://play.google.com/store/books/details?id=eNJeDwAAQBAJ&rdid=book-eNJeDwAAQBAJ&rdot=1&source=gbs_api', 'offers': [{'finskyOfferType': 1, 'listPrice': {'amountInMicros': 34900000, 'currencyCode': 'BRL'}, 'retailPrice': {'amountInMicros': 31410000, 'currencyCode': 'BRL'}, 'giftable': True}]}, 'accessInfo': {'country': 'BR', 'viewability': 'PARTIAL', 'embeddable': True, 'publicDomain': False, 'textToSpeechPermission': 'ALLOWED', 'epub': {'isAvailable': True, 'acsTokenLink': 'http://books.google.com.br/books/download/Mentes_sombrias-sample-epub.acsm?id=eNJeDwAAQBAJ&format=epub&output=acs4_fulfillment_token&dl_type=sample&source=gbs_api'}, 'pdf': {'isAvailable': True, 'acsTokenLink': 'http://books.google.com.br/books/download/Mentes_sombrias-sample-pdf.acsm?id=eNJeDwAAQBAJ&format=pdf&output=acs4_fulfillment_token&dl_type=sample&source=gbs_api'}, 'webReaderLink': 'http://play.google.com/books/reader?id=eNJeDwAAQBAJ&hl=&printsec=frontcover&source=gbs_api', 'accessViewStatus': 'SAMPLE', 'quoteSharingAllowed': False}, 'searchInfo': {'textSnippet': 'A distopia que inspirou o novo filme dos produtores de Stranger Things Do dia para a noite, crianças começam a morrer de um misterioso mal súbito.'}}, {'kind': 'books#volume', 'id': '5CXiwAEACAAJ', 'etag': 'UkxTrUUdsSI', 'selfLink': 'https://www.googleapis.com/books/v1/volumes/5CXiwAEACAAJ', 'volumeInfo': {'title': 'Bullying', 'subtitle': 'mentes perigosas nas escolas', 'authors': ['Ana Beatriz Barbosa Silva'], 'publishedDate': '2009', 'description': \"Em 'Bullying - Mentes perigosas nas escolas', a dra. Ana Beatriz faz uma análise sobre um dos tipos de violência que precisa ser combatido. O livro faz uma investigação do problema, apresentando informações aos pais, professores, alunos e profissionais de diversas áreas para identificar esse tipo de violência e suas consequências, como também o que se pode fazer para combatê-la.\", 'industryIdentifiers': [{'type': 'ISBN_10', 'identifier': '8539000598'}, {'type': 'ISBN_13', 'identifier': '9788539000593'}], 'readingModes': {'text': False, 'image': False}, 'pageCount': 187, 'printType': 'BOOK', 'maturityRating': 'NOT_MATURE', 'allowAnonLogging': False, 'contentVersion': 'preview-1.0.0', 'panelizationSummary': {'containsEpubBubbles': False, 'containsImageBubbles': False}, 'language': 'pt-BR', 'previewLink': 'http://books.google.com.br/books?id=5CXiwAEACAAJ&dq=mentes&hl=&cd=4&source=gbs_api', 'infoLink': 'http://books.google.com.br/books?id=5CXiwAEACAAJ&dq=mentes&hl=&source=gbs_api', 'canonicalVolumeLink': 'https://books.google.com/books/about/Bullying.html?hl=&id=5CXiwAEACAAJ'}, 'saleInfo': {'country': 'BR', 'saleability': 'NOT_FOR_SALE', 'isEbook': False}, 'accessInfo': {'country': 'BR', 'viewability': 'NO_PAGES', 'embeddable': False, 'publicDomain': False, 'textToSpeechPermission': 'ALLOWED', 'epub': {'isAvailable': False}, 'pdf': {'isAvailable': False}, 'webReaderLink': 'http://play.google.com/books/reader?id=5CXiwAEACAAJ&hl=&printsec=frontcover&source=gbs_api', 'accessViewStatus': 'NONE', 'quoteSharingAllowed': False}}, {'kind': 'books#volume', 'id': 'TEk3DwAAQBAJ', 'etag': 'za+ORRO7rNw', 'selfLink': 'https://www.googleapis.com/books/v1/volumes/TEk3DwAAQBAJ', 'volumeInfo': {'kind': 'books#volume', 'id': 'fljzNAEACAAJ', 'etag': 'URQWJGPYHGk', 'selfLink': 'https://www.googleapis.com/books/v1/volumes/fljzNAEACAAJ', 'volumeInfo': {'title': 'Mentes Brilhantes', 'authors': [\"Alberto Dell'isola\"], 'publishedDate': '2020-02-19', 'description': \"Todo mundo reconhece aqueles que inovam, criam ou provocam situações que, de alguma forma, chamam a atenção. Então, faz sentido afirmar que o segredo do sucesso pode ser resumido em ser criativo. Neste livro de Alberto Dell'Isola, o leitor entrará em contato com técnicas profissionais para desenvolver toda a capacidade do cérebro. E, dessa\", 'industryIdentifiers': [{'type': 'ISBN_10', 'identifier': '8579303265'}, {'type': 'ISBN_13', 'identifier': '9788579303265'}], 'readingModes': {'text': False, 'image': False}, 'pageCount': 208, 'printType': 'BOOK', 'maturityRating': 'NOT_MATURE', 'allowAnonLogging': False, 'contentVersion': 'preview-1.0.0', 'panelizationSummary': {'containsEpubBubbles': False, 'containsImageBubbles': False}, 'imageLinks': {'smallThumbnail': 'http://books.google.com/books/content?id=fljzNAEACAAJ&printsec=frontcover&img=1&zoom=5&source=gbs_api', 'thumbnail': 'http://books.google.com/books/content?id=fljzNAEACAAJ&printsec=frontcover&img=1&zoom=1&source=gbs_api'}, 'language': 'pt-BR', 'previewLink': 'http://books.google.com.br/books?id=fljzNAEACAAJ&dq=mentes&hl=&cd=2&source=gbs_api', 'infoLink': 'http://books.google.com.br/books?id=fljzNAEACAAJ&dq=mentes&hl=&source=gbs_api', 'canonicalVolumeLink': 'https://books.google.com/books/about/Mentes_Brilhantes.html?hl=&id=fljzNAEACAAJ'}, 'saleInfo': {'country': 'BR', 'saleability': 'NOT_FOR_SALE', 'isEbook': False}, 'accessInfo': {'country': 'BR', 'viewability': 'NO_PAGES', 'embeddable': False, 'publicDomain': False, 'textToSpeechPermission': 'ALLOWED', 'epub': {'isAvailable': False}, 'pdf': {'isAvailable': False}, 'webReaderLink': 'http://play.google.com/books/reader?id=fljzNAEACAAJ&hl=&printsec=frontcover&source=gbs_api', 'accessViewStatus': 'NONE', 'quoteSharingAllowed': False}, 'searchInfo': {'textSnippet': 'Então, faz sentido afirmar que o segredo do sucesso pode ser resumido em ser criativo. Neste livro de Alberto Dell&#39;Isola, o leitor entrará em contato com técnicas profissionais para desenvolver toda a capacidade do cérebro. E, dessa'}}, 'saleInfo': {'country': 'BR', 'saleability': 'FOR_SALE', 'isEbook': True, 'listPrice': {'amount': 29.94, 'currencyCode': 'BRL'}, 'retailPrice': {'amount': 27.9, 'currencyCode': 'BRL'}, 'buyLink': 'https://play.google.com/store/books/details?id=TEk3DwAAQBAJ&rdid=book-TEk3DwAAQBAJ&rdot=1&source=gbs_api', 'offers': [{'finskyOfferType': 1, 'listPrice': {'amountInMicros': 29940000, 'currencyCode': 'BRL'}, 'retailPrice': {'amountInMicros': 27900000, 'currencyCode': 'BRL'}, 'giftable': True}]}, 'accessInfo': {'country': 'BR', 'viewability': 'PARTIAL', 'embeddable': True, 'publicDomain': False, 'textToSpeechPermission': 'ALLOWED', 'epub': {'isAvailable': True, 'acsTokenLink': 'http://books.google.com.br/books/download/Mentes_Ansiosas-sample-epub.acsm?id=TEk3DwAAQBAJ&format=epub&output=acs4_fulfillment_token&dl_type=sample&source=gbs_api'}, 'pdf': {'isAvailable': True, 'acsTokenLink': 'http://books.google.com.br/books/download/Mentes_Ansiosas-sample-pdf.acsm?id=TEk3DwAAQBAJ&format=pdf&output=acs4_fulfillment_token&dl_type=sample&source=gbs_api'}, 'webReaderLink': 'http://play.google.com/books/reader?id=TEk3DwAAQBAJ&hl=&printsec=frontcover&source=gbs_api', 'accessViewStatus': 'SAMPLE', 'quoteSharingAllowed': False}, 'searchInfo': {'textSnippet': 'Nesta nova edição revista, atualizada e ampliada de &quot;Mentes ansiosas – o medo e a ansiedade nossos de cada dia&quot;, a psiquiatra e best-seller Ana Beatriz Barbosa Silva aborda as diferentes manifestações da ansiedade.'}}]\n",
      "-=-=-=\n",
      "[{'kind': 'books#volume', 'id': 'HLi2wAEACAAJ', 'etag': 'TmDfPqYgi9k', 'selfLink': 'https://www.googleapis.com/books/v1/volumes/HLi2wAEACAAJ', 'volumeInfo': {...}, 'saleInfo': {'country': 'BR', 'saleability': 'NOT_FOR_SALE', 'isEbook': False}, 'accessInfo': {'country': 'BR', 'viewability': 'NO_PAGES', 'embeddable': False, 'publicDomain': False, 'textToSpeechPermission': 'ALLOWED', 'epub': {'isAvailable': False}, 'pdf': {'isAvailable': False}, 'webReaderLink': 'http://play.google.com/books/reader?id=HLi2wAEACAAJ&hl=&printsec=frontcover&source=gbs_api', 'accessViewStatus': 'NONE', 'quoteSharingAllowed': False}, 'searchInfo': {'textSnippet': 'Alberto Dell’isola: O Homem-memória brasileiro, detentor de dois recordes latino-americanos de memorização• Técnicas efetivas de memorização• Como memorizar nomes, fisionomias e datas• Memorize leis e artigos jurídicos • ...'}}, {'kind': 'books#volume', 'id': 'fljzNAEACAAJ', 'etag': 'URQWJGPYHGk', 'selfLink': 'https://www.googleapis.com/books/v1/volumes/fljzNAEACAAJ', 'volumeInfo': {'title': 'Mentes Brilhantes', 'authors': [\"Alberto Dell'isola\"], 'publishedDate': '2020-02-19', 'description': \"Todo mundo reconhece aqueles que inovam, criam ou provocam situações que, de alguma forma, chamam a atenção. Então, faz sentido afirmar que o segredo do sucesso pode ser resumido em ser criativo. Neste livro de Alberto Dell'Isola, o leitor entrará em contato com técnicas profissionais para desenvolver toda a capacidade do cérebro. E, dessa\", 'industryIdentifiers': [{'type': 'ISBN_10', 'identifier': '8579303265'}, {'type': 'ISBN_13', 'identifier': '9788579303265'}], 'readingModes': {'text': False, 'image': False}, 'pageCount': 208, 'printType': 'BOOK', 'maturityRating': 'NOT_MATURE', 'allowAnonLogging': False, 'contentVersion': 'preview-1.0.0', 'panelizationSummary': {'containsEpubBubbles': False, 'containsImageBubbles': False}, 'imageLinks': {'smallThumbnail': 'http://books.google.com/books/content?id=fljzNAEACAAJ&printsec=frontcover&img=1&zoom=5&source=gbs_api', 'thumbnail': 'http://books.google.com/books/content?id=fljzNAEACAAJ&printsec=frontcover&img=1&zoom=1&source=gbs_api'}, 'language': 'pt-BR', 'previewLink': 'http://books.google.com.br/books?id=fljzNAEACAAJ&dq=mentes&hl=&cd=2&source=gbs_api', 'infoLink': 'http://books.google.com.br/books?id=fljzNAEACAAJ&dq=mentes&hl=&source=gbs_api', 'canonicalVolumeLink': 'https://books.google.com/books/about/Mentes_Brilhantes.html?hl=&id=fljzNAEACAAJ'}, 'saleInfo': {'country': 'BR', 'saleability': 'NOT_FOR_SALE', 'isEbook': False}, 'accessInfo': {'country': 'BR', 'viewability': 'NO_PAGES', 'embeddable': False, 'publicDomain': False, 'textToSpeechPermission': 'ALLOWED', 'epub': {'isAvailable': False}, 'pdf': {'isAvailable': False}, 'webReaderLink': 'http://play.google.com/books/reader?id=fljzNAEACAAJ&hl=&printsec=frontcover&source=gbs_api', 'accessViewStatus': 'NONE', 'quoteSharingAllowed': False}, 'searchInfo': {'textSnippet': 'Então, faz sentido afirmar que o segredo do sucesso pode ser resumido em ser criativo. Neste livro de Alberto Dell&#39;Isola, o leitor entrará em contato com técnicas profissionais para desenvolver toda a capacidade do cérebro. E, dessa'}}, {'kind': 'books#volume', 'id': 'eNJeDwAAQBAJ', 'etag': 'iTFCbzCfz8U', 'selfLink': 'https://www.googleapis.com/books/v1/volumes/eNJeDwAAQBAJ', 'volumeInfo': {'title': 'Mentes sombrias', 'authors': ['Alexandra Bracken'], 'publisher': 'Editora Intrinseca', 'publishedDate': '2018-06-29', 'description': 'A distopia que inspirou o novo filme dos produtores de Stranger Things Do dia para a noite, crianças começam a morrer de um misterioso mal súbito. Em pouco tempo, a doença se espalha e os que sobrevivem a ela desenvolvem habilidades psíquicas assustadoras. Uma delas é Ruby. Na manhã do seu décimo aniversário, um acontecimento aterrador faz com que seus pais a tranquem na garagem e chamem a polícia. A menina é então levada para Thurmond, um acampamento que segue as diretrizes brutais do governo vigente. Seis anos depois, ela se torna uma das jovens mais perigosas de Thurmond, embora tenha que esconder isso a todo custo para a própria segurança. Quando a verdade vem à tona, Ruby desperta o interesse de muitas pessoas e precisa escapar às pressas. Fora dali, ela se alia a fugitivos de outros acampamentos e conhece Liam, que lidera uma fuga em direção ao único refúgio para adolescentes como eles. Por mais que queira fazer amigos e ter uma vida normal, Ruby sabe que isso não vai ser possível, porque nenhum lugar é seguro, e ela não pode confiar em ninguém — nem em si mesma.', 'industryIdentifiers': [{'type': 'ISBN_13', 'identifier': '9788551003824'}, {'type': 'ISBN_10', 'identifier': '8551003828'}], 'readingModes': {'text': True, 'image': True}, 'pageCount': 384, 'printType': 'BOOK', 'categories': ['Fiction'], 'maturityRating': 'NOT_MATURE', 'allowAnonLogging': True, 'contentVersion': '1.3.4.0.preview.3', 'panelizationSummary': {'containsEpubBubbles': False, 'containsImageBubbles': False}, 'imageLinks': {'smallThumbnail': 'http://books.google.com/books/content?id=eNJeDwAAQBAJ&printsec=frontcover&img=1&zoom=5&edge=curl&source=gbs_api', 'thumbnail': 'http://books.google.com/books/content?id=eNJeDwAAQBAJ&printsec=frontcover&img=1&zoom=1&edge=curl&source=gbs_api'}, 'language': 'pt-BR', 'previewLink': 'http://books.google.com.br/books?id=eNJeDwAAQBAJ&printsec=frontcover&dq=mentes&hl=&cd=3&source=gbs_api', 'infoLink': 'https://play.google.com/store/books/details?id=eNJeDwAAQBAJ&source=gbs_api', 'canonicalVolumeLink': 'https://play.google.com/store/books/details?id=eNJeDwAAQBAJ'}, 'saleInfo': {'country': 'BR', 'saleability': 'FOR_SALE', 'isEbook': True, 'listPrice': {'amount': 34.9, 'currencyCode': 'BRL'}, 'retailPrice': {'amount': 31.41, 'currencyCode': 'BRL'}, 'buyLink': 'https://play.google.com/store/books/details?id=eNJeDwAAQBAJ&rdid=book-eNJeDwAAQBAJ&rdot=1&source=gbs_api', 'offers': [{'finskyOfferType': 1, 'listPrice': {'amountInMicros': 34900000, 'currencyCode': 'BRL'}, 'retailPrice': {'amountInMicros': 31410000, 'currencyCode': 'BRL'}, 'giftable': True}]}, 'accessInfo': {'country': 'BR', 'viewability': 'PARTIAL', 'embeddable': True, 'publicDomain': False, 'textToSpeechPermission': 'ALLOWED', 'epub': {'isAvailable': True, 'acsTokenLink': 'http://books.google.com.br/books/download/Mentes_sombrias-sample-epub.acsm?id=eNJeDwAAQBAJ&format=epub&output=acs4_fulfillment_token&dl_type=sample&source=gbs_api'}, 'pdf': {'isAvailable': True, 'acsTokenLink': 'http://books.google.com.br/books/download/Mentes_sombrias-sample-pdf.acsm?id=eNJeDwAAQBAJ&format=pdf&output=acs4_fulfillment_token&dl_type=sample&source=gbs_api'}, 'webReaderLink': 'http://play.google.com/books/reader?id=eNJeDwAAQBAJ&hl=&printsec=frontcover&source=gbs_api', 'accessViewStatus': 'SAMPLE', 'quoteSharingAllowed': False}, 'searchInfo': {'textSnippet': 'A distopia que inspirou o novo filme dos produtores de Stranger Things Do dia para a noite, crianças começam a morrer de um misterioso mal súbito.'}}, {'kind': 'books#volume', 'id': '5CXiwAEACAAJ', 'etag': 'UkxTrUUdsSI', 'selfLink': 'https://www.googleapis.com/books/v1/volumes/5CXiwAEACAAJ', 'volumeInfo': {'title': 'Bullying', 'subtitle': 'mentes perigosas nas escolas', 'authors': ['Ana Beatriz Barbosa Silva'], 'publishedDate': '2009', 'description': \"Em 'Bullying - Mentes perigosas nas escolas', a dra. Ana Beatriz faz uma análise sobre um dos tipos de violência que precisa ser combatido. O livro faz uma investigação do problema, apresentando informações aos pais, professores, alunos e profissionais de diversas áreas para identificar esse tipo de violência e suas consequências, como também o que se pode fazer para combatê-la.\", 'industryIdentifiers': [{'type': 'ISBN_10', 'identifier': '8539000598'}, {'type': 'ISBN_13', 'identifier': '9788539000593'}], 'readingModes': {'text': False, 'image': False}, 'pageCount': 187, 'printType': 'BOOK', 'maturityRating': 'NOT_MATURE', 'allowAnonLogging': False, 'contentVersion': 'preview-1.0.0', 'panelizationSummary': {'containsEpubBubbles': False, 'containsImageBubbles': False}, 'language': 'pt-BR', 'previewLink': 'http://books.google.com.br/books?id=5CXiwAEACAAJ&dq=mentes&hl=&cd=4&source=gbs_api', 'infoLink': 'http://books.google.com.br/books?id=5CXiwAEACAAJ&dq=mentes&hl=&source=gbs_api', 'canonicalVolumeLink': 'https://books.google.com/books/about/Bullying.html?hl=&id=5CXiwAEACAAJ'}, 'saleInfo': {'country': 'BR', 'saleability': 'NOT_FOR_SALE', 'isEbook': False}, 'accessInfo': {'country': 'BR', 'viewability': 'NO_PAGES', 'embeddable': False, 'publicDomain': False, 'textToSpeechPermission': 'ALLOWED', 'epub': {'isAvailable': False}, 'pdf': {'isAvailable': False}, 'webReaderLink': 'http://play.google.com/books/reader?id=5CXiwAEACAAJ&hl=&printsec=frontcover&source=gbs_api', 'accessViewStatus': 'NONE', 'quoteSharingAllowed': False}}, {'kind': 'books#volume', 'id': 'TEk3DwAAQBAJ', 'etag': 'za+ORRO7rNw', 'selfLink': 'https://www.googleapis.com/books/v1/volumes/TEk3DwAAQBAJ', 'volumeInfo': {'kind': 'books#volume', 'id': 'eNJeDwAAQBAJ', 'etag': 'iTFCbzCfz8U', 'selfLink': 'https://www.googleapis.com/books/v1/volumes/eNJeDwAAQBAJ', 'volumeInfo': {'title': 'Mentes sombrias', 'authors': ['Alexandra Bracken'], 'publisher': 'Editora Intrinseca', 'publishedDate': '2018-06-29', 'description': 'A distopia que inspirou o novo filme dos produtores de Stranger Things Do dia para a noite, crianças começam a morrer de um misterioso mal súbito. Em pouco tempo, a doença se espalha e os que sobrevivem a ela desenvolvem habilidades psíquicas assustadoras. Uma delas é Ruby. Na manhã do seu décimo aniversário, um acontecimento aterrador faz com que seus pais a tranquem na garagem e chamem a polícia. A menina é então levada para Thurmond, um acampamento que segue as diretrizes brutais do governo vigente. Seis anos depois, ela se torna uma das jovens mais perigosas de Thurmond, embora tenha que esconder isso a todo custo para a própria segurança. Quando a verdade vem à tona, Ruby desperta o interesse de muitas pessoas e precisa escapar às pressas. Fora dali, ela se alia a fugitivos de outros acampamentos e conhece Liam, que lidera uma fuga em direção ao único refúgio para adolescentes como eles. Por mais que queira fazer amigos e ter uma vida normal, Ruby sabe que isso não vai ser possível, porque nenhum lugar é seguro, e ela não pode confiar em ninguém — nem em si mesma.', 'industryIdentifiers': [{'type': 'ISBN_13', 'identifier': '9788551003824'}, {'type': 'ISBN_10', 'identifier': '8551003828'}], 'readingModes': {'text': True, 'image': True}, 'pageCount': 384, 'printType': 'BOOK', 'categories': ['Fiction'], 'maturityRating': 'NOT_MATURE', 'allowAnonLogging': True, 'contentVersion': '1.3.4.0.preview.3', 'panelizationSummary': {'containsEpubBubbles': False, 'containsImageBubbles': False}, 'imageLinks': {'smallThumbnail': 'http://books.google.com/books/content?id=eNJeDwAAQBAJ&printsec=frontcover&img=1&zoom=5&edge=curl&source=gbs_api', 'thumbnail': 'http://books.google.com/books/content?id=eNJeDwAAQBAJ&printsec=frontcover&img=1&zoom=1&edge=curl&source=gbs_api'}, 'language': 'pt-BR', 'previewLink': 'http://books.google.com.br/books?id=eNJeDwAAQBAJ&printsec=frontcover&dq=mentes&hl=&cd=3&source=gbs_api', 'infoLink': 'https://play.google.com/store/books/details?id=eNJeDwAAQBAJ&source=gbs_api', 'canonicalVolumeLink': 'https://play.google.com/store/books/details?id=eNJeDwAAQBAJ'}, 'saleInfo': {'country': 'BR', 'saleability': 'FOR_SALE', 'isEbook': True, 'listPrice': {'amount': 34.9, 'currencyCode': 'BRL'}, 'retailPrice': {'amount': 31.41, 'currencyCode': 'BRL'}, 'buyLink': 'https://play.google.com/store/books/details?id=eNJeDwAAQBAJ&rdid=book-eNJeDwAAQBAJ&rdot=1&source=gbs_api', 'offers': [{'finskyOfferType': 1, 'listPrice': {'amountInMicros': 34900000, 'currencyCode': 'BRL'}, 'retailPrice': {'amountInMicros': 31410000, 'currencyCode': 'BRL'}, 'giftable': True}]}, 'accessInfo': {'country': 'BR', 'viewability': 'PARTIAL', 'embeddable': True, 'publicDomain': False, 'textToSpeechPermission': 'ALLOWED', 'epub': {'isAvailable': True, 'acsTokenLink': 'http://books.google.com.br/books/download/Mentes_sombrias-sample-epub.acsm?id=eNJeDwAAQBAJ&format=epub&output=acs4_fulfillment_token&dl_type=sample&source=gbs_api'}, 'pdf': {'isAvailable': True, 'acsTokenLink': 'http://books.google.com.br/books/download/Mentes_sombrias-sample-pdf.acsm?id=eNJeDwAAQBAJ&format=pdf&output=acs4_fulfillment_token&dl_type=sample&source=gbs_api'}, 'webReaderLink': 'http://play.google.com/books/reader?id=eNJeDwAAQBAJ&hl=&printsec=frontcover&source=gbs_api', 'accessViewStatus': 'SAMPLE', 'quoteSharingAllowed': False}, 'searchInfo': {'textSnippet': 'A distopia que inspirou o novo filme dos produtores de Stranger Things Do dia para a noite, crianças começam a morrer de um misterioso mal súbito.'}}, 'saleInfo': {'country': 'BR', 'saleability': 'FOR_SALE', 'isEbook': True, 'listPrice': {'amount': 29.94, 'currencyCode': 'BRL'}, 'retailPrice': {'amount': 27.9, 'currencyCode': 'BRL'}, 'buyLink': 'https://play.google.com/store/books/details?id=TEk3DwAAQBAJ&rdid=book-TEk3DwAAQBAJ&rdot=1&source=gbs_api', 'offers': [{'finskyOfferType': 1, 'listPrice': {'amountInMicros': 29940000, 'currencyCode': 'BRL'}, 'retailPrice': {'amountInMicros': 27900000, 'currencyCode': 'BRL'}, 'giftable': True}]}, 'accessInfo': {'country': 'BR', 'viewability': 'PARTIAL', 'embeddable': True, 'publicDomain': False, 'textToSpeechPermission': 'ALLOWED', 'epub': {'isAvailable': True, 'acsTokenLink': 'http://books.google.com.br/books/download/Mentes_Ansiosas-sample-epub.acsm?id=TEk3DwAAQBAJ&format=epub&output=acs4_fulfillment_token&dl_type=sample&source=gbs_api'}, 'pdf': {'isAvailable': True, 'acsTokenLink': 'http://books.google.com.br/books/download/Mentes_Ansiosas-sample-pdf.acsm?id=TEk3DwAAQBAJ&format=pdf&output=acs4_fulfillment_token&dl_type=sample&source=gbs_api'}, 'webReaderLink': 'http://play.google.com/books/reader?id=TEk3DwAAQBAJ&hl=&printsec=frontcover&source=gbs_api', 'accessViewStatus': 'SAMPLE', 'quoteSharingAllowed': False}, 'searchInfo': {'textSnippet': 'Nesta nova edição revista, atualizada e ampliada de &quot;Mentes ansiosas – o medo e a ansiedade nossos de cada dia&quot;, a psiquiatra e best-seller Ana Beatriz Barbosa Silva aborda as diferentes manifestações da ansiedade.'}}]\n",
      "-=-=-=\n",
      "[{'kind': 'books#volume', 'id': 'HLi2wAEACAAJ', 'etag': 'TmDfPqYgi9k', 'selfLink': 'https://www.googleapis.com/books/v1/volumes/HLi2wAEACAAJ', 'volumeInfo': {...}, 'saleInfo': {'country': 'BR', 'saleability': 'NOT_FOR_SALE', 'isEbook': False}, 'accessInfo': {'country': 'BR', 'viewability': 'NO_PAGES', 'embeddable': False, 'publicDomain': False, 'textToSpeechPermission': 'ALLOWED', 'epub': {'isAvailable': False}, 'pdf': {'isAvailable': False}, 'webReaderLink': 'http://play.google.com/books/reader?id=HLi2wAEACAAJ&hl=&printsec=frontcover&source=gbs_api', 'accessViewStatus': 'NONE', 'quoteSharingAllowed': False}, 'searchInfo': {'textSnippet': 'Alberto Dell’isola: O Homem-memória brasileiro, detentor de dois recordes latino-americanos de memorização• Técnicas efetivas de memorização• Como memorizar nomes, fisionomias e datas• Memorize leis e artigos jurídicos • ...'}}, {'kind': 'books#volume', 'id': 'fljzNAEACAAJ', 'etag': 'URQWJGPYHGk', 'selfLink': 'https://www.googleapis.com/books/v1/volumes/fljzNAEACAAJ', 'volumeInfo': {'title': 'Mentes Brilhantes', 'authors': [\"Alberto Dell'isola\"], 'publishedDate': '2020-02-19', 'description': \"Todo mundo reconhece aqueles que inovam, criam ou provocam situações que, de alguma forma, chamam a atenção. Então, faz sentido afirmar que o segredo do sucesso pode ser resumido em ser criativo. Neste livro de Alberto Dell'Isola, o leitor entrará em contato com técnicas profissionais para desenvolver toda a capacidade do cérebro. E, dessa\", 'industryIdentifiers': [{'type': 'ISBN_10', 'identifier': '8579303265'}, {'type': 'ISBN_13', 'identifier': '9788579303265'}], 'readingModes': {'text': False, 'image': False}, 'pageCount': 208, 'printType': 'BOOK', 'maturityRating': 'NOT_MATURE', 'allowAnonLogging': False, 'contentVersion': 'preview-1.0.0', 'panelizationSummary': {'containsEpubBubbles': False, 'containsImageBubbles': False}, 'imageLinks': {'smallThumbnail': 'http://books.google.com/books/content?id=fljzNAEACAAJ&printsec=frontcover&img=1&zoom=5&source=gbs_api', 'thumbnail': 'http://books.google.com/books/content?id=fljzNAEACAAJ&printsec=frontcover&img=1&zoom=1&source=gbs_api'}, 'language': 'pt-BR', 'previewLink': 'http://books.google.com.br/books?id=fljzNAEACAAJ&dq=mentes&hl=&cd=2&source=gbs_api', 'infoLink': 'http://books.google.com.br/books?id=fljzNAEACAAJ&dq=mentes&hl=&source=gbs_api', 'canonicalVolumeLink': 'https://books.google.com/books/about/Mentes_Brilhantes.html?hl=&id=fljzNAEACAAJ'}, 'saleInfo': {'country': 'BR', 'saleability': 'NOT_FOR_SALE', 'isEbook': False}, 'accessInfo': {'country': 'BR', 'viewability': 'NO_PAGES', 'embeddable': False, 'publicDomain': False, 'textToSpeechPermission': 'ALLOWED', 'epub': {'isAvailable': False}, 'pdf': {'isAvailable': False}, 'webReaderLink': 'http://play.google.com/books/reader?id=fljzNAEACAAJ&hl=&printsec=frontcover&source=gbs_api', 'accessViewStatus': 'NONE', 'quoteSharingAllowed': False}, 'searchInfo': {'textSnippet': 'Então, faz sentido afirmar que o segredo do sucesso pode ser resumido em ser criativo. Neste livro de Alberto Dell&#39;Isola, o leitor entrará em contato com técnicas profissionais para desenvolver toda a capacidade do cérebro. E, dessa'}}, {'kind': 'books#volume', 'id': 'eNJeDwAAQBAJ', 'etag': 'iTFCbzCfz8U', 'selfLink': 'https://www.googleapis.com/books/v1/volumes/eNJeDwAAQBAJ', 'volumeInfo': {'title': 'Mentes sombrias', 'authors': ['Alexandra Bracken'], 'publisher': 'Editora Intrinseca', 'publishedDate': '2018-06-29', 'description': 'A distopia que inspirou o novo filme dos produtores de Stranger Things Do dia para a noite, crianças começam a morrer de um misterioso mal súbito. Em pouco tempo, a doença se espalha e os que sobrevivem a ela desenvolvem habilidades psíquicas assustadoras. Uma delas é Ruby. Na manhã do seu décimo aniversário, um acontecimento aterrador faz com que seus pais a tranquem na garagem e chamem a polícia. A menina é então levada para Thurmond, um acampamento que segue as diretrizes brutais do governo vigente. Seis anos depois, ela se torna uma das jovens mais perigosas de Thurmond, embora tenha que esconder isso a todo custo para a própria segurança. Quando a verdade vem à tona, Ruby desperta o interesse de muitas pessoas e precisa escapar às pressas. Fora dali, ela se alia a fugitivos de outros acampamentos e conhece Liam, que lidera uma fuga em direção ao único refúgio para adolescentes como eles. Por mais que queira fazer amigos e ter uma vida normal, Ruby sabe que isso não vai ser possível, porque nenhum lugar é seguro, e ela não pode confiar em ninguém — nem em si mesma.', 'industryIdentifiers': [{'type': 'ISBN_13', 'identifier': '9788551003824'}, {'type': 'ISBN_10', 'identifier': '8551003828'}], 'readingModes': {'text': True, 'image': True}, 'pageCount': 384, 'printType': 'BOOK', 'categories': ['Fiction'], 'maturityRating': 'NOT_MATURE', 'allowAnonLogging': True, 'contentVersion': '1.3.4.0.preview.3', 'panelizationSummary': {'containsEpubBubbles': False, 'containsImageBubbles': False}, 'imageLinks': {'smallThumbnail': 'http://books.google.com/books/content?id=eNJeDwAAQBAJ&printsec=frontcover&img=1&zoom=5&edge=curl&source=gbs_api', 'thumbnail': 'http://books.google.com/books/content?id=eNJeDwAAQBAJ&printsec=frontcover&img=1&zoom=1&edge=curl&source=gbs_api'}, 'language': 'pt-BR', 'previewLink': 'http://books.google.com.br/books?id=eNJeDwAAQBAJ&printsec=frontcover&dq=mentes&hl=&cd=3&source=gbs_api', 'infoLink': 'https://play.google.com/store/books/details?id=eNJeDwAAQBAJ&source=gbs_api', 'canonicalVolumeLink': 'https://play.google.com/store/books/details?id=eNJeDwAAQBAJ'}, 'saleInfo': {'country': 'BR', 'saleability': 'FOR_SALE', 'isEbook': True, 'listPrice': {'amount': 34.9, 'currencyCode': 'BRL'}, 'retailPrice': {'amount': 31.41, 'currencyCode': 'BRL'}, 'buyLink': 'https://play.google.com/store/books/details?id=eNJeDwAAQBAJ&rdid=book-eNJeDwAAQBAJ&rdot=1&source=gbs_api', 'offers': [{'finskyOfferType': 1, 'listPrice': {'amountInMicros': 34900000, 'currencyCode': 'BRL'}, 'retailPrice': {'amountInMicros': 31410000, 'currencyCode': 'BRL'}, 'giftable': True}]}, 'accessInfo': {'country': 'BR', 'viewability': 'PARTIAL', 'embeddable': True, 'publicDomain': False, 'textToSpeechPermission': 'ALLOWED', 'epub': {'isAvailable': True, 'acsTokenLink': 'http://books.google.com.br/books/download/Mentes_sombrias-sample-epub.acsm?id=eNJeDwAAQBAJ&format=epub&output=acs4_fulfillment_token&dl_type=sample&source=gbs_api'}, 'pdf': {'isAvailable': True, 'acsTokenLink': 'http://books.google.com.br/books/download/Mentes_sombrias-sample-pdf.acsm?id=eNJeDwAAQBAJ&format=pdf&output=acs4_fulfillment_token&dl_type=sample&source=gbs_api'}, 'webReaderLink': 'http://play.google.com/books/reader?id=eNJeDwAAQBAJ&hl=&printsec=frontcover&source=gbs_api', 'accessViewStatus': 'SAMPLE', 'quoteSharingAllowed': False}, 'searchInfo': {'textSnippet': 'A distopia que inspirou o novo filme dos produtores de Stranger Things Do dia para a noite, crianças começam a morrer de um misterioso mal súbito.'}}, {'kind': 'books#volume', 'id': '5CXiwAEACAAJ', 'etag': 'UkxTrUUdsSI', 'selfLink': 'https://www.googleapis.com/books/v1/volumes/5CXiwAEACAAJ', 'volumeInfo': {'title': 'Bullying', 'subtitle': 'mentes perigosas nas escolas', 'authors': ['Ana Beatriz Barbosa Silva'], 'publishedDate': '2009', 'description': \"Em 'Bullying - Mentes perigosas nas escolas', a dra. Ana Beatriz faz uma análise sobre um dos tipos de violência que precisa ser combatido. O livro faz uma investigação do problema, apresentando informações aos pais, professores, alunos e profissionais de diversas áreas para identificar esse tipo de violência e suas consequências, como também o que se pode fazer para combatê-la.\", 'industryIdentifiers': [{'type': 'ISBN_10', 'identifier': '8539000598'}, {'type': 'ISBN_13', 'identifier': '9788539000593'}], 'readingModes': {'text': False, 'image': False}, 'pageCount': 187, 'printType': 'BOOK', 'maturityRating': 'NOT_MATURE', 'allowAnonLogging': False, 'contentVersion': 'preview-1.0.0', 'panelizationSummary': {'containsEpubBubbles': False, 'containsImageBubbles': False}, 'language': 'pt-BR', 'previewLink': 'http://books.google.com.br/books?id=5CXiwAEACAAJ&dq=mentes&hl=&cd=4&source=gbs_api', 'infoLink': 'http://books.google.com.br/books?id=5CXiwAEACAAJ&dq=mentes&hl=&source=gbs_api', 'canonicalVolumeLink': 'https://books.google.com/books/about/Bullying.html?hl=&id=5CXiwAEACAAJ'}, 'saleInfo': {'country': 'BR', 'saleability': 'NOT_FOR_SALE', 'isEbook': False}, 'accessInfo': {'country': 'BR', 'viewability': 'NO_PAGES', 'embeddable': False, 'publicDomain': False, 'textToSpeechPermission': 'ALLOWED', 'epub': {'isAvailable': False}, 'pdf': {'isAvailable': False}, 'webReaderLink': 'http://play.google.com/books/reader?id=5CXiwAEACAAJ&hl=&printsec=frontcover&source=gbs_api', 'accessViewStatus': 'NONE', 'quoteSharingAllowed': False}}, {'kind': 'books#volume', 'id': 'TEk3DwAAQBAJ', 'etag': 'za+ORRO7rNw', 'selfLink': 'https://www.googleapis.com/books/v1/volumes/TEk3DwAAQBAJ', 'volumeInfo': {'kind': 'books#volume', 'id': '5CXiwAEACAAJ', 'etag': 'UkxTrUUdsSI', 'selfLink': 'https://www.googleapis.com/books/v1/volumes/5CXiwAEACAAJ', 'volumeInfo': {'title': 'Bullying', 'subtitle': 'mentes perigosas nas escolas', 'authors': ['Ana Beatriz Barbosa Silva'], 'publishedDate': '2009', 'description': \"Em 'Bullying - Mentes perigosas nas escolas', a dra. Ana Beatriz faz uma análise sobre um dos tipos de violência que precisa ser combatido. O livro faz uma investigação do problema, apresentando informações aos pais, professores, alunos e profissionais de diversas áreas para identificar esse tipo de violência e suas consequências, como também o que se pode fazer para combatê-la.\", 'industryIdentifiers': [{'type': 'ISBN_10', 'identifier': '8539000598'}, {'type': 'ISBN_13', 'identifier': '9788539000593'}], 'readingModes': {'text': False, 'image': False}, 'pageCount': 187, 'printType': 'BOOK', 'maturityRating': 'NOT_MATURE', 'allowAnonLogging': False, 'contentVersion': 'preview-1.0.0', 'panelizationSummary': {'containsEpubBubbles': False, 'containsImageBubbles': False}, 'language': 'pt-BR', 'previewLink': 'http://books.google.com.br/books?id=5CXiwAEACAAJ&dq=mentes&hl=&cd=4&source=gbs_api', 'infoLink': 'http://books.google.com.br/books?id=5CXiwAEACAAJ&dq=mentes&hl=&source=gbs_api', 'canonicalVolumeLink': 'https://books.google.com/books/about/Bullying.html?hl=&id=5CXiwAEACAAJ'}, 'saleInfo': {'country': 'BR', 'saleability': 'NOT_FOR_SALE', 'isEbook': False}, 'accessInfo': {'country': 'BR', 'viewability': 'NO_PAGES', 'embeddable': False, 'publicDomain': False, 'textToSpeechPermission': 'ALLOWED', 'epub': {'isAvailable': False}, 'pdf': {'isAvailable': False}, 'webReaderLink': 'http://play.google.com/books/reader?id=5CXiwAEACAAJ&hl=&printsec=frontcover&source=gbs_api', 'accessViewStatus': 'NONE', 'quoteSharingAllowed': False}}, 'saleInfo': {'country': 'BR', 'saleability': 'FOR_SALE', 'isEbook': True, 'listPrice': {'amount': 29.94, 'currencyCode': 'BRL'}, 'retailPrice': {'amount': 27.9, 'currencyCode': 'BRL'}, 'buyLink': 'https://play.google.com/store/books/details?id=TEk3DwAAQBAJ&rdid=book-TEk3DwAAQBAJ&rdot=1&source=gbs_api', 'offers': [{'finskyOfferType': 1, 'listPrice': {'amountInMicros': 29940000, 'currencyCode': 'BRL'}, 'retailPrice': {'amountInMicros': 27900000, 'currencyCode': 'BRL'}, 'giftable': True}]}, 'accessInfo': {'country': 'BR', 'viewability': 'PARTIAL', 'embeddable': True, 'publicDomain': False, 'textToSpeechPermission': 'ALLOWED', 'epub': {'isAvailable': True, 'acsTokenLink': 'http://books.google.com.br/books/download/Mentes_Ansiosas-sample-epub.acsm?id=TEk3DwAAQBAJ&format=epub&output=acs4_fulfillment_token&dl_type=sample&source=gbs_api'}, 'pdf': {'isAvailable': True, 'acsTokenLink': 'http://books.google.com.br/books/download/Mentes_Ansiosas-sample-pdf.acsm?id=TEk3DwAAQBAJ&format=pdf&output=acs4_fulfillment_token&dl_type=sample&source=gbs_api'}, 'webReaderLink': 'http://play.google.com/books/reader?id=TEk3DwAAQBAJ&hl=&printsec=frontcover&source=gbs_api', 'accessViewStatus': 'SAMPLE', 'quoteSharingAllowed': False}, 'searchInfo': {'textSnippet': 'Nesta nova edição revista, atualizada e ampliada de &quot;Mentes ansiosas – o medo e a ansiedade nossos de cada dia&quot;, a psiquiatra e best-seller Ana Beatriz Barbosa Silva aborda as diferentes manifestações da ansiedade.'}}]\n",
      "-=-=-=\n",
      "[{'kind': 'books#volume', 'id': 'HLi2wAEACAAJ', 'etag': 'TmDfPqYgi9k', 'selfLink': 'https://www.googleapis.com/books/v1/volumes/HLi2wAEACAAJ', 'volumeInfo': {...}, 'saleInfo': {'country': 'BR', 'saleability': 'NOT_FOR_SALE', 'isEbook': False}, 'accessInfo': {'country': 'BR', 'viewability': 'NO_PAGES', 'embeddable': False, 'publicDomain': False, 'textToSpeechPermission': 'ALLOWED', 'epub': {'isAvailable': False}, 'pdf': {'isAvailable': False}, 'webReaderLink': 'http://play.google.com/books/reader?id=HLi2wAEACAAJ&hl=&printsec=frontcover&source=gbs_api', 'accessViewStatus': 'NONE', 'quoteSharingAllowed': False}, 'searchInfo': {'textSnippet': 'Alberto Dell’isola: O Homem-memória brasileiro, detentor de dois recordes latino-americanos de memorização• Técnicas efetivas de memorização• Como memorizar nomes, fisionomias e datas• Memorize leis e artigos jurídicos • ...'}}, {'kind': 'books#volume', 'id': 'fljzNAEACAAJ', 'etag': 'URQWJGPYHGk', 'selfLink': 'https://www.googleapis.com/books/v1/volumes/fljzNAEACAAJ', 'volumeInfo': {'title': 'Mentes Brilhantes', 'authors': [\"Alberto Dell'isola\"], 'publishedDate': '2020-02-19', 'description': \"Todo mundo reconhece aqueles que inovam, criam ou provocam situações que, de alguma forma, chamam a atenção. Então, faz sentido afirmar que o segredo do sucesso pode ser resumido em ser criativo. Neste livro de Alberto Dell'Isola, o leitor entrará em contato com técnicas profissionais para desenvolver toda a capacidade do cérebro. E, dessa\", 'industryIdentifiers': [{'type': 'ISBN_10', 'identifier': '8579303265'}, {'type': 'ISBN_13', 'identifier': '9788579303265'}], 'readingModes': {'text': False, 'image': False}, 'pageCount': 208, 'printType': 'BOOK', 'maturityRating': 'NOT_MATURE', 'allowAnonLogging': False, 'contentVersion': 'preview-1.0.0', 'panelizationSummary': {'containsEpubBubbles': False, 'containsImageBubbles': False}, 'imageLinks': {'smallThumbnail': 'http://books.google.com/books/content?id=fljzNAEACAAJ&printsec=frontcover&img=1&zoom=5&source=gbs_api', 'thumbnail': 'http://books.google.com/books/content?id=fljzNAEACAAJ&printsec=frontcover&img=1&zoom=1&source=gbs_api'}, 'language': 'pt-BR', 'previewLink': 'http://books.google.com.br/books?id=fljzNAEACAAJ&dq=mentes&hl=&cd=2&source=gbs_api', 'infoLink': 'http://books.google.com.br/books?id=fljzNAEACAAJ&dq=mentes&hl=&source=gbs_api', 'canonicalVolumeLink': 'https://books.google.com/books/about/Mentes_Brilhantes.html?hl=&id=fljzNAEACAAJ'}, 'saleInfo': {'country': 'BR', 'saleability': 'NOT_FOR_SALE', 'isEbook': False}, 'accessInfo': {'country': 'BR', 'viewability': 'NO_PAGES', 'embeddable': False, 'publicDomain': False, 'textToSpeechPermission': 'ALLOWED', 'epub': {'isAvailable': False}, 'pdf': {'isAvailable': False}, 'webReaderLink': 'http://play.google.com/books/reader?id=fljzNAEACAAJ&hl=&printsec=frontcover&source=gbs_api', 'accessViewStatus': 'NONE', 'quoteSharingAllowed': False}, 'searchInfo': {'textSnippet': 'Então, faz sentido afirmar que o segredo do sucesso pode ser resumido em ser criativo. Neste livro de Alberto Dell&#39;Isola, o leitor entrará em contato com técnicas profissionais para desenvolver toda a capacidade do cérebro. E, dessa'}}, {'kind': 'books#volume', 'id': 'eNJeDwAAQBAJ', 'etag': 'iTFCbzCfz8U', 'selfLink': 'https://www.googleapis.com/books/v1/volumes/eNJeDwAAQBAJ', 'volumeInfo': {'title': 'Mentes sombrias', 'authors': ['Alexandra Bracken'], 'publisher': 'Editora Intrinseca', 'publishedDate': '2018-06-29', 'description': 'A distopia que inspirou o novo filme dos produtores de Stranger Things Do dia para a noite, crianças começam a morrer de um misterioso mal súbito. Em pouco tempo, a doença se espalha e os que sobrevivem a ela desenvolvem habilidades psíquicas assustadoras. Uma delas é Ruby. Na manhã do seu décimo aniversário, um acontecimento aterrador faz com que seus pais a tranquem na garagem e chamem a polícia. A menina é então levada para Thurmond, um acampamento que segue as diretrizes brutais do governo vigente. Seis anos depois, ela se torna uma das jovens mais perigosas de Thurmond, embora tenha que esconder isso a todo custo para a própria segurança. Quando a verdade vem à tona, Ruby desperta o interesse de muitas pessoas e precisa escapar às pressas. Fora dali, ela se alia a fugitivos de outros acampamentos e conhece Liam, que lidera uma fuga em direção ao único refúgio para adolescentes como eles. Por mais que queira fazer amigos e ter uma vida normal, Ruby sabe que isso não vai ser possível, porque nenhum lugar é seguro, e ela não pode confiar em ninguém — nem em si mesma.', 'industryIdentifiers': [{'type': 'ISBN_13', 'identifier': '9788551003824'}, {'type': 'ISBN_10', 'identifier': '8551003828'}], 'readingModes': {'text': True, 'image': True}, 'pageCount': 384, 'printType': 'BOOK', 'categories': ['Fiction'], 'maturityRating': 'NOT_MATURE', 'allowAnonLogging': True, 'contentVersion': '1.3.4.0.preview.3', 'panelizationSummary': {'containsEpubBubbles': False, 'containsImageBubbles': False}, 'imageLinks': {'smallThumbnail': 'http://books.google.com/books/content?id=eNJeDwAAQBAJ&printsec=frontcover&img=1&zoom=5&edge=curl&source=gbs_api', 'thumbnail': 'http://books.google.com/books/content?id=eNJeDwAAQBAJ&printsec=frontcover&img=1&zoom=1&edge=curl&source=gbs_api'}, 'language': 'pt-BR', 'previewLink': 'http://books.google.com.br/books?id=eNJeDwAAQBAJ&printsec=frontcover&dq=mentes&hl=&cd=3&source=gbs_api', 'infoLink': 'https://play.google.com/store/books/details?id=eNJeDwAAQBAJ&source=gbs_api', 'canonicalVolumeLink': 'https://play.google.com/store/books/details?id=eNJeDwAAQBAJ'}, 'saleInfo': {'country': 'BR', 'saleability': 'FOR_SALE', 'isEbook': True, 'listPrice': {'amount': 34.9, 'currencyCode': 'BRL'}, 'retailPrice': {'amount': 31.41, 'currencyCode': 'BRL'}, 'buyLink': 'https://play.google.com/store/books/details?id=eNJeDwAAQBAJ&rdid=book-eNJeDwAAQBAJ&rdot=1&source=gbs_api', 'offers': [{'finskyOfferType': 1, 'listPrice': {'amountInMicros': 34900000, 'currencyCode': 'BRL'}, 'retailPrice': {'amountInMicros': 31410000, 'currencyCode': 'BRL'}, 'giftable': True}]}, 'accessInfo': {'country': 'BR', 'viewability': 'PARTIAL', 'embeddable': True, 'publicDomain': False, 'textToSpeechPermission': 'ALLOWED', 'epub': {'isAvailable': True, 'acsTokenLink': 'http://books.google.com.br/books/download/Mentes_sombrias-sample-epub.acsm?id=eNJeDwAAQBAJ&format=epub&output=acs4_fulfillment_token&dl_type=sample&source=gbs_api'}, 'pdf': {'isAvailable': True, 'acsTokenLink': 'http://books.google.com.br/books/download/Mentes_sombrias-sample-pdf.acsm?id=eNJeDwAAQBAJ&format=pdf&output=acs4_fulfillment_token&dl_type=sample&source=gbs_api'}, 'webReaderLink': 'http://play.google.com/books/reader?id=eNJeDwAAQBAJ&hl=&printsec=frontcover&source=gbs_api', 'accessViewStatus': 'SAMPLE', 'quoteSharingAllowed': False}, 'searchInfo': {'textSnippet': 'A distopia que inspirou o novo filme dos produtores de Stranger Things Do dia para a noite, crianças começam a morrer de um misterioso mal súbito.'}}, {'kind': 'books#volume', 'id': '5CXiwAEACAAJ', 'etag': 'UkxTrUUdsSI', 'selfLink': 'https://www.googleapis.com/books/v1/volumes/5CXiwAEACAAJ', 'volumeInfo': {'title': 'Bullying', 'subtitle': 'mentes perigosas nas escolas', 'authors': ['Ana Beatriz Barbosa Silva'], 'publishedDate': '2009', 'description': \"Em 'Bullying - Mentes perigosas nas escolas', a dra. Ana Beatriz faz uma análise sobre um dos tipos de violência que precisa ser combatido. O livro faz uma investigação do problema, apresentando informações aos pais, professores, alunos e profissionais de diversas áreas para identificar esse tipo de violência e suas consequências, como também o que se pode fazer para combatê-la.\", 'industryIdentifiers': [{'type': 'ISBN_10', 'identifier': '8539000598'}, {'type': 'ISBN_13', 'identifier': '9788539000593'}], 'readingModes': {'text': False, 'image': False}, 'pageCount': 187, 'printType': 'BOOK', 'maturityRating': 'NOT_MATURE', 'allowAnonLogging': False, 'contentVersion': 'preview-1.0.0', 'panelizationSummary': {'containsEpubBubbles': False, 'containsImageBubbles': False}, 'language': 'pt-BR', 'previewLink': 'http://books.google.com.br/books?id=5CXiwAEACAAJ&dq=mentes&hl=&cd=4&source=gbs_api', 'infoLink': 'http://books.google.com.br/books?id=5CXiwAEACAAJ&dq=mentes&hl=&source=gbs_api', 'canonicalVolumeLink': 'https://books.google.com/books/about/Bullying.html?hl=&id=5CXiwAEACAAJ'}, 'saleInfo': {'country': 'BR', 'saleability': 'NOT_FOR_SALE', 'isEbook': False}, 'accessInfo': {'country': 'BR', 'viewability': 'NO_PAGES', 'embeddable': False, 'publicDomain': False, 'textToSpeechPermission': 'ALLOWED', 'epub': {'isAvailable': False}, 'pdf': {'isAvailable': False}, 'webReaderLink': 'http://play.google.com/books/reader?id=5CXiwAEACAAJ&hl=&printsec=frontcover&source=gbs_api', 'accessViewStatus': 'NONE', 'quoteSharingAllowed': False}}, {'kind': 'books#volume', 'id': 'TEk3DwAAQBAJ', 'etag': 'za+ORRO7rNw', 'selfLink': 'https://www.googleapis.com/books/v1/volumes/TEk3DwAAQBAJ', 'volumeInfo': {...}, 'saleInfo': {'country': 'BR', 'saleability': 'FOR_SALE', 'isEbook': True, 'listPrice': {'amount': 29.94, 'currencyCode': 'BRL'}, 'retailPrice': {'amount': 27.9, 'currencyCode': 'BRL'}, 'buyLink': 'https://play.google.com/store/books/details?id=TEk3DwAAQBAJ&rdid=book-TEk3DwAAQBAJ&rdot=1&source=gbs_api', 'offers': [{'finskyOfferType': 1, 'listPrice': {'amountInMicros': 29940000, 'currencyCode': 'BRL'}, 'retailPrice': {'amountInMicros': 27900000, 'currencyCode': 'BRL'}, 'giftable': True}]}, 'accessInfo': {'country': 'BR', 'viewability': 'PARTIAL', 'embeddable': True, 'publicDomain': False, 'textToSpeechPermission': 'ALLOWED', 'epub': {'isAvailable': True, 'acsTokenLink': 'http://books.google.com.br/books/download/Mentes_Ansiosas-sample-epub.acsm?id=TEk3DwAAQBAJ&format=epub&output=acs4_fulfillment_token&dl_type=sample&source=gbs_api'}, 'pdf': {'isAvailable': True, 'acsTokenLink': 'http://books.google.com.br/books/download/Mentes_Ansiosas-sample-pdf.acsm?id=TEk3DwAAQBAJ&format=pdf&output=acs4_fulfillment_token&dl_type=sample&source=gbs_api'}, 'webReaderLink': 'http://play.google.com/books/reader?id=TEk3DwAAQBAJ&hl=&printsec=frontcover&source=gbs_api', 'accessViewStatus': 'SAMPLE', 'quoteSharingAllowed': False}, 'searchInfo': {'textSnippet': 'Nesta nova edição revista, atualizada e ampliada de &quot;Mentes ansiosas – o medo e a ansiedade nossos de cada dia&quot;, a psiquiatra e best-seller Ana Beatriz Barbosa Silva aborda as diferentes manifestações da ansiedade.'}}]\n"
     ]
    }
   ],
   "metadata": {}
  }
 ],
 "metadata": {
  "kernelspec": {
   "name": "python3",
   "display_name": "Python 3.9.5 64-bit ('venv': venv)"
  },
  "language_info": {
   "codemirror_mode": {
    "name": "ipython",
    "version": 3
   },
   "file_extension": ".py",
   "mimetype": "text/x-python",
   "name": "python",
   "nbconvert_exporter": "python",
   "pygments_lexer": "ipython3",
   "version": "3.9.5"
  },
  "interpreter": {
   "hash": "1c60b6559e6f2313bd83830ee57482056046db25f9dbb5b54a689bb628eef610"
  }
 },
 "nbformat": 4,
 "nbformat_minor": 5
}