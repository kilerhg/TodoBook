{
 "cells": [
  {
   "cell_type": "code",
   "execution_count": 1,
   "source": [
    "import requests\r\n",
    "import pandas as pd\r\n",
    "import json"
   ],
   "outputs": [],
   "metadata": {}
  },
  {
   "cell_type": "code",
   "execution_count": 10,
   "source": [
    "def ConsumirAPI(url,busca):\r\n",
    "    url = str(url)\r\n",
    "    busca = str(busca)\r\n",
    "    resposta = requests.get(url+busca).json()\r\n",
    "\r\n",
    "    return resposta\r\n",
    "\r\n",
    "def Head(resposta,qtd_resposta=5):\r\n",
    "    limpo = resposta['items'][:qtd_resposta]\r\n",
    "    return limpo"
   ],
   "outputs": [],
   "metadata": {}
  },
  {
   "cell_type": "code",
   "execution_count": 8,
   "source": [
    "' MAIN '\r\n",
    "\r\n",
    "url = 'https://www.googleapis.com/books/v1/volumes?q='\r\n",
    "busca = 'mentes'\r\n",
    "\r\n",
    "dados = Head(ConsumirAPI(url,busca))\r\n",
    "# a = [str(dados)[55:-1]]\r\n",
    "# 55"
   ],
   "outputs": [],
   "metadata": {}
  },
  {
   "cell_type": "code",
   "execution_count": 28,
   "source": [
    "dados[0]['volumeInfo'].keys()"
   ],
   "outputs": [
    {
     "output_type": "execute_result",
     "data": {
      "text/plain": [
       "dict_keys(['title', 'authors', 'publisher', 'description', 'industryIdentifiers', 'readingModes', 'pageCount', 'printType', 'maturityRating', 'allowAnonLogging', 'contentVersion', 'panelizationSummary', 'imageLinks', 'language', 'previewLink', 'infoLink', 'canonicalVolumeLink'])"
      ]
     },
     "metadata": {},
     "execution_count": 28
    }
   ],
   "metadata": {}
  },
  {
   "cell_type": "code",
   "execution_count": 36,
   "source": [
    "valores = dados[0]['volumeInfo']"
   ],
   "outputs": [],
   "metadata": {}
  },
  {
   "cell_type": "code",
   "execution_count": 37,
   "source": [
    "valores['industryIdentifiers'][0]['type']"
   ],
   "outputs": [
    {
     "output_type": "execute_result",
     "data": {
      "text/plain": [
       "'OTHER'"
      ]
     },
     "metadata": {},
     "execution_count": 37
    }
   ],
   "metadata": {}
  },
  {
   "cell_type": "code",
   "execution_count": 38,
   "source": [
    "valores['title']"
   ],
   "outputs": [
    {
     "output_type": "execute_result",
     "data": {
      "text/plain": [
       "'Diálogo Das Mentes'"
      ]
     },
     "metadata": {},
     "execution_count": 38
    }
   ],
   "metadata": {}
  },
  {
   "cell_type": "code",
   "execution_count": 40,
   "source": [
    "interessantes = ['title', 'authors', 'publisher', 'description', 'industryIdentifiers', 'maturityRating', 'imageLinks', 'language', 'previewLink', 'infoLink']"
   ],
   "outputs": [],
   "metadata": {}
  },
  {
   "cell_type": "code",
   "execution_count": 48,
   "source": [
    "for coluna in interessantes:\n",
    "    print(valores[coluna])"
   ],
   "outputs": [
    {
     "output_type": "stream",
     "name": "stdout",
     "text": [
      "Diálogo Das Mentes\n",
      "['John']\n",
      "Clube de Autores (managed)\n",
      "Diálogo das Mentes é baseado no que os pensadores científicos propagaram a respeito dos poderes da mente, onde é proposto que o homem tem o Poder de Decisão e o Instrumento que executa o que ele determina.\n",
      "[{'type': 'OTHER', 'identifier': 'PKEY:CLDEAU21416'}]\n",
      "MATURE\n",
      "{'smallThumbnail': 'http://books.google.com/books/content?id=0tpxDwAAQBAJ&printsec=frontcover&img=1&zoom=5&edge=curl&source=gbs_api', 'thumbnail': 'http://books.google.com/books/content?id=0tpxDwAAQBAJ&printsec=frontcover&img=1&zoom=1&edge=curl&source=gbs_api'}\n",
      "pt\n",
      "http://books.google.com.br/books?id=0tpxDwAAQBAJ&pg=PA95&dq=mentes&hl=&cd=1&source=gbs_api\n",
      "https://play.google.com/store/books/details?id=0tpxDwAAQBAJ&source=gbs_api\n"
     ]
    }
   ],
   "metadata": {}
  }
 ],
 "metadata": {
  "kernelspec": {
   "name": "python3",
   "display_name": "Python 3.9.5 64-bit ('venv': venv)"
  },
  "language_info": {
   "codemirror_mode": {
    "name": "ipython",
    "version": 3
   },
   "file_extension": ".py",
   "mimetype": "text/x-python",
   "name": "python",
   "nbconvert_exporter": "python",
   "pygments_lexer": "ipython3",
   "version": "3.9.5"
  },
  "interpreter": {
   "hash": "1c60b6559e6f2313bd83830ee57482056046db25f9dbb5b54a689bb628eef610"
  }
 },
 "nbformat": 4,
 "nbformat_minor": 5
}