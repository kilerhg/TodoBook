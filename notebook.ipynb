{
 "cells": [
  {
   "cell_type": "code",
   "execution_count": 1,
   "source": [
    "import requests\r\n",
    "import pandas as pd\r\n",
    "import json"
   ],
   "outputs": [],
   "metadata": {}
  },
  {
   "cell_type": "code",
   "execution_count": 57,
   "source": [
    "def consumir_api(url, busca):\r\n",
    "    url = str(url)\r\n",
    "    busca = str(busca)\r\n",
    "    resposta = requests.get(url+busca).json()\r\n",
    "    return resposta\r\n",
    "\r\n",
    "\r\n",
    "def head(resposta, qtd_resposta=10):\r\n",
    "    limpo = resposta['items'][:qtd_resposta]\r\n",
    "    return limpo\r\n",
    "\r\n",
    "def valida_chave_existe(dict_book : dict, key : str):\r\n",
    "    if key in dict_book:\r\n",
    "        dict_livro['descricao'] = livro['description']\r\n",
    "    else:\r\n",
    "        dict_livro['descricao'] = ''\r\n",
    "# 'title', authors, 'pageCount', 'maturityRating', 'language', 'infoLink', 'description'\r\n",
    "def limpa_requisicao_livro(livro):\r\n",
    "    \r\n",
    "    dict_livro = {\r\n",
    "        'titulo' : livro['title'],\r\n",
    "        'autores' : '; '.join(livro['authors']),\r\n",
    "        'num_paginas' : livro['pageCount'],\r\n",
    "        'faixa_etaria' : livro['maturityRating'],\r\n",
    "        'idioma' : livro['language'],\r\n",
    "        'link' : livro['infoLink'],\r\n",
    "    }\r\n",
    "\r\n",
    "\r\n",
    "    ## Tratando descrição\r\n",
    "    if 'description' in livro:\r\n",
    "        dict_livro['descricao'] = livro['description']\r\n",
    "    else:\r\n",
    "        dict_livro['descricao'] = ''\r\n",
    "\r\n",
    "    ## Tratando descrição ↑\r\n",
    "\r\n",
    "    ## Tratando iSBN\r\n",
    "\r\n",
    "    if 'industryIdentifiers' in livro:\r\n",
    "        for isbns in livro['industryIdentifiers']:\r\n",
    "            if isbns['type'] == 'ISBN_13':\r\n",
    "                dict_livro['isbn'] = {'tipo_isbn': isbns['type'], 'valor': isbns['identifier']}\r\n",
    "            elif isbns['type'] == 'ISBN_10':\r\n",
    "                dict_livro['isbn'] = {'tipo_isbn': isbns['type'], 'valor': isbns['identifier']}\r\n",
    "            else:\r\n",
    "                {'tipo_isbn':None}\r\n",
    "    else:\r\n",
    "        {'tipo_isbn':None}\r\n",
    "\r\n",
    "    ## Tratando iSBN ↑\r\n",
    "\r\n",
    "\r\n",
    "    ## Tratando Thumb\r\n",
    "\r\n",
    "    if 'imageLinks' in livro:\r\n",
    "        if 'smallThumbnail' in livro['imageLinks']:\r\n",
    "            dict_livro['imagem'] = livro['imageLinks']['smallThumbnail']\r\n",
    "        else:\r\n",
    "            dict_livro['imagem'] = 'https://raw.githubusercontent.com/kilerhg/TodoBook/main/imagens/livro_sem_capa.png'\r\n",
    "    else:\r\n",
    "        dict_livro['imagem'] = 'https://raw.githubusercontent.com/kilerhg/TodoBook/main/imagens/livro_sem_capa.png'\r\n",
    "\r\n",
    "    ## Tratando Thumb ↑\r\n",
    "\r\n",
    "    return dict_livro"
   ],
   "outputs": [],
   "metadata": {}
  },
  {
   "cell_type": "code",
   "execution_count": 58,
   "source": [
    "' MAIN '\r\n",
    "\r\n",
    "url = 'https://www.googleapis.com/books/v1/volumes?q='\r\n",
    "busca = 'senhor'\r\n",
    "\r\n",
    "\r\n",
    "dados = consumir_api(url,busca)\r\n",
    "dados_limpo = head(dados)\r\n",
    "\r\n",
    "lista_livros = []\r\n",
    "for livro_sujo in dados_limpo:\r\n",
    "    livro_limpo = livro_sujo['volumeInfo']\r\n",
    "    try:\r\n",
    "        livro_tratado = limpa_requisicao_livro(livro=livro_limpo)\r\n",
    "    except:\r\n",
    "        livro_tratado = None\r\n",
    "    if livro_tratado:\r\n",
    "        lista_livros.append(livro_tratado)\r\n",
    "link_livros = [livro['imagem'] for livro in lista_livros]"
   ],
   "outputs": [],
   "metadata": {}
  },
  {
   "cell_type": "code",
   "execution_count": 39,
   "source": [
    "dados_limpo[0]['volumeInfo'].keys()"
   ],
   "outputs": [
    {
     "output_type": "execute_result",
     "data": {
      "text/plain": [
       "dict_keys(['title', 'authors', 'publisher', 'publishedDate', 'description', 'industryIdentifiers', 'readingModes', 'pageCount', 'printType', 'categories', 'maturityRating', 'allowAnonLogging', 'contentVersion', 'panelizationSummary', 'imageLinks', 'language', 'previewLink', 'infoLink', 'canonicalVolumeLink'])"
      ]
     },
     "metadata": {},
     "execution_count": 39
    }
   ],
   "metadata": {}
  },
  {
   "cell_type": "code",
   "execution_count": 59,
   "source": [
    "len(lista_livros)"
   ],
   "outputs": [
    {
     "output_type": "execute_result",
     "data": {
      "text/plain": [
       "9"
      ]
     },
     "metadata": {},
     "execution_count": 59
    }
   ],
   "metadata": {}
  },
  {
   "cell_type": "code",
   "execution_count": 20,
   "source": [],
   "outputs": [],
   "metadata": {}
  },
  {
   "cell_type": "code",
   "execution_count": 60,
   "source": [
    "link_livros"
   ],
   "outputs": [
    {
     "output_type": "execute_result",
     "data": {
      "text/plain": [
       "['http://books.google.com/books/content?id=KyPBcxpw9bQC&printsec=frontcover&img=1&zoom=5&edge=curl&source=gbs_api',\n",
       " 'https://raw.githubusercontent.com/kilerhg/TodoBook/main/imagens/livro_sem_capa.png',\n",
       " 'http://books.google.com/books/content?id=YYVfAAAAMAAJ&printsec=frontcover&img=1&zoom=5&source=gbs_api',\n",
       " 'http://books.google.com/books/content?id=b7l0AwAAQBAJ&printsec=frontcover&img=1&zoom=5&edge=curl&source=gbs_api',\n",
       " 'http://books.google.com/books/content?id=FM8tAAAAYAAJ&printsec=frontcover&img=1&zoom=5&source=gbs_api',\n",
       " 'https://raw.githubusercontent.com/kilerhg/TodoBook/main/imagens/livro_sem_capa.png',\n",
       " 'https://raw.githubusercontent.com/kilerhg/TodoBook/main/imagens/livro_sem_capa.png',\n",
       " 'http://books.google.com/books/content?id=1PFdedRD0V0C&printsec=frontcover&img=1&zoom=5&edge=curl&source=gbs_api',\n",
       " 'http://books.google.com/books/content?id=NvGuDgAAQBAJ&printsec=frontcover&img=1&zoom=5&edge=curl&source=gbs_api']"
      ]
     },
     "metadata": {},
     "execution_count": 60
    }
   ],
   "metadata": {}
  },
  {
   "cell_type": "code",
   "execution_count": 4,
   "source": [],
   "outputs": [],
   "metadata": {}
  },
  {
   "cell_type": "code",
   "execution_count": 5,
   "source": [
    "dados_limpo"
   ],
   "outputs": [
    {
     "output_type": "execute_result",
     "data": {
      "text/plain": [
       "[{'kind': 'books#volume',\n",
       "  'id': '-bF2CwAAQBAJ',\n",
       "  'etag': 'hPIq041hwoM',\n",
       "  'selfLink': 'https://www.googleapis.com/books/v1/volumes/-bF2CwAAQBAJ',\n",
       "  'volumeInfo': {'title': 'Harry Potter: A Coleção Completa (1-7)',\n",
       "   'authors': ['J.K. Rowling'],\n",
       "   'publisher': 'Pottermore Publishing',\n",
       "   'publishedDate': '2016-01-28',\n",
       "   'description': 'Todos os sete e-books da premiadíssima série Harry Potter, fenômeno de vendas em todo o mundo, disponíveis em um único download com maravilhosas capas ilustradas por Olly Moss. Desfrute das histórias que cativaram a imaginação de milhões ao redor do mundo.',\n",
       "   'industryIdentifiers': [{'type': 'ISBN_13', 'identifier': '9781781106587'},\n",
       "    {'type': 'ISBN_10', 'identifier': '1781106584'}],\n",
       "   'readingModes': {'text': True, 'image': True},\n",
       "   'pageCount': 3326,\n",
       "   'printType': 'BOOK',\n",
       "   'categories': ['Fiction'],\n",
       "   'maturityRating': 'NOT_MATURE',\n",
       "   'allowAnonLogging': True,\n",
       "   'contentVersion': '1.20.23.0.preview.3',\n",
       "   'panelizationSummary': {'containsEpubBubbles': False,\n",
       "    'containsImageBubbles': False},\n",
       "   'imageLinks': {'smallThumbnail': 'http://books.google.com/books/content?id=-bF2CwAAQBAJ&printsec=frontcover&img=1&zoom=5&edge=curl&source=gbs_api',\n",
       "    'thumbnail': 'http://books.google.com/books/content?id=-bF2CwAAQBAJ&printsec=frontcover&img=1&zoom=1&edge=curl&source=gbs_api'},\n",
       "   'language': 'pt',\n",
       "   'previewLink': 'http://books.google.com.br/books?id=-bF2CwAAQBAJ&pg=PP1&dq=harry+potter&hl=&cd=1&source=gbs_api',\n",
       "   'infoLink': 'https://play.google.com/store/books/details?id=-bF2CwAAQBAJ&source=gbs_api',\n",
       "   'canonicalVolumeLink': 'https://play.google.com/store/books/details?id=-bF2CwAAQBAJ'},\n",
       "  'saleInfo': {'country': 'BR',\n",
       "   'saleability': 'FOR_SALE',\n",
       "   'isEbook': True,\n",
       "   'listPrice': {'amount': 159.9, 'currencyCode': 'BRL'},\n",
       "   'retailPrice': {'amount': 159.9, 'currencyCode': 'BRL'},\n",
       "   'buyLink': 'https://play.google.com/store/books/details?id=-bF2CwAAQBAJ&rdid=book--bF2CwAAQBAJ&rdot=1&source=gbs_api',\n",
       "   'offers': [{'finskyOfferType': 1,\n",
       "     'listPrice': {'amountInMicros': 159900000, 'currencyCode': 'BRL'},\n",
       "     'retailPrice': {'amountInMicros': 159900000, 'currencyCode': 'BRL'},\n",
       "     'giftable': True}]},\n",
       "  'accessInfo': {'country': 'BR',\n",
       "   'viewability': 'PARTIAL',\n",
       "   'embeddable': True,\n",
       "   'publicDomain': False,\n",
       "   'textToSpeechPermission': 'ALLOWED',\n",
       "   'epub': {'isAvailable': True,\n",
       "    'acsTokenLink': 'http://books.google.com.br/books/download/Harry_Potter_A_Cole%C3%A7%C3%A3o_Completa_1_7-sample-epub.acsm?id=-bF2CwAAQBAJ&format=epub&output=acs4_fulfillment_token&dl_type=sample&source=gbs_api'},\n",
       "   'pdf': {'isAvailable': True,\n",
       "    'acsTokenLink': 'http://books.google.com.br/books/download/Harry_Potter_A_Cole%C3%A7%C3%A3o_Completa_1_7-sample-pdf.acsm?id=-bF2CwAAQBAJ&format=pdf&output=acs4_fulfillment_token&dl_type=sample&source=gbs_api'},\n",
       "   'webReaderLink': 'http://play.google.com/books/reader?id=-bF2CwAAQBAJ&hl=&printsec=frontcover&source=gbs_api',\n",
       "   'accessViewStatus': 'SAMPLE',\n",
       "   'quoteSharingAllowed': False}},\n",
       " {'kind': 'books#volume',\n",
       "  'id': 'xSYFoQEACAAJ',\n",
       "  'etag': 'R/zM3yLlg68',\n",
       "  'selfLink': 'https://www.googleapis.com/books/v1/volumes/xSYFoQEACAAJ',\n",
       "  'volumeInfo': {'title': 'Monstros fantásticos e onde encontrá-los',\n",
       "   'authors': ['Newt Scamander', 'Albus Dumbledore', 'Isabel Fraga'],\n",
       "   'publishedDate': '2001',\n",
       "   'industryIdentifiers': [{'type': 'ISBN_10', 'identifier': '9722327550'},\n",
       "    {'type': 'ISBN_13', 'identifier': '9789722327558'}],\n",
       "   'readingModes': {'text': False, 'image': False},\n",
       "   'printType': 'BOOK',\n",
       "   'maturityRating': 'NOT_MATURE',\n",
       "   'allowAnonLogging': False,\n",
       "   'contentVersion': 'preview-1.0.0',\n",
       "   'language': 'en',\n",
       "   'previewLink': 'http://books.google.com.br/books?id=xSYFoQEACAAJ&dq=harry+potter&hl=&cd=2&source=gbs_api',\n",
       "   'infoLink': 'http://books.google.com.br/books?id=xSYFoQEACAAJ&dq=harry+potter&hl=&source=gbs_api',\n",
       "   'canonicalVolumeLink': 'https://books.google.com/books/about/Monstros_fant%C3%A1sticos_e_onde_encontr%C3%A1_l.html?hl=&id=xSYFoQEACAAJ'},\n",
       "  'saleInfo': {'country': 'BR',\n",
       "   'saleability': 'NOT_FOR_SALE',\n",
       "   'isEbook': False},\n",
       "  'accessInfo': {'country': 'BR',\n",
       "   'viewability': 'NO_PAGES',\n",
       "   'embeddable': False,\n",
       "   'publicDomain': False,\n",
       "   'textToSpeechPermission': 'ALLOWED',\n",
       "   'epub': {'isAvailable': False},\n",
       "   'pdf': {'isAvailable': False},\n",
       "   'webReaderLink': 'http://play.google.com/books/reader?id=xSYFoQEACAAJ&hl=&printsec=frontcover&source=gbs_api',\n",
       "   'accessViewStatus': 'NONE',\n",
       "   'quoteSharingAllowed': False}},\n",
       " {'kind': 'books#volume',\n",
       "  'id': '02XnPAAACAAJ',\n",
       "  'etag': 'qmUobCRUlrQ',\n",
       "  'selfLink': 'https://www.googleapis.com/books/v1/volumes/02XnPAAACAAJ',\n",
       "  'volumeInfo': {'title': 'Harry Potter e a Camara Secreta',\n",
       "   'authors': ['J. K. Rowling', 'Lia Wyler'],\n",
       "   'publishedDate': '2000',\n",
       "   'description': 'Depois de férias aborrecidas na casa dos tios trouxas, está na hora de Harry Potter voltar a estudar. Coisas acontecem, no entanto, para dificultar o regresso de Harry. Persistente e astuto, o herói não se deixa intimidar pelos obstáculos e, com a ajuda dos fiéis amigos Weasley, começa o ano letivo na Escola de Magia e Bruxaria de Hogwarts. As novidades não são poucas. Novos colegas, novos professores, muitas e boas descobertas e um grande e perigosos desafio. Alguém ou alguma coisa ameaça a segurança e a tranquilidade dos membros de Hogwarts.',\n",
       "   'industryIdentifiers': [{'type': 'ISBN_10', 'identifier': '853251166X'},\n",
       "    {'type': 'ISBN_13', 'identifier': '9788532511669'}],\n",
       "   'readingModes': {'text': False, 'image': False},\n",
       "   'pageCount': 287,\n",
       "   'printType': 'BOOK',\n",
       "   'categories': ['Hogwarts School of Witchcraft and Wizardry (Imaginary organization)'],\n",
       "   'averageRating': 4.5,\n",
       "   'ratingsCount': 74,\n",
       "   'maturityRating': 'NOT_MATURE',\n",
       "   'allowAnonLogging': False,\n",
       "   'contentVersion': 'preview-1.0.0',\n",
       "   'language': 'pt-BR',\n",
       "   'previewLink': 'http://books.google.com.br/books?id=02XnPAAACAAJ&dq=harry+potter&hl=&cd=3&source=gbs_api',\n",
       "   'infoLink': 'http://books.google.com.br/books?id=02XnPAAACAAJ&dq=harry+potter&hl=&source=gbs_api',\n",
       "   'canonicalVolumeLink': 'https://books.google.com/books/about/Harry_Potter_e_a_Camara_Secreta.html?hl=&id=02XnPAAACAAJ'},\n",
       "  'saleInfo': {'country': 'BR',\n",
       "   'saleability': 'NOT_FOR_SALE',\n",
       "   'isEbook': False},\n",
       "  'accessInfo': {'country': 'BR',\n",
       "   'viewability': 'NO_PAGES',\n",
       "   'embeddable': False,\n",
       "   'publicDomain': False,\n",
       "   'textToSpeechPermission': 'ALLOWED',\n",
       "   'epub': {'isAvailable': False},\n",
       "   'pdf': {'isAvailable': False},\n",
       "   'webReaderLink': 'http://play.google.com/books/reader?id=02XnPAAACAAJ&hl=&printsec=frontcover&source=gbs_api',\n",
       "   'accessViewStatus': 'NONE',\n",
       "   'quoteSharingAllowed': False},\n",
       "  'searchInfo': {'textSnippet': 'When the Chamber of Secrets is opened again at the Hogwarts School for Witchcraft and Wizardry, second-year student Harry Potter finds himself in danger from a dark power that has once more been released on the school.'}},\n",
       " {'kind': 'books#volume',\n",
       "  'id': '9TcQCwAAQBAJ',\n",
       "  'etag': 'ST1cLU/46q8',\n",
       "  'selfLink': 'https://www.googleapis.com/books/v1/volumes/9TcQCwAAQBAJ',\n",
       "  'volumeInfo': {'title': 'Harry Potter e a Ordem da Fênix',\n",
       "   'authors': ['J.K. Rowling'],\n",
       "   'publisher': 'Pottermore Publishing',\n",
       "   'publishedDate': '2015-12-08',\n",
       "   'description': \"Você está compartilhando os pensamentos e emoções do Lorde das Trevas. O diretor acha que é desaconselhável que isto continue a acontecer. E quer que eu lhe ensine como fechar a mente ao Lorde das Trevas.' Tempos sombrios se abateram sobre Hogwarts. Depois do ataque dos Dementadores ao seu primo Dudley, Harry Potter sabe que Voldemort fará tudo para encontrá-lo. Muitos negam o retorno do Lorde das Trevas, mas Harry não está sozinho: uma ordem secreta se reúne no Largo Grimmauld para fazer frente às forças sombrias. Harry precisa permitir que o professor Snape o ensine a se proteger dos vorazes ataques de Voldemort à sua mente. Mas eles estão ficando cada vez mais fortes, e o tempo de Harry está acabando...\",\n",
       "   'industryIdentifiers': [{'type': 'ISBN_13', 'identifier': '9781781104040'},\n",
       "    {'type': 'ISBN_10', 'identifier': '1781104042'}],\n",
       "   'readingModes': {'text': True, 'image': True},\n",
       "   'pageCount': 703,\n",
       "   'printType': 'BOOK',\n",
       "   'categories': ['Fiction'],\n",
       "   'maturityRating': 'NOT_MATURE',\n",
       "   'allowAnonLogging': True,\n",
       "   'contentVersion': '1.10.12.0.preview.3',\n",
       "   'panelizationSummary': {'containsEpubBubbles': False,\n",
       "    'containsImageBubbles': False},\n",
       "   'imageLinks': {'smallThumbnail': 'http://books.google.com/books/content?id=9TcQCwAAQBAJ&printsec=frontcover&img=1&zoom=5&edge=curl&source=gbs_api',\n",
       "    'thumbnail': 'http://books.google.com/books/content?id=9TcQCwAAQBAJ&printsec=frontcover&img=1&zoom=1&edge=curl&source=gbs_api'},\n",
       "   'language': 'pt-BR',\n",
       "   'previewLink': 'http://books.google.com.br/books?id=9TcQCwAAQBAJ&printsec=frontcover&dq=harry+potter&hl=&cd=4&source=gbs_api',\n",
       "   'infoLink': 'https://play.google.com/store/books/details?id=9TcQCwAAQBAJ&source=gbs_api',\n",
       "   'canonicalVolumeLink': 'https://play.google.com/store/books/details?id=9TcQCwAAQBAJ'},\n",
       "  'saleInfo': {'country': 'BR',\n",
       "   'saleability': 'FOR_SALE',\n",
       "   'isEbook': True,\n",
       "   'listPrice': {'amount': 24.9, 'currencyCode': 'BRL'},\n",
       "   'retailPrice': {'amount': 24.9, 'currencyCode': 'BRL'},\n",
       "   'buyLink': 'https://play.google.com/store/books/details?id=9TcQCwAAQBAJ&rdid=book-9TcQCwAAQBAJ&rdot=1&source=gbs_api',\n",
       "   'offers': [{'finskyOfferType': 1,\n",
       "     'listPrice': {'amountInMicros': 24900000, 'currencyCode': 'BRL'},\n",
       "     'retailPrice': {'amountInMicros': 24900000, 'currencyCode': 'BRL'},\n",
       "     'giftable': True}]},\n",
       "  'accessInfo': {'country': 'BR',\n",
       "   'viewability': 'PARTIAL',\n",
       "   'embeddable': True,\n",
       "   'publicDomain': False,\n",
       "   'textToSpeechPermission': 'ALLOWED',\n",
       "   'epub': {'isAvailable': True,\n",
       "    'acsTokenLink': 'http://books.google.com.br/books/download/Harry_Potter_e_a_Ordem_da_F%C3%AAnix-sample-epub.acsm?id=9TcQCwAAQBAJ&format=epub&output=acs4_fulfillment_token&dl_type=sample&source=gbs_api'},\n",
       "   'pdf': {'isAvailable': True,\n",
       "    'acsTokenLink': 'http://books.google.com.br/books/download/Harry_Potter_e_a_Ordem_da_F%C3%AAnix-sample-pdf.acsm?id=9TcQCwAAQBAJ&format=pdf&output=acs4_fulfillment_token&dl_type=sample&source=gbs_api'},\n",
       "   'webReaderLink': 'http://play.google.com/books/reader?id=9TcQCwAAQBAJ&hl=&printsec=frontcover&source=gbs_api',\n",
       "   'accessViewStatus': 'SAMPLE',\n",
       "   'quoteSharingAllowed': False},\n",
       "  'searchInfo': {'textSnippet': 'Você está compartilhando os pensamentos e emoções do Lorde das Trevas.'}},\n",
       " {'kind': 'books#volume',\n",
       "  'id': '28m7swEACAAJ',\n",
       "  'etag': 'mRiw6BQU/Fc',\n",
       "  'selfLink': 'https://www.googleapis.com/books/v1/volumes/28m7swEACAAJ',\n",
       "  'volumeInfo': {'title': 'Harry Potter e o enigma do Príncipe',\n",
       "   'authors': ['J. K. Rowling', 'Lia Wyler'],\n",
       "   'description': \"'Harry Potter e o enigma do príncipe' dá continuidade à saga do jovem bruxo Harry Potter a partir do ponto em que o livro anterior parou - o momento em que fica provado que o poder de Voldemort e dos Comensais da Morte, seus seguidores, cresce mais a cada dia, em meio à batalha entre o bem e o mal. A onda de terror provocada pelo Lorde das Trevas estaria afetando, até mesmo, o mundo dos trouxas (não-bruxos), e sendo agravada pela ação dos dementadores, criaturas mágicas aterrorizantes que 'sugam' a esperança e a felicidade das pessoas. Harry, que acabou de completar 16 anos, parte rumo ao sexto ano na Escola de Magia e Bruxaria de Hogwarts, animado e ao mesmo tempo apreensivo com a perspectiva de ter aulas particulares com o professor Dumbledore, o diretor da escola e o bruxo mais respeitado em toda comunidade mágica. Harry, longe de ser aquele menino magricela que vivia no quarto debaixo da escada na casa dos tios trouxas, é um dos principais nomes entre aqueles que lutam contra Voldemort, e se vê cada vez mais isolado à medida que os rumores de que ele é O Eleito - o único capaz de derrotar o Lorde das Trevas, se espalham pelo mundo dos bruxos. Dois atentados contra a vida de estudantes, a certeza de Harry quanto ao envolvimento de Draco Malfoy com os Comensais da Morte e o comportamento de Snape, suspeito como sempre, adicionam ainda mais tensão ao já inquietante período. Apesar de tudo isso, Harry e os amigos são adolescentes típicos - dividem tarefas escolares e dormitórios bagunçados, correm das aulas para os treinos de quadribol, e namoram.\",\n",
       "   'industryIdentifiers': [{'type': 'ISBN_10', 'identifier': '8532519474'},\n",
       "    {'type': 'ISBN_13', 'identifier': '9788532519474'}],\n",
       "   'readingModes': {'text': False, 'image': False},\n",
       "   'pageCount': 510,\n",
       "   'printType': 'BOOK',\n",
       "   'categories': ['Hogwarts School of Witchcraft and Wizardry (Imaginary organization)'],\n",
       "   'maturityRating': 'NOT_MATURE',\n",
       "   'allowAnonLogging': False,\n",
       "   'contentVersion': 'preview-1.0.0',\n",
       "   'panelizationSummary': {'containsEpubBubbles': False,\n",
       "    'containsImageBubbles': False},\n",
       "   'language': 'pt-BR',\n",
       "   'previewLink': 'http://books.google.com.br/books?id=28m7swEACAAJ&dq=harry+potter&hl=&cd=5&source=gbs_api',\n",
       "   'infoLink': 'http://books.google.com.br/books?id=28m7swEACAAJ&dq=harry+potter&hl=&source=gbs_api',\n",
       "   'canonicalVolumeLink': 'https://books.google.com/books/about/Harry_Potter_e_o_enigma_do_Pr%C3%ADncipe.html?hl=&id=28m7swEACAAJ'},\n",
       "  'saleInfo': {'country': 'BR',\n",
       "   'saleability': 'NOT_FOR_SALE',\n",
       "   'isEbook': False},\n",
       "  'accessInfo': {'country': 'BR',\n",
       "   'viewability': 'NO_PAGES',\n",
       "   'embeddable': False,\n",
       "   'publicDomain': False,\n",
       "   'textToSpeechPermission': 'ALLOWED',\n",
       "   'epub': {'isAvailable': False},\n",
       "   'pdf': {'isAvailable': False},\n",
       "   'webReaderLink': 'http://play.google.com/books/reader?id=28m7swEACAAJ&hl=&printsec=frontcover&source=gbs_api',\n",
       "   'accessViewStatus': 'NONE',\n",
       "   'quoteSharingAllowed': False},\n",
       "  'searchInfo': {'textSnippet': 'Sixth-year Hogwarts student Harry Potter gains valuable insights into the boy Voldemort once was, even as his own world is transformed by maturing friendships, schoolwork assistance from an unexpected source, and devastating losses.'}}]"
      ]
     },
     "metadata": {},
     "execution_count": 5
    }
   ],
   "metadata": {}
  },
  {
   "cell_type": "markdown",
   "source": [],
   "metadata": {}
  },
  {
   "cell_type": "code",
   "execution_count": 198,
   "source": [
    "dados_limpo[1]['volumeInfo']['imageLinks']['smallThumbnail']"
   ],
   "outputs": [
    {
     "output_type": "execute_result",
     "data": {
      "text/plain": [
       "'http://books.google.com/books/content?id=fljzNAEACAAJ&printsec=frontcover&img=1&zoom=5&source=gbs_api'"
      ]
     },
     "metadata": {},
     "execution_count": 198
    }
   ],
   "metadata": {}
  },
  {
   "cell_type": "code",
   "execution_count": 190,
   "source": [
    "livro = dados_limpo[2]['volumeInfo']\r\n",
    "print(livro)"
   ],
   "outputs": [
    {
     "output_type": "stream",
     "name": "stdout",
     "text": [
      "{'title': 'Mentes sombrias', 'authors': ['Alexandra Bracken'], 'publisher': 'Editora Intrinseca', 'publishedDate': '2018-06-29', 'description': 'A distopia que inspirou o novo filme dos produtores de Stranger Things Do dia para a noite, crianças começam a morrer de um misterioso mal súbito. Em pouco tempo, a doença se espalha e os que sobrevivem a ela desenvolvem habilidades psíquicas assustadoras. Uma delas é Ruby. Na manhã do seu décimo aniversário, um acontecimento aterrador faz com que seus pais a tranquem na garagem e chamem a polícia. A menina é então levada para Thurmond, um acampamento que segue as diretrizes brutais do governo vigente. Seis anos depois, ela se torna uma das jovens mais perigosas de Thurmond, embora tenha que esconder isso a todo custo para a própria segurança. Quando a verdade vem à tona, Ruby desperta o interesse de muitas pessoas e precisa escapar às pressas. Fora dali, ela se alia a fugitivos de outros acampamentos e conhece Liam, que lidera uma fuga em direção ao único refúgio para adolescentes como eles. Por mais que queira fazer amigos e ter uma vida normal, Ruby sabe que isso não vai ser possível, porque nenhum lugar é seguro, e ela não pode confiar em ninguém — nem em si mesma.', 'industryIdentifiers': [{'type': 'ISBN_13', 'identifier': '9788551003824'}, {'type': 'ISBN_10', 'identifier': '8551003828'}], 'readingModes': {'text': True, 'image': True}, 'pageCount': 384, 'printType': 'BOOK', 'categories': ['Fiction'], 'maturityRating': 'NOT_MATURE', 'allowAnonLogging': True, 'contentVersion': '1.3.4.0.preview.3', 'panelizationSummary': {'containsEpubBubbles': False, 'containsImageBubbles': False}, 'imageLinks': {'smallThumbnail': 'http://books.google.com/books/content?id=eNJeDwAAQBAJ&printsec=frontcover&img=1&zoom=5&edge=curl&source=gbs_api', 'thumbnail': 'http://books.google.com/books/content?id=eNJeDwAAQBAJ&printsec=frontcover&img=1&zoom=1&edge=curl&source=gbs_api'}, 'language': 'pt-BR', 'previewLink': 'http://books.google.com.br/books?id=eNJeDwAAQBAJ&printsec=frontcover&dq=mentes&hl=&cd=3&source=gbs_api', 'infoLink': 'https://play.google.com/store/books/details?id=eNJeDwAAQBAJ&source=gbs_api', 'canonicalVolumeLink': 'https://play.google.com/store/books/details?id=eNJeDwAAQBAJ'}\n"
     ]
    }
   ],
   "metadata": {}
  },
  {
   "cell_type": "code",
   "execution_count": 120,
   "source": [
    "valores = dados_limpo[2]['volumeInfo']\r\n",
    "dicionario_livro_limpo = {}\r\n",
    "for coluna in interessantes:\r\n",
    "    dicionario_livro_limpo[coluna] = valores[coluna]"
   ],
   "outputs": [],
   "metadata": {}
  },
  {
   "cell_type": "code",
   "execution_count": 177,
   "source": [
    "livro['industryIdentifiers'][0]['identifier']"
   ],
   "outputs": [
    {
     "output_type": "execute_result",
     "data": {
      "text/plain": [
       "'8579303265'"
      ]
     },
     "metadata": {},
     "execution_count": 177
    }
   ],
   "metadata": {}
  },
  {
   "cell_type": "code",
   "execution_count": 191,
   "source": [],
   "outputs": [],
   "metadata": {}
  },
  {
   "cell_type": "code",
   "execution_count": 66,
   "source": [
    "livro = dados_limpo[1]['volumeInfo']\r\n",
    "\r\n",
    "dict_livro = {\r\n",
    "    'titulo' : livro['title'],\r\n",
    "    'autores' : '; '.join(livro['authors']),\r\n",
    "    'descricao' : livro['description'],\r\n",
    "    'num_paginas' : livro['pageCount'],\r\n",
    "    'faixa_etaria' : livro['maturityRating'],\r\n",
    "    'idioma' : livro['language'],\r\n",
    "    'link' : livro['infoLink'],\r\n",
    "}\r\n",
    "\r\n",
    "## Tratando iSBN\r\n",
    "\r\n",
    "if 'industryIdentifiers' in livro:\r\n",
    "    for isbns in livro['industryIdentifiers']:\r\n",
    "        if isbns['type'] == 'ISBN_13':\r\n",
    "            dict_livro['isbn'] = {'tipo_isbn': isbns['type'], 'valor': isbns['identifier']}\r\n",
    "        elif isbns['type'] == 'ISBN_10':\r\n",
    "            dict_livro['isbn'] = {'tipo_isbn': isbns['type'], 'valor': isbns['identifier']}\r\n",
    "        else:\r\n",
    "            dict_livro['isbn'] = None\r\n",
    "else:\r\n",
    "    dict_livro['isbn'] = None\r\n",
    "\r\n",
    "## Tratando iSBN ↑\r\n",
    "\r\n",
    "## Tratando Thumb\r\n",
    "\r\n",
    "if 'imageLinks' in livro:\r\n",
    "    if 'smallThumbnail' in livro['imageLinks']:\r\n",
    "        dict_livro['imagem'] = livro['imageLinks']['smallThumbnail']\r\n",
    "    else:\r\n",
    "        dict_livro['imagem'] = 'https://raw.githubusercontent.com/kilerhg/TodoBook/main/imagens/livro_sem_capa.png'\r\n",
    "else:\r\n",
    "    dict_livro['imagem'] = 'https://raw.githubusercontent.com/kilerhg/TodoBook/main/imagens/livro_sem_capa.png'\r\n",
    "\r\n",
    "## Tratando Thumb ↑\r\n"
   ],
   "outputs": [],
   "metadata": {}
  },
  {
   "cell_type": "code",
   "execution_count": 69,
   "source": [
    "dict_livro['isbn']['valor']"
   ],
   "outputs": [
    {
     "output_type": "execute_result",
     "data": {
      "text/plain": [
       "{'tipo_isbn': 'ISBN_13', 'valor': '9788535914801'}"
      ]
     },
     "metadata": {},
     "execution_count": 69
    }
   ],
   "metadata": {}
  },
  {
   "cell_type": "code",
   "execution_count": 115,
   "source": [
    "dicionario_livro_limpo\r\n",
    "\r\n",
    "# '' : livro['imageLinks'],\r\n",
    "# #  https://raw.githubusercontent.com/kilerhg/TodoBook/main/imagens/livro_sem_capa.png\r\n",
    "# 'ISBN' : livro['industryIdentifiers'],\r\n",
    "\r\n"
   ],
   "outputs": [
    {
     "output_type": "execute_result",
     "data": {
      "text/plain": [
       "{'title': 'Mentes Geniais',\n",
       " 'authors': [\"Alberto Dell'isola\"],\n",
       " 'description': \"Neste livro, Alberto Dell'Isola procura revelar seus segredos e apresentar uma série de técnicas e exercícios que podem ajudar o leitor a aprimorar de forma significativa a capacidade cognitiva. É possível aprender a treinar o cérebro para gravar o maior número de informações, potencializar a capacidade de aprendizado e descobrir como é possível decorar de maneira eficaz datas, fórmulas, discursos, números e acontecimentos históricos.\",\n",
       " 'industryIdentifiers': [{'type': 'ISBN_10', 'identifier': '8579302765'},\n",
       "  {'type': 'ISBN_13', 'identifier': '9788579302763'}],\n",
       " 'maturityRating': 'NOT_MATURE',\n",
       " 'language': 'pt-BR',\n",
       " 'infoLink': 'http://books.google.com.br/books?id=HLi2wAEACAAJ&dq=mentes&hl=&source=gbs_api'}"
      ]
     },
     "metadata": {},
     "execution_count": 115
    }
   ],
   "metadata": {}
  },
  {
   "cell_type": "code",
   "execution_count": 52,
   "source": [
    "dados_limpo[5]['volumeInfo']"
   ],
   "outputs": [
    {
     "output_type": "error",
     "ename": "IndexError",
     "evalue": "list index out of range",
     "traceback": [
      "\u001b[1;31m---------------------------------------------------------------------------\u001b[0m",
      "\u001b[1;31mIndexError\u001b[0m                                Traceback (most recent call last)",
      "\u001b[1;32m~\\AppData\\Local\\Temp/ipykernel_16004/2866281969.py\u001b[0m in \u001b[0;36m<module>\u001b[1;34m\u001b[0m\n\u001b[1;32m----> 1\u001b[1;33m \u001b[0mdados_limpo\u001b[0m\u001b[1;33m[\u001b[0m\u001b[1;36m5\u001b[0m\u001b[1;33m]\u001b[0m\u001b[1;33m[\u001b[0m\u001b[1;34m'volumeInfo'\u001b[0m\u001b[1;33m]\u001b[0m\u001b[1;33m\u001b[0m\u001b[1;33m\u001b[0m\u001b[0m\n\u001b[0m",
      "\u001b[1;31mIndexError\u001b[0m: list index out of range"
     ]
    }
   ],
   "metadata": {}
  },
  {
   "cell_type": "code",
   "execution_count": 105,
   "source": [
    "interessantes = ['title', 'authors', 'description', 'industryIdentifiers', 'maturityRating', 'language', 'infoLink']\r\n",
    "interessantes_opc = ['publisher', 'imageLinks']"
   ],
   "outputs": [],
   "metadata": {}
  },
  {
   "cell_type": "code",
   "execution_count": 79,
   "source": [
    "livro = dados_limpo[0]['volumeInfo']\r\n",
    "for coluna in interessantes:\r\n",
    "    limpo = livro['volumeInfo']\r\n",
    "    if coluna in limpo:\r\n",
    "        print(limpo[coluna])"
   ],
   "outputs": [],
   "metadata": {}
  },
  {
   "cell_type": "code",
   "execution_count": 64,
   "source": [
    "for livro['volumeInfo'] in dados_limpo:\r\n",
    "    print('-=-=-=')\r\n",
    "    print(dados_limpo)\r\n",
    "    for coluna in interessantes:\r\n",
    "        if coluna in livro['volumeInfo']:\r\n",
    "            print(livro[coluna])"
   ],
   "outputs": [
    {
     "output_type": "stream",
     "name": "stdout",
     "text": [
      "-=-=-=\n",
      "[{'kind': 'books#volume', 'id': 'HLi2wAEACAAJ', 'etag': 'TmDfPqYgi9k', 'selfLink': 'https://www.googleapis.com/books/v1/volumes/HLi2wAEACAAJ', 'volumeInfo': {...}, 'saleInfo': {'country': 'BR', 'saleability': 'NOT_FOR_SALE', 'isEbook': False}, 'accessInfo': {'country': 'BR', 'viewability': 'NO_PAGES', 'embeddable': False, 'publicDomain': False, 'textToSpeechPermission': 'ALLOWED', 'epub': {'isAvailable': False}, 'pdf': {'isAvailable': False}, 'webReaderLink': 'http://play.google.com/books/reader?id=HLi2wAEACAAJ&hl=&printsec=frontcover&source=gbs_api', 'accessViewStatus': 'NONE', 'quoteSharingAllowed': False}, 'searchInfo': {'textSnippet': 'Alberto Dell’isola: O Homem-memória brasileiro, detentor de dois recordes latino-americanos de memorização• Técnicas efetivas de memorização• Como memorizar nomes, fisionomias e datas• Memorize leis e artigos jurídicos • ...'}}, {'kind': 'books#volume', 'id': 'fljzNAEACAAJ', 'etag': 'URQWJGPYHGk', 'selfLink': 'https://www.googleapis.com/books/v1/volumes/fljzNAEACAAJ', 'volumeInfo': {'title': 'Mentes Brilhantes', 'authors': [\"Alberto Dell'isola\"], 'publishedDate': '2020-02-19', 'description': \"Todo mundo reconhece aqueles que inovam, criam ou provocam situações que, de alguma forma, chamam a atenção. Então, faz sentido afirmar que o segredo do sucesso pode ser resumido em ser criativo. Neste livro de Alberto Dell'Isola, o leitor entrará em contato com técnicas profissionais para desenvolver toda a capacidade do cérebro. E, dessa\", 'industryIdentifiers': [{'type': 'ISBN_10', 'identifier': '8579303265'}, {'type': 'ISBN_13', 'identifier': '9788579303265'}], 'readingModes': {'text': False, 'image': False}, 'pageCount': 208, 'printType': 'BOOK', 'maturityRating': 'NOT_MATURE', 'allowAnonLogging': False, 'contentVersion': 'preview-1.0.0', 'panelizationSummary': {'containsEpubBubbles': False, 'containsImageBubbles': False}, 'imageLinks': {'smallThumbnail': 'http://books.google.com/books/content?id=fljzNAEACAAJ&printsec=frontcover&img=1&zoom=5&source=gbs_api', 'thumbnail': 'http://books.google.com/books/content?id=fljzNAEACAAJ&printsec=frontcover&img=1&zoom=1&source=gbs_api'}, 'language': 'pt-BR', 'previewLink': 'http://books.google.com.br/books?id=fljzNAEACAAJ&dq=mentes&hl=&cd=2&source=gbs_api', 'infoLink': 'http://books.google.com.br/books?id=fljzNAEACAAJ&dq=mentes&hl=&source=gbs_api', 'canonicalVolumeLink': 'https://books.google.com/books/about/Mentes_Brilhantes.html?hl=&id=fljzNAEACAAJ'}, 'saleInfo': {'country': 'BR', 'saleability': 'NOT_FOR_SALE', 'isEbook': False}, 'accessInfo': {'country': 'BR', 'viewability': 'NO_PAGES', 'embeddable': False, 'publicDomain': False, 'textToSpeechPermission': 'ALLOWED', 'epub': {'isAvailable': False}, 'pdf': {'isAvailable': False}, 'webReaderLink': 'http://play.google.com/books/reader?id=fljzNAEACAAJ&hl=&printsec=frontcover&source=gbs_api', 'accessViewStatus': 'NONE', 'quoteSharingAllowed': False}, 'searchInfo': {'textSnippet': 'Então, faz sentido afirmar que o segredo do sucesso pode ser resumido em ser criativo. Neste livro de Alberto Dell&#39;Isola, o leitor entrará em contato com técnicas profissionais para desenvolver toda a capacidade do cérebro. E, dessa'}}, {'kind': 'books#volume', 'id': 'eNJeDwAAQBAJ', 'etag': 'iTFCbzCfz8U', 'selfLink': 'https://www.googleapis.com/books/v1/volumes/eNJeDwAAQBAJ', 'volumeInfo': {'title': 'Mentes sombrias', 'authors': ['Alexandra Bracken'], 'publisher': 'Editora Intrinseca', 'publishedDate': '2018-06-29', 'description': 'A distopia que inspirou o novo filme dos produtores de Stranger Things Do dia para a noite, crianças começam a morrer de um misterioso mal súbito. Em pouco tempo, a doença se espalha e os que sobrevivem a ela desenvolvem habilidades psíquicas assustadoras. Uma delas é Ruby. Na manhã do seu décimo aniversário, um acontecimento aterrador faz com que seus pais a tranquem na garagem e chamem a polícia. A menina é então levada para Thurmond, um acampamento que segue as diretrizes brutais do governo vigente. Seis anos depois, ela se torna uma das jovens mais perigosas de Thurmond, embora tenha que esconder isso a todo custo para a própria segurança. Quando a verdade vem à tona, Ruby desperta o interesse de muitas pessoas e precisa escapar às pressas. Fora dali, ela se alia a fugitivos de outros acampamentos e conhece Liam, que lidera uma fuga em direção ao único refúgio para adolescentes como eles. Por mais que queira fazer amigos e ter uma vida normal, Ruby sabe que isso não vai ser possível, porque nenhum lugar é seguro, e ela não pode confiar em ninguém — nem em si mesma.', 'industryIdentifiers': [{'type': 'ISBN_13', 'identifier': '9788551003824'}, {'type': 'ISBN_10', 'identifier': '8551003828'}], 'readingModes': {'text': True, 'image': True}, 'pageCount': 384, 'printType': 'BOOK', 'categories': ['Fiction'], 'maturityRating': 'NOT_MATURE', 'allowAnonLogging': True, 'contentVersion': '1.3.4.0.preview.3', 'panelizationSummary': {'containsEpubBubbles': False, 'containsImageBubbles': False}, 'imageLinks': {'smallThumbnail': 'http://books.google.com/books/content?id=eNJeDwAAQBAJ&printsec=frontcover&img=1&zoom=5&edge=curl&source=gbs_api', 'thumbnail': 'http://books.google.com/books/content?id=eNJeDwAAQBAJ&printsec=frontcover&img=1&zoom=1&edge=curl&source=gbs_api'}, 'language': 'pt-BR', 'previewLink': 'http://books.google.com.br/books?id=eNJeDwAAQBAJ&printsec=frontcover&dq=mentes&hl=&cd=3&source=gbs_api', 'infoLink': 'https://play.google.com/store/books/details?id=eNJeDwAAQBAJ&source=gbs_api', 'canonicalVolumeLink': 'https://play.google.com/store/books/details?id=eNJeDwAAQBAJ'}, 'saleInfo': {'country': 'BR', 'saleability': 'FOR_SALE', 'isEbook': True, 'listPrice': {'amount': 34.9, 'currencyCode': 'BRL'}, 'retailPrice': {'amount': 31.41, 'currencyCode': 'BRL'}, 'buyLink': 'https://play.google.com/store/books/details?id=eNJeDwAAQBAJ&rdid=book-eNJeDwAAQBAJ&rdot=1&source=gbs_api', 'offers': [{'finskyOfferType': 1, 'listPrice': {'amountInMicros': 34900000, 'currencyCode': 'BRL'}, 'retailPrice': {'amountInMicros': 31410000, 'currencyCode': 'BRL'}, 'giftable': True}]}, 'accessInfo': {'country': 'BR', 'viewability': 'PARTIAL', 'embeddable': True, 'publicDomain': False, 'textToSpeechPermission': 'ALLOWED', 'epub': {'isAvailable': True, 'acsTokenLink': 'http://books.google.com.br/books/download/Mentes_sombrias-sample-epub.acsm?id=eNJeDwAAQBAJ&format=epub&output=acs4_fulfillment_token&dl_type=sample&source=gbs_api'}, 'pdf': {'isAvailable': True, 'acsTokenLink': 'http://books.google.com.br/books/download/Mentes_sombrias-sample-pdf.acsm?id=eNJeDwAAQBAJ&format=pdf&output=acs4_fulfillment_token&dl_type=sample&source=gbs_api'}, 'webReaderLink': 'http://play.google.com/books/reader?id=eNJeDwAAQBAJ&hl=&printsec=frontcover&source=gbs_api', 'accessViewStatus': 'SAMPLE', 'quoteSharingAllowed': False}, 'searchInfo': {'textSnippet': 'A distopia que inspirou o novo filme dos produtores de Stranger Things Do dia para a noite, crianças começam a morrer de um misterioso mal súbito.'}}, {'kind': 'books#volume', 'id': '5CXiwAEACAAJ', 'etag': 'UkxTrUUdsSI', 'selfLink': 'https://www.googleapis.com/books/v1/volumes/5CXiwAEACAAJ', 'volumeInfo': {'title': 'Bullying', 'subtitle': 'mentes perigosas nas escolas', 'authors': ['Ana Beatriz Barbosa Silva'], 'publishedDate': '2009', 'description': \"Em 'Bullying - Mentes perigosas nas escolas', a dra. Ana Beatriz faz uma análise sobre um dos tipos de violência que precisa ser combatido. O livro faz uma investigação do problema, apresentando informações aos pais, professores, alunos e profissionais de diversas áreas para identificar esse tipo de violência e suas consequências, como também o que se pode fazer para combatê-la.\", 'industryIdentifiers': [{'type': 'ISBN_10', 'identifier': '8539000598'}, {'type': 'ISBN_13', 'identifier': '9788539000593'}], 'readingModes': {'text': False, 'image': False}, 'pageCount': 187, 'printType': 'BOOK', 'maturityRating': 'NOT_MATURE', 'allowAnonLogging': False, 'contentVersion': 'preview-1.0.0', 'panelizationSummary': {'containsEpubBubbles': False, 'containsImageBubbles': False}, 'language': 'pt-BR', 'previewLink': 'http://books.google.com.br/books?id=5CXiwAEACAAJ&dq=mentes&hl=&cd=4&source=gbs_api', 'infoLink': 'http://books.google.com.br/books?id=5CXiwAEACAAJ&dq=mentes&hl=&source=gbs_api', 'canonicalVolumeLink': 'https://books.google.com/books/about/Bullying.html?hl=&id=5CXiwAEACAAJ'}, 'saleInfo': {'country': 'BR', 'saleability': 'NOT_FOR_SALE', 'isEbook': False}, 'accessInfo': {'country': 'BR', 'viewability': 'NO_PAGES', 'embeddable': False, 'publicDomain': False, 'textToSpeechPermission': 'ALLOWED', 'epub': {'isAvailable': False}, 'pdf': {'isAvailable': False}, 'webReaderLink': 'http://play.google.com/books/reader?id=5CXiwAEACAAJ&hl=&printsec=frontcover&source=gbs_api', 'accessViewStatus': 'NONE', 'quoteSharingAllowed': False}}, {'kind': 'books#volume', 'id': 'TEk3DwAAQBAJ', 'etag': 'za+ORRO7rNw', 'selfLink': 'https://www.googleapis.com/books/v1/volumes/TEk3DwAAQBAJ', 'volumeInfo': {'kind': 'books#volume', 'id': 'HLi2wAEACAAJ', 'etag': 'TmDfPqYgi9k', 'selfLink': 'https://www.googleapis.com/books/v1/volumes/HLi2wAEACAAJ', 'volumeInfo': {...}, 'saleInfo': {'country': 'BR', 'saleability': 'NOT_FOR_SALE', 'isEbook': False}, 'accessInfo': {'country': 'BR', 'viewability': 'NO_PAGES', 'embeddable': False, 'publicDomain': False, 'textToSpeechPermission': 'ALLOWED', 'epub': {'isAvailable': False}, 'pdf': {'isAvailable': False}, 'webReaderLink': 'http://play.google.com/books/reader?id=HLi2wAEACAAJ&hl=&printsec=frontcover&source=gbs_api', 'accessViewStatus': 'NONE', 'quoteSharingAllowed': False}, 'searchInfo': {'textSnippet': 'Alberto Dell’isola: O Homem-memória brasileiro, detentor de dois recordes latino-americanos de memorização• Técnicas efetivas de memorização• Como memorizar nomes, fisionomias e datas• Memorize leis e artigos jurídicos • ...'}}, 'saleInfo': {'country': 'BR', 'saleability': 'FOR_SALE', 'isEbook': True, 'listPrice': {'amount': 29.94, 'currencyCode': 'BRL'}, 'retailPrice': {'amount': 27.9, 'currencyCode': 'BRL'}, 'buyLink': 'https://play.google.com/store/books/details?id=TEk3DwAAQBAJ&rdid=book-TEk3DwAAQBAJ&rdot=1&source=gbs_api', 'offers': [{'finskyOfferType': 1, 'listPrice': {'amountInMicros': 29940000, 'currencyCode': 'BRL'}, 'retailPrice': {'amountInMicros': 27900000, 'currencyCode': 'BRL'}, 'giftable': True}]}, 'accessInfo': {'country': 'BR', 'viewability': 'PARTIAL', 'embeddable': True, 'publicDomain': False, 'textToSpeechPermission': 'ALLOWED', 'epub': {'isAvailable': True, 'acsTokenLink': 'http://books.google.com.br/books/download/Mentes_Ansiosas-sample-epub.acsm?id=TEk3DwAAQBAJ&format=epub&output=acs4_fulfillment_token&dl_type=sample&source=gbs_api'}, 'pdf': {'isAvailable': True, 'acsTokenLink': 'http://books.google.com.br/books/download/Mentes_Ansiosas-sample-pdf.acsm?id=TEk3DwAAQBAJ&format=pdf&output=acs4_fulfillment_token&dl_type=sample&source=gbs_api'}, 'webReaderLink': 'http://play.google.com/books/reader?id=TEk3DwAAQBAJ&hl=&printsec=frontcover&source=gbs_api', 'accessViewStatus': 'SAMPLE', 'quoteSharingAllowed': False}, 'searchInfo': {'textSnippet': 'Nesta nova edição revista, atualizada e ampliada de &quot;Mentes ansiosas – o medo e a ansiedade nossos de cada dia&quot;, a psiquiatra e best-seller Ana Beatriz Barbosa Silva aborda as diferentes manifestações da ansiedade.'}}]\n",
      "-=-=-=\n",
      "[{'kind': 'books#volume', 'id': 'HLi2wAEACAAJ', 'etag': 'TmDfPqYgi9k', 'selfLink': 'https://www.googleapis.com/books/v1/volumes/HLi2wAEACAAJ', 'volumeInfo': {...}, 'saleInfo': {'country': 'BR', 'saleability': 'NOT_FOR_SALE', 'isEbook': False}, 'accessInfo': {'country': 'BR', 'viewability': 'NO_PAGES', 'embeddable': False, 'publicDomain': False, 'textToSpeechPermission': 'ALLOWED', 'epub': {'isAvailable': False}, 'pdf': {'isAvailable': False}, 'webReaderLink': 'http://play.google.com/books/reader?id=HLi2wAEACAAJ&hl=&printsec=frontcover&source=gbs_api', 'accessViewStatus': 'NONE', 'quoteSharingAllowed': False}, 'searchInfo': {'textSnippet': 'Alberto Dell’isola: O Homem-memória brasileiro, detentor de dois recordes latino-americanos de memorização• Técnicas efetivas de memorização• Como memorizar nomes, fisionomias e datas• Memorize leis e artigos jurídicos • ...'}}, {'kind': 'books#volume', 'id': 'fljzNAEACAAJ', 'etag': 'URQWJGPYHGk', 'selfLink': 'https://www.googleapis.com/books/v1/volumes/fljzNAEACAAJ', 'volumeInfo': {'title': 'Mentes Brilhantes', 'authors': [\"Alberto Dell'isola\"], 'publishedDate': '2020-02-19', 'description': \"Todo mundo reconhece aqueles que inovam, criam ou provocam situações que, de alguma forma, chamam a atenção. Então, faz sentido afirmar que o segredo do sucesso pode ser resumido em ser criativo. Neste livro de Alberto Dell'Isola, o leitor entrará em contato com técnicas profissionais para desenvolver toda a capacidade do cérebro. E, dessa\", 'industryIdentifiers': [{'type': 'ISBN_10', 'identifier': '8579303265'}, {'type': 'ISBN_13', 'identifier': '9788579303265'}], 'readingModes': {'text': False, 'image': False}, 'pageCount': 208, 'printType': 'BOOK', 'maturityRating': 'NOT_MATURE', 'allowAnonLogging': False, 'contentVersion': 'preview-1.0.0', 'panelizationSummary': {'containsEpubBubbles': False, 'containsImageBubbles': False}, 'imageLinks': {'smallThumbnail': 'http://books.google.com/books/content?id=fljzNAEACAAJ&printsec=frontcover&img=1&zoom=5&source=gbs_api', 'thumbnail': 'http://books.google.com/books/content?id=fljzNAEACAAJ&printsec=frontcover&img=1&zoom=1&source=gbs_api'}, 'language': 'pt-BR', 'previewLink': 'http://books.google.com.br/books?id=fljzNAEACAAJ&dq=mentes&hl=&cd=2&source=gbs_api', 'infoLink': 'http://books.google.com.br/books?id=fljzNAEACAAJ&dq=mentes&hl=&source=gbs_api', 'canonicalVolumeLink': 'https://books.google.com/books/about/Mentes_Brilhantes.html?hl=&id=fljzNAEACAAJ'}, 'saleInfo': {'country': 'BR', 'saleability': 'NOT_FOR_SALE', 'isEbook': False}, 'accessInfo': {'country': 'BR', 'viewability': 'NO_PAGES', 'embeddable': False, 'publicDomain': False, 'textToSpeechPermission': 'ALLOWED', 'epub': {'isAvailable': False}, 'pdf': {'isAvailable': False}, 'webReaderLink': 'http://play.google.com/books/reader?id=fljzNAEACAAJ&hl=&printsec=frontcover&source=gbs_api', 'accessViewStatus': 'NONE', 'quoteSharingAllowed': False}, 'searchInfo': {'textSnippet': 'Então, faz sentido afirmar que o segredo do sucesso pode ser resumido em ser criativo. Neste livro de Alberto Dell&#39;Isola, o leitor entrará em contato com técnicas profissionais para desenvolver toda a capacidade do cérebro. E, dessa'}}, {'kind': 'books#volume', 'id': 'eNJeDwAAQBAJ', 'etag': 'iTFCbzCfz8U', 'selfLink': 'https://www.googleapis.com/books/v1/volumes/eNJeDwAAQBAJ', 'volumeInfo': {'title': 'Mentes sombrias', 'authors': ['Alexandra Bracken'], 'publisher': 'Editora Intrinseca', 'publishedDate': '2018-06-29', 'description': 'A distopia que inspirou o novo filme dos produtores de Stranger Things Do dia para a noite, crianças começam a morrer de um misterioso mal súbito. Em pouco tempo, a doença se espalha e os que sobrevivem a ela desenvolvem habilidades psíquicas assustadoras. Uma delas é Ruby. Na manhã do seu décimo aniversário, um acontecimento aterrador faz com que seus pais a tranquem na garagem e chamem a polícia. A menina é então levada para Thurmond, um acampamento que segue as diretrizes brutais do governo vigente. Seis anos depois, ela se torna uma das jovens mais perigosas de Thurmond, embora tenha que esconder isso a todo custo para a própria segurança. Quando a verdade vem à tona, Ruby desperta o interesse de muitas pessoas e precisa escapar às pressas. Fora dali, ela se alia a fugitivos de outros acampamentos e conhece Liam, que lidera uma fuga em direção ao único refúgio para adolescentes como eles. Por mais que queira fazer amigos e ter uma vida normal, Ruby sabe que isso não vai ser possível, porque nenhum lugar é seguro, e ela não pode confiar em ninguém — nem em si mesma.', 'industryIdentifiers': [{'type': 'ISBN_13', 'identifier': '9788551003824'}, {'type': 'ISBN_10', 'identifier': '8551003828'}], 'readingModes': {'text': True, 'image': True}, 'pageCount': 384, 'printType': 'BOOK', 'categories': ['Fiction'], 'maturityRating': 'NOT_MATURE', 'allowAnonLogging': True, 'contentVersion': '1.3.4.0.preview.3', 'panelizationSummary': {'containsEpubBubbles': False, 'containsImageBubbles': False}, 'imageLinks': {'smallThumbnail': 'http://books.google.com/books/content?id=eNJeDwAAQBAJ&printsec=frontcover&img=1&zoom=5&edge=curl&source=gbs_api', 'thumbnail': 'http://books.google.com/books/content?id=eNJeDwAAQBAJ&printsec=frontcover&img=1&zoom=1&edge=curl&source=gbs_api'}, 'language': 'pt-BR', 'previewLink': 'http://books.google.com.br/books?id=eNJeDwAAQBAJ&printsec=frontcover&dq=mentes&hl=&cd=3&source=gbs_api', 'infoLink': 'https://play.google.com/store/books/details?id=eNJeDwAAQBAJ&source=gbs_api', 'canonicalVolumeLink': 'https://play.google.com/store/books/details?id=eNJeDwAAQBAJ'}, 'saleInfo': {'country': 'BR', 'saleability': 'FOR_SALE', 'isEbook': True, 'listPrice': {'amount': 34.9, 'currencyCode': 'BRL'}, 'retailPrice': {'amount': 31.41, 'currencyCode': 'BRL'}, 'buyLink': 'https://play.google.com/store/books/details?id=eNJeDwAAQBAJ&rdid=book-eNJeDwAAQBAJ&rdot=1&source=gbs_api', 'offers': [{'finskyOfferType': 1, 'listPrice': {'amountInMicros': 34900000, 'currencyCode': 'BRL'}, 'retailPrice': {'amountInMicros': 31410000, 'currencyCode': 'BRL'}, 'giftable': True}]}, 'accessInfo': {'country': 'BR', 'viewability': 'PARTIAL', 'embeddable': True, 'publicDomain': False, 'textToSpeechPermission': 'ALLOWED', 'epub': {'isAvailable': True, 'acsTokenLink': 'http://books.google.com.br/books/download/Mentes_sombrias-sample-epub.acsm?id=eNJeDwAAQBAJ&format=epub&output=acs4_fulfillment_token&dl_type=sample&source=gbs_api'}, 'pdf': {'isAvailable': True, 'acsTokenLink': 'http://books.google.com.br/books/download/Mentes_sombrias-sample-pdf.acsm?id=eNJeDwAAQBAJ&format=pdf&output=acs4_fulfillment_token&dl_type=sample&source=gbs_api'}, 'webReaderLink': 'http://play.google.com/books/reader?id=eNJeDwAAQBAJ&hl=&printsec=frontcover&source=gbs_api', 'accessViewStatus': 'SAMPLE', 'quoteSharingAllowed': False}, 'searchInfo': {'textSnippet': 'A distopia que inspirou o novo filme dos produtores de Stranger Things Do dia para a noite, crianças começam a morrer de um misterioso mal súbito.'}}, {'kind': 'books#volume', 'id': '5CXiwAEACAAJ', 'etag': 'UkxTrUUdsSI', 'selfLink': 'https://www.googleapis.com/books/v1/volumes/5CXiwAEACAAJ', 'volumeInfo': {'title': 'Bullying', 'subtitle': 'mentes perigosas nas escolas', 'authors': ['Ana Beatriz Barbosa Silva'], 'publishedDate': '2009', 'description': \"Em 'Bullying - Mentes perigosas nas escolas', a dra. Ana Beatriz faz uma análise sobre um dos tipos de violência que precisa ser combatido. O livro faz uma investigação do problema, apresentando informações aos pais, professores, alunos e profissionais de diversas áreas para identificar esse tipo de violência e suas consequências, como também o que se pode fazer para combatê-la.\", 'industryIdentifiers': [{'type': 'ISBN_10', 'identifier': '8539000598'}, {'type': 'ISBN_13', 'identifier': '9788539000593'}], 'readingModes': {'text': False, 'image': False}, 'pageCount': 187, 'printType': 'BOOK', 'maturityRating': 'NOT_MATURE', 'allowAnonLogging': False, 'contentVersion': 'preview-1.0.0', 'panelizationSummary': {'containsEpubBubbles': False, 'containsImageBubbles': False}, 'language': 'pt-BR', 'previewLink': 'http://books.google.com.br/books?id=5CXiwAEACAAJ&dq=mentes&hl=&cd=4&source=gbs_api', 'infoLink': 'http://books.google.com.br/books?id=5CXiwAEACAAJ&dq=mentes&hl=&source=gbs_api', 'canonicalVolumeLink': 'https://books.google.com/books/about/Bullying.html?hl=&id=5CXiwAEACAAJ'}, 'saleInfo': {'country': 'BR', 'saleability': 'NOT_FOR_SALE', 'isEbook': False}, 'accessInfo': {'country': 'BR', 'viewability': 'NO_PAGES', 'embeddable': False, 'publicDomain': False, 'textToSpeechPermission': 'ALLOWED', 'epub': {'isAvailable': False}, 'pdf': {'isAvailable': False}, 'webReaderLink': 'http://play.google.com/books/reader?id=5CXiwAEACAAJ&hl=&printsec=frontcover&source=gbs_api', 'accessViewStatus': 'NONE', 'quoteSharingAllowed': False}}, {'kind': 'books#volume', 'id': 'TEk3DwAAQBAJ', 'etag': 'za+ORRO7rNw', 'selfLink': 'https://www.googleapis.com/books/v1/volumes/TEk3DwAAQBAJ', 'volumeInfo': {'kind': 'books#volume', 'id': 'fljzNAEACAAJ', 'etag': 'URQWJGPYHGk', 'selfLink': 'https://www.googleapis.com/books/v1/volumes/fljzNAEACAAJ', 'volumeInfo': {'title': 'Mentes Brilhantes', 'authors': [\"Alberto Dell'isola\"], 'publishedDate': '2020-02-19', 'description': \"Todo mundo reconhece aqueles que inovam, criam ou provocam situações que, de alguma forma, chamam a atenção. Então, faz sentido afirmar que o segredo do sucesso pode ser resumido em ser criativo. Neste livro de Alberto Dell'Isola, o leitor entrará em contato com técnicas profissionais para desenvolver toda a capacidade do cérebro. E, dessa\", 'industryIdentifiers': [{'type': 'ISBN_10', 'identifier': '8579303265'}, {'type': 'ISBN_13', 'identifier': '9788579303265'}], 'readingModes': {'text': False, 'image': False}, 'pageCount': 208, 'printType': 'BOOK', 'maturityRating': 'NOT_MATURE', 'allowAnonLogging': False, 'contentVersion': 'preview-1.0.0', 'panelizationSummary': {'containsEpubBubbles': False, 'containsImageBubbles': False}, 'imageLinks': {'smallThumbnail': 'http://books.google.com/books/content?id=fljzNAEACAAJ&printsec=frontcover&img=1&zoom=5&source=gbs_api', 'thumbnail': 'http://books.google.com/books/content?id=fljzNAEACAAJ&printsec=frontcover&img=1&zoom=1&source=gbs_api'}, 'language': 'pt-BR', 'previewLink': 'http://books.google.com.br/books?id=fljzNAEACAAJ&dq=mentes&hl=&cd=2&source=gbs_api', 'infoLink': 'http://books.google.com.br/books?id=fljzNAEACAAJ&dq=mentes&hl=&source=gbs_api', 'canonicalVolumeLink': 'https://books.google.com/books/about/Mentes_Brilhantes.html?hl=&id=fljzNAEACAAJ'}, 'saleInfo': {'country': 'BR', 'saleability': 'NOT_FOR_SALE', 'isEbook': False}, 'accessInfo': {'country': 'BR', 'viewability': 'NO_PAGES', 'embeddable': False, 'publicDomain': False, 'textToSpeechPermission': 'ALLOWED', 'epub': {'isAvailable': False}, 'pdf': {'isAvailable': False}, 'webReaderLink': 'http://play.google.com/books/reader?id=fljzNAEACAAJ&hl=&printsec=frontcover&source=gbs_api', 'accessViewStatus': 'NONE', 'quoteSharingAllowed': False}, 'searchInfo': {'textSnippet': 'Então, faz sentido afirmar que o segredo do sucesso pode ser resumido em ser criativo. Neste livro de Alberto Dell&#39;Isola, o leitor entrará em contato com técnicas profissionais para desenvolver toda a capacidade do cérebro. E, dessa'}}, 'saleInfo': {'country': 'BR', 'saleability': 'FOR_SALE', 'isEbook': True, 'listPrice': {'amount': 29.94, 'currencyCode': 'BRL'}, 'retailPrice': {'amount': 27.9, 'currencyCode': 'BRL'}, 'buyLink': 'https://play.google.com/store/books/details?id=TEk3DwAAQBAJ&rdid=book-TEk3DwAAQBAJ&rdot=1&source=gbs_api', 'offers': [{'finskyOfferType': 1, 'listPrice': {'amountInMicros': 29940000, 'currencyCode': 'BRL'}, 'retailPrice': {'amountInMicros': 27900000, 'currencyCode': 'BRL'}, 'giftable': True}]}, 'accessInfo': {'country': 'BR', 'viewability': 'PARTIAL', 'embeddable': True, 'publicDomain': False, 'textToSpeechPermission': 'ALLOWED', 'epub': {'isAvailable': True, 'acsTokenLink': 'http://books.google.com.br/books/download/Mentes_Ansiosas-sample-epub.acsm?id=TEk3DwAAQBAJ&format=epub&output=acs4_fulfillment_token&dl_type=sample&source=gbs_api'}, 'pdf': {'isAvailable': True, 'acsTokenLink': 'http://books.google.com.br/books/download/Mentes_Ansiosas-sample-pdf.acsm?id=TEk3DwAAQBAJ&format=pdf&output=acs4_fulfillment_token&dl_type=sample&source=gbs_api'}, 'webReaderLink': 'http://play.google.com/books/reader?id=TEk3DwAAQBAJ&hl=&printsec=frontcover&source=gbs_api', 'accessViewStatus': 'SAMPLE', 'quoteSharingAllowed': False}, 'searchInfo': {'textSnippet': 'Nesta nova edição revista, atualizada e ampliada de &quot;Mentes ansiosas – o medo e a ansiedade nossos de cada dia&quot;, a psiquiatra e best-seller Ana Beatriz Barbosa Silva aborda as diferentes manifestações da ansiedade.'}}]\n",
      "-=-=-=\n",
      "[{'kind': 'books#volume', 'id': 'HLi2wAEACAAJ', 'etag': 'TmDfPqYgi9k', 'selfLink': 'https://www.googleapis.com/books/v1/volumes/HLi2wAEACAAJ', 'volumeInfo': {...}, 'saleInfo': {'country': 'BR', 'saleability': 'NOT_FOR_SALE', 'isEbook': False}, 'accessInfo': {'country': 'BR', 'viewability': 'NO_PAGES', 'embeddable': False, 'publicDomain': False, 'textToSpeechPermission': 'ALLOWED', 'epub': {'isAvailable': False}, 'pdf': {'isAvailable': False}, 'webReaderLink': 'http://play.google.com/books/reader?id=HLi2wAEACAAJ&hl=&printsec=frontcover&source=gbs_api', 'accessViewStatus': 'NONE', 'quoteSharingAllowed': False}, 'searchInfo': {'textSnippet': 'Alberto Dell’isola: O Homem-memória brasileiro, detentor de dois recordes latino-americanos de memorização• Técnicas efetivas de memorização• Como memorizar nomes, fisionomias e datas• Memorize leis e artigos jurídicos • ...'}}, {'kind': 'books#volume', 'id': 'fljzNAEACAAJ', 'etag': 'URQWJGPYHGk', 'selfLink': 'https://www.googleapis.com/books/v1/volumes/fljzNAEACAAJ', 'volumeInfo': {'title': 'Mentes Brilhantes', 'authors': [\"Alberto Dell'isola\"], 'publishedDate': '2020-02-19', 'description': \"Todo mundo reconhece aqueles que inovam, criam ou provocam situações que, de alguma forma, chamam a atenção. Então, faz sentido afirmar que o segredo do sucesso pode ser resumido em ser criativo. Neste livro de Alberto Dell'Isola, o leitor entrará em contato com técnicas profissionais para desenvolver toda a capacidade do cérebro. E, dessa\", 'industryIdentifiers': [{'type': 'ISBN_10', 'identifier': '8579303265'}, {'type': 'ISBN_13', 'identifier': '9788579303265'}], 'readingModes': {'text': False, 'image': False}, 'pageCount': 208, 'printType': 'BOOK', 'maturityRating': 'NOT_MATURE', 'allowAnonLogging': False, 'contentVersion': 'preview-1.0.0', 'panelizationSummary': {'containsEpubBubbles': False, 'containsImageBubbles': False}, 'imageLinks': {'smallThumbnail': 'http://books.google.com/books/content?id=fljzNAEACAAJ&printsec=frontcover&img=1&zoom=5&source=gbs_api', 'thumbnail': 'http://books.google.com/books/content?id=fljzNAEACAAJ&printsec=frontcover&img=1&zoom=1&source=gbs_api'}, 'language': 'pt-BR', 'previewLink': 'http://books.google.com.br/books?id=fljzNAEACAAJ&dq=mentes&hl=&cd=2&source=gbs_api', 'infoLink': 'http://books.google.com.br/books?id=fljzNAEACAAJ&dq=mentes&hl=&source=gbs_api', 'canonicalVolumeLink': 'https://books.google.com/books/about/Mentes_Brilhantes.html?hl=&id=fljzNAEACAAJ'}, 'saleInfo': {'country': 'BR', 'saleability': 'NOT_FOR_SALE', 'isEbook': False}, 'accessInfo': {'country': 'BR', 'viewability': 'NO_PAGES', 'embeddable': False, 'publicDomain': False, 'textToSpeechPermission': 'ALLOWED', 'epub': {'isAvailable': False}, 'pdf': {'isAvailable': False}, 'webReaderLink': 'http://play.google.com/books/reader?id=fljzNAEACAAJ&hl=&printsec=frontcover&source=gbs_api', 'accessViewStatus': 'NONE', 'quoteSharingAllowed': False}, 'searchInfo': {'textSnippet': 'Então, faz sentido afirmar que o segredo do sucesso pode ser resumido em ser criativo. Neste livro de Alberto Dell&#39;Isola, o leitor entrará em contato com técnicas profissionais para desenvolver toda a capacidade do cérebro. E, dessa'}}, {'kind': 'books#volume', 'id': 'eNJeDwAAQBAJ', 'etag': 'iTFCbzCfz8U', 'selfLink': 'https://www.googleapis.com/books/v1/volumes/eNJeDwAAQBAJ', 'volumeInfo': {'title': 'Mentes sombrias', 'authors': ['Alexandra Bracken'], 'publisher': 'Editora Intrinseca', 'publishedDate': '2018-06-29', 'description': 'A distopia que inspirou o novo filme dos produtores de Stranger Things Do dia para a noite, crianças começam a morrer de um misterioso mal súbito. Em pouco tempo, a doença se espalha e os que sobrevivem a ela desenvolvem habilidades psíquicas assustadoras. Uma delas é Ruby. Na manhã do seu décimo aniversário, um acontecimento aterrador faz com que seus pais a tranquem na garagem e chamem a polícia. A menina é então levada para Thurmond, um acampamento que segue as diretrizes brutais do governo vigente. Seis anos depois, ela se torna uma das jovens mais perigosas de Thurmond, embora tenha que esconder isso a todo custo para a própria segurança. Quando a verdade vem à tona, Ruby desperta o interesse de muitas pessoas e precisa escapar às pressas. Fora dali, ela se alia a fugitivos de outros acampamentos e conhece Liam, que lidera uma fuga em direção ao único refúgio para adolescentes como eles. Por mais que queira fazer amigos e ter uma vida normal, Ruby sabe que isso não vai ser possível, porque nenhum lugar é seguro, e ela não pode confiar em ninguém — nem em si mesma.', 'industryIdentifiers': [{'type': 'ISBN_13', 'identifier': '9788551003824'}, {'type': 'ISBN_10', 'identifier': '8551003828'}], 'readingModes': {'text': True, 'image': True}, 'pageCount': 384, 'printType': 'BOOK', 'categories': ['Fiction'], 'maturityRating': 'NOT_MATURE', 'allowAnonLogging': True, 'contentVersion': '1.3.4.0.preview.3', 'panelizationSummary': {'containsEpubBubbles': False, 'containsImageBubbles': False}, 'imageLinks': {'smallThumbnail': 'http://books.google.com/books/content?id=eNJeDwAAQBAJ&printsec=frontcover&img=1&zoom=5&edge=curl&source=gbs_api', 'thumbnail': 'http://books.google.com/books/content?id=eNJeDwAAQBAJ&printsec=frontcover&img=1&zoom=1&edge=curl&source=gbs_api'}, 'language': 'pt-BR', 'previewLink': 'http://books.google.com.br/books?id=eNJeDwAAQBAJ&printsec=frontcover&dq=mentes&hl=&cd=3&source=gbs_api', 'infoLink': 'https://play.google.com/store/books/details?id=eNJeDwAAQBAJ&source=gbs_api', 'canonicalVolumeLink': 'https://play.google.com/store/books/details?id=eNJeDwAAQBAJ'}, 'saleInfo': {'country': 'BR', 'saleability': 'FOR_SALE', 'isEbook': True, 'listPrice': {'amount': 34.9, 'currencyCode': 'BRL'}, 'retailPrice': {'amount': 31.41, 'currencyCode': 'BRL'}, 'buyLink': 'https://play.google.com/store/books/details?id=eNJeDwAAQBAJ&rdid=book-eNJeDwAAQBAJ&rdot=1&source=gbs_api', 'offers': [{'finskyOfferType': 1, 'listPrice': {'amountInMicros': 34900000, 'currencyCode': 'BRL'}, 'retailPrice': {'amountInMicros': 31410000, 'currencyCode': 'BRL'}, 'giftable': True}]}, 'accessInfo': {'country': 'BR', 'viewability': 'PARTIAL', 'embeddable': True, 'publicDomain': False, 'textToSpeechPermission': 'ALLOWED', 'epub': {'isAvailable': True, 'acsTokenLink': 'http://books.google.com.br/books/download/Mentes_sombrias-sample-epub.acsm?id=eNJeDwAAQBAJ&format=epub&output=acs4_fulfillment_token&dl_type=sample&source=gbs_api'}, 'pdf': {'isAvailable': True, 'acsTokenLink': 'http://books.google.com.br/books/download/Mentes_sombrias-sample-pdf.acsm?id=eNJeDwAAQBAJ&format=pdf&output=acs4_fulfillment_token&dl_type=sample&source=gbs_api'}, 'webReaderLink': 'http://play.google.com/books/reader?id=eNJeDwAAQBAJ&hl=&printsec=frontcover&source=gbs_api', 'accessViewStatus': 'SAMPLE', 'quoteSharingAllowed': False}, 'searchInfo': {'textSnippet': 'A distopia que inspirou o novo filme dos produtores de Stranger Things Do dia para a noite, crianças começam a morrer de um misterioso mal súbito.'}}, {'kind': 'books#volume', 'id': '5CXiwAEACAAJ', 'etag': 'UkxTrUUdsSI', 'selfLink': 'https://www.googleapis.com/books/v1/volumes/5CXiwAEACAAJ', 'volumeInfo': {'title': 'Bullying', 'subtitle': 'mentes perigosas nas escolas', 'authors': ['Ana Beatriz Barbosa Silva'], 'publishedDate': '2009', 'description': \"Em 'Bullying - Mentes perigosas nas escolas', a dra. Ana Beatriz faz uma análise sobre um dos tipos de violência que precisa ser combatido. O livro faz uma investigação do problema, apresentando informações aos pais, professores, alunos e profissionais de diversas áreas para identificar esse tipo de violência e suas consequências, como também o que se pode fazer para combatê-la.\", 'industryIdentifiers': [{'type': 'ISBN_10', 'identifier': '8539000598'}, {'type': 'ISBN_13', 'identifier': '9788539000593'}], 'readingModes': {'text': False, 'image': False}, 'pageCount': 187, 'printType': 'BOOK', 'maturityRating': 'NOT_MATURE', 'allowAnonLogging': False, 'contentVersion': 'preview-1.0.0', 'panelizationSummary': {'containsEpubBubbles': False, 'containsImageBubbles': False}, 'language': 'pt-BR', 'previewLink': 'http://books.google.com.br/books?id=5CXiwAEACAAJ&dq=mentes&hl=&cd=4&source=gbs_api', 'infoLink': 'http://books.google.com.br/books?id=5CXiwAEACAAJ&dq=mentes&hl=&source=gbs_api', 'canonicalVolumeLink': 'https://books.google.com/books/about/Bullying.html?hl=&id=5CXiwAEACAAJ'}, 'saleInfo': {'country': 'BR', 'saleability': 'NOT_FOR_SALE', 'isEbook': False}, 'accessInfo': {'country': 'BR', 'viewability': 'NO_PAGES', 'embeddable': False, 'publicDomain': False, 'textToSpeechPermission': 'ALLOWED', 'epub': {'isAvailable': False}, 'pdf': {'isAvailable': False}, 'webReaderLink': 'http://play.google.com/books/reader?id=5CXiwAEACAAJ&hl=&printsec=frontcover&source=gbs_api', 'accessViewStatus': 'NONE', 'quoteSharingAllowed': False}}, {'kind': 'books#volume', 'id': 'TEk3DwAAQBAJ', 'etag': 'za+ORRO7rNw', 'selfLink': 'https://www.googleapis.com/books/v1/volumes/TEk3DwAAQBAJ', 'volumeInfo': {'kind': 'books#volume', 'id': 'eNJeDwAAQBAJ', 'etag': 'iTFCbzCfz8U', 'selfLink': 'https://www.googleapis.com/books/v1/volumes/eNJeDwAAQBAJ', 'volumeInfo': {'title': 'Mentes sombrias', 'authors': ['Alexandra Bracken'], 'publisher': 'Editora Intrinseca', 'publishedDate': '2018-06-29', 'description': 'A distopia que inspirou o novo filme dos produtores de Stranger Things Do dia para a noite, crianças começam a morrer de um misterioso mal súbito. Em pouco tempo, a doença se espalha e os que sobrevivem a ela desenvolvem habilidades psíquicas assustadoras. Uma delas é Ruby. Na manhã do seu décimo aniversário, um acontecimento aterrador faz com que seus pais a tranquem na garagem e chamem a polícia. A menina é então levada para Thurmond, um acampamento que segue as diretrizes brutais do governo vigente. Seis anos depois, ela se torna uma das jovens mais perigosas de Thurmond, embora tenha que esconder isso a todo custo para a própria segurança. Quando a verdade vem à tona, Ruby desperta o interesse de muitas pessoas e precisa escapar às pressas. Fora dali, ela se alia a fugitivos de outros acampamentos e conhece Liam, que lidera uma fuga em direção ao único refúgio para adolescentes como eles. Por mais que queira fazer amigos e ter uma vida normal, Ruby sabe que isso não vai ser possível, porque nenhum lugar é seguro, e ela não pode confiar em ninguém — nem em si mesma.', 'industryIdentifiers': [{'type': 'ISBN_13', 'identifier': '9788551003824'}, {'type': 'ISBN_10', 'identifier': '8551003828'}], 'readingModes': {'text': True, 'image': True}, 'pageCount': 384, 'printType': 'BOOK', 'categories': ['Fiction'], 'maturityRating': 'NOT_MATURE', 'allowAnonLogging': True, 'contentVersion': '1.3.4.0.preview.3', 'panelizationSummary': {'containsEpubBubbles': False, 'containsImageBubbles': False}, 'imageLinks': {'smallThumbnail': 'http://books.google.com/books/content?id=eNJeDwAAQBAJ&printsec=frontcover&img=1&zoom=5&edge=curl&source=gbs_api', 'thumbnail': 'http://books.google.com/books/content?id=eNJeDwAAQBAJ&printsec=frontcover&img=1&zoom=1&edge=curl&source=gbs_api'}, 'language': 'pt-BR', 'previewLink': 'http://books.google.com.br/books?id=eNJeDwAAQBAJ&printsec=frontcover&dq=mentes&hl=&cd=3&source=gbs_api', 'infoLink': 'https://play.google.com/store/books/details?id=eNJeDwAAQBAJ&source=gbs_api', 'canonicalVolumeLink': 'https://play.google.com/store/books/details?id=eNJeDwAAQBAJ'}, 'saleInfo': {'country': 'BR', 'saleability': 'FOR_SALE', 'isEbook': True, 'listPrice': {'amount': 34.9, 'currencyCode': 'BRL'}, 'retailPrice': {'amount': 31.41, 'currencyCode': 'BRL'}, 'buyLink': 'https://play.google.com/store/books/details?id=eNJeDwAAQBAJ&rdid=book-eNJeDwAAQBAJ&rdot=1&source=gbs_api', 'offers': [{'finskyOfferType': 1, 'listPrice': {'amountInMicros': 34900000, 'currencyCode': 'BRL'}, 'retailPrice': {'amountInMicros': 31410000, 'currencyCode': 'BRL'}, 'giftable': True}]}, 'accessInfo': {'country': 'BR', 'viewability': 'PARTIAL', 'embeddable': True, 'publicDomain': False, 'textToSpeechPermission': 'ALLOWED', 'epub': {'isAvailable': True, 'acsTokenLink': 'http://books.google.com.br/books/download/Mentes_sombrias-sample-epub.acsm?id=eNJeDwAAQBAJ&format=epub&output=acs4_fulfillment_token&dl_type=sample&source=gbs_api'}, 'pdf': {'isAvailable': True, 'acsTokenLink': 'http://books.google.com.br/books/download/Mentes_sombrias-sample-pdf.acsm?id=eNJeDwAAQBAJ&format=pdf&output=acs4_fulfillment_token&dl_type=sample&source=gbs_api'}, 'webReaderLink': 'http://play.google.com/books/reader?id=eNJeDwAAQBAJ&hl=&printsec=frontcover&source=gbs_api', 'accessViewStatus': 'SAMPLE', 'quoteSharingAllowed': False}, 'searchInfo': {'textSnippet': 'A distopia que inspirou o novo filme dos produtores de Stranger Things Do dia para a noite, crianças começam a morrer de um misterioso mal súbito.'}}, 'saleInfo': {'country': 'BR', 'saleability': 'FOR_SALE', 'isEbook': True, 'listPrice': {'amount': 29.94, 'currencyCode': 'BRL'}, 'retailPrice': {'amount': 27.9, 'currencyCode': 'BRL'}, 'buyLink': 'https://play.google.com/store/books/details?id=TEk3DwAAQBAJ&rdid=book-TEk3DwAAQBAJ&rdot=1&source=gbs_api', 'offers': [{'finskyOfferType': 1, 'listPrice': {'amountInMicros': 29940000, 'currencyCode': 'BRL'}, 'retailPrice': {'amountInMicros': 27900000, 'currencyCode': 'BRL'}, 'giftable': True}]}, 'accessInfo': {'country': 'BR', 'viewability': 'PARTIAL', 'embeddable': True, 'publicDomain': False, 'textToSpeechPermission': 'ALLOWED', 'epub': {'isAvailable': True, 'acsTokenLink': 'http://books.google.com.br/books/download/Mentes_Ansiosas-sample-epub.acsm?id=TEk3DwAAQBAJ&format=epub&output=acs4_fulfillment_token&dl_type=sample&source=gbs_api'}, 'pdf': {'isAvailable': True, 'acsTokenLink': 'http://books.google.com.br/books/download/Mentes_Ansiosas-sample-pdf.acsm?id=TEk3DwAAQBAJ&format=pdf&output=acs4_fulfillment_token&dl_type=sample&source=gbs_api'}, 'webReaderLink': 'http://play.google.com/books/reader?id=TEk3DwAAQBAJ&hl=&printsec=frontcover&source=gbs_api', 'accessViewStatus': 'SAMPLE', 'quoteSharingAllowed': False}, 'searchInfo': {'textSnippet': 'Nesta nova edição revista, atualizada e ampliada de &quot;Mentes ansiosas – o medo e a ansiedade nossos de cada dia&quot;, a psiquiatra e best-seller Ana Beatriz Barbosa Silva aborda as diferentes manifestações da ansiedade.'}}]\n",
      "-=-=-=\n",
      "[{'kind': 'books#volume', 'id': 'HLi2wAEACAAJ', 'etag': 'TmDfPqYgi9k', 'selfLink': 'https://www.googleapis.com/books/v1/volumes/HLi2wAEACAAJ', 'volumeInfo': {...}, 'saleInfo': {'country': 'BR', 'saleability': 'NOT_FOR_SALE', 'isEbook': False}, 'accessInfo': {'country': 'BR', 'viewability': 'NO_PAGES', 'embeddable': False, 'publicDomain': False, 'textToSpeechPermission': 'ALLOWED', 'epub': {'isAvailable': False}, 'pdf': {'isAvailable': False}, 'webReaderLink': 'http://play.google.com/books/reader?id=HLi2wAEACAAJ&hl=&printsec=frontcover&source=gbs_api', 'accessViewStatus': 'NONE', 'quoteSharingAllowed': False}, 'searchInfo': {'textSnippet': 'Alberto Dell’isola: O Homem-memória brasileiro, detentor de dois recordes latino-americanos de memorização• Técnicas efetivas de memorização• Como memorizar nomes, fisionomias e datas• Memorize leis e artigos jurídicos • ...'}}, {'kind': 'books#volume', 'id': 'fljzNAEACAAJ', 'etag': 'URQWJGPYHGk', 'selfLink': 'https://www.googleapis.com/books/v1/volumes/fljzNAEACAAJ', 'volumeInfo': {'title': 'Mentes Brilhantes', 'authors': [\"Alberto Dell'isola\"], 'publishedDate': '2020-02-19', 'description': \"Todo mundo reconhece aqueles que inovam, criam ou provocam situações que, de alguma forma, chamam a atenção. Então, faz sentido afirmar que o segredo do sucesso pode ser resumido em ser criativo. Neste livro de Alberto Dell'Isola, o leitor entrará em contato com técnicas profissionais para desenvolver toda a capacidade do cérebro. E, dessa\", 'industryIdentifiers': [{'type': 'ISBN_10', 'identifier': '8579303265'}, {'type': 'ISBN_13', 'identifier': '9788579303265'}], 'readingModes': {'text': False, 'image': False}, 'pageCount': 208, 'printType': 'BOOK', 'maturityRating': 'NOT_MATURE', 'allowAnonLogging': False, 'contentVersion': 'preview-1.0.0', 'panelizationSummary': {'containsEpubBubbles': False, 'containsImageBubbles': False}, 'imageLinks': {'smallThumbnail': 'http://books.google.com/books/content?id=fljzNAEACAAJ&printsec=frontcover&img=1&zoom=5&source=gbs_api', 'thumbnail': 'http://books.google.com/books/content?id=fljzNAEACAAJ&printsec=frontcover&img=1&zoom=1&source=gbs_api'}, 'language': 'pt-BR', 'previewLink': 'http://books.google.com.br/books?id=fljzNAEACAAJ&dq=mentes&hl=&cd=2&source=gbs_api', 'infoLink': 'http://books.google.com.br/books?id=fljzNAEACAAJ&dq=mentes&hl=&source=gbs_api', 'canonicalVolumeLink': 'https://books.google.com/books/about/Mentes_Brilhantes.html?hl=&id=fljzNAEACAAJ'}, 'saleInfo': {'country': 'BR', 'saleability': 'NOT_FOR_SALE', 'isEbook': False}, 'accessInfo': {'country': 'BR', 'viewability': 'NO_PAGES', 'embeddable': False, 'publicDomain': False, 'textToSpeechPermission': 'ALLOWED', 'epub': {'isAvailable': False}, 'pdf': {'isAvailable': False}, 'webReaderLink': 'http://play.google.com/books/reader?id=fljzNAEACAAJ&hl=&printsec=frontcover&source=gbs_api', 'accessViewStatus': 'NONE', 'quoteSharingAllowed': False}, 'searchInfo': {'textSnippet': 'Então, faz sentido afirmar que o segredo do sucesso pode ser resumido em ser criativo. Neste livro de Alberto Dell&#39;Isola, o leitor entrará em contato com técnicas profissionais para desenvolver toda a capacidade do cérebro. E, dessa'}}, {'kind': 'books#volume', 'id': 'eNJeDwAAQBAJ', 'etag': 'iTFCbzCfz8U', 'selfLink': 'https://www.googleapis.com/books/v1/volumes/eNJeDwAAQBAJ', 'volumeInfo': {'title': 'Mentes sombrias', 'authors': ['Alexandra Bracken'], 'publisher': 'Editora Intrinseca', 'publishedDate': '2018-06-29', 'description': 'A distopia que inspirou o novo filme dos produtores de Stranger Things Do dia para a noite, crianças começam a morrer de um misterioso mal súbito. Em pouco tempo, a doença se espalha e os que sobrevivem a ela desenvolvem habilidades psíquicas assustadoras. Uma delas é Ruby. Na manhã do seu décimo aniversário, um acontecimento aterrador faz com que seus pais a tranquem na garagem e chamem a polícia. A menina é então levada para Thurmond, um acampamento que segue as diretrizes brutais do governo vigente. Seis anos depois, ela se torna uma das jovens mais perigosas de Thurmond, embora tenha que esconder isso a todo custo para a própria segurança. Quando a verdade vem à tona, Ruby desperta o interesse de muitas pessoas e precisa escapar às pressas. Fora dali, ela se alia a fugitivos de outros acampamentos e conhece Liam, que lidera uma fuga em direção ao único refúgio para adolescentes como eles. Por mais que queira fazer amigos e ter uma vida normal, Ruby sabe que isso não vai ser possível, porque nenhum lugar é seguro, e ela não pode confiar em ninguém — nem em si mesma.', 'industryIdentifiers': [{'type': 'ISBN_13', 'identifier': '9788551003824'}, {'type': 'ISBN_10', 'identifier': '8551003828'}], 'readingModes': {'text': True, 'image': True}, 'pageCount': 384, 'printType': 'BOOK', 'categories': ['Fiction'], 'maturityRating': 'NOT_MATURE', 'allowAnonLogging': True, 'contentVersion': '1.3.4.0.preview.3', 'panelizationSummary': {'containsEpubBubbles': False, 'containsImageBubbles': False}, 'imageLinks': {'smallThumbnail': 'http://books.google.com/books/content?id=eNJeDwAAQBAJ&printsec=frontcover&img=1&zoom=5&edge=curl&source=gbs_api', 'thumbnail': 'http://books.google.com/books/content?id=eNJeDwAAQBAJ&printsec=frontcover&img=1&zoom=1&edge=curl&source=gbs_api'}, 'language': 'pt-BR', 'previewLink': 'http://books.google.com.br/books?id=eNJeDwAAQBAJ&printsec=frontcover&dq=mentes&hl=&cd=3&source=gbs_api', 'infoLink': 'https://play.google.com/store/books/details?id=eNJeDwAAQBAJ&source=gbs_api', 'canonicalVolumeLink': 'https://play.google.com/store/books/details?id=eNJeDwAAQBAJ'}, 'saleInfo': {'country': 'BR', 'saleability': 'FOR_SALE', 'isEbook': True, 'listPrice': {'amount': 34.9, 'currencyCode': 'BRL'}, 'retailPrice': {'amount': 31.41, 'currencyCode': 'BRL'}, 'buyLink': 'https://play.google.com/store/books/details?id=eNJeDwAAQBAJ&rdid=book-eNJeDwAAQBAJ&rdot=1&source=gbs_api', 'offers': [{'finskyOfferType': 1, 'listPrice': {'amountInMicros': 34900000, 'currencyCode': 'BRL'}, 'retailPrice': {'amountInMicros': 31410000, 'currencyCode': 'BRL'}, 'giftable': True}]}, 'accessInfo': {'country': 'BR', 'viewability': 'PARTIAL', 'embeddable': True, 'publicDomain': False, 'textToSpeechPermission': 'ALLOWED', 'epub': {'isAvailable': True, 'acsTokenLink': 'http://books.google.com.br/books/download/Mentes_sombrias-sample-epub.acsm?id=eNJeDwAAQBAJ&format=epub&output=acs4_fulfillment_token&dl_type=sample&source=gbs_api'}, 'pdf': {'isAvailable': True, 'acsTokenLink': 'http://books.google.com.br/books/download/Mentes_sombrias-sample-pdf.acsm?id=eNJeDwAAQBAJ&format=pdf&output=acs4_fulfillment_token&dl_type=sample&source=gbs_api'}, 'webReaderLink': 'http://play.google.com/books/reader?id=eNJeDwAAQBAJ&hl=&printsec=frontcover&source=gbs_api', 'accessViewStatus': 'SAMPLE', 'quoteSharingAllowed': False}, 'searchInfo': {'textSnippet': 'A distopia que inspirou o novo filme dos produtores de Stranger Things Do dia para a noite, crianças começam a morrer de um misterioso mal súbito.'}}, {'kind': 'books#volume', 'id': '5CXiwAEACAAJ', 'etag': 'UkxTrUUdsSI', 'selfLink': 'https://www.googleapis.com/books/v1/volumes/5CXiwAEACAAJ', 'volumeInfo': {'title': 'Bullying', 'subtitle': 'mentes perigosas nas escolas', 'authors': ['Ana Beatriz Barbosa Silva'], 'publishedDate': '2009', 'description': \"Em 'Bullying - Mentes perigosas nas escolas', a dra. Ana Beatriz faz uma análise sobre um dos tipos de violência que precisa ser combatido. O livro faz uma investigação do problema, apresentando informações aos pais, professores, alunos e profissionais de diversas áreas para identificar esse tipo de violência e suas consequências, como também o que se pode fazer para combatê-la.\", 'industryIdentifiers': [{'type': 'ISBN_10', 'identifier': '8539000598'}, {'type': 'ISBN_13', 'identifier': '9788539000593'}], 'readingModes': {'text': False, 'image': False}, 'pageCount': 187, 'printType': 'BOOK', 'maturityRating': 'NOT_MATURE', 'allowAnonLogging': False, 'contentVersion': 'preview-1.0.0', 'panelizationSummary': {'containsEpubBubbles': False, 'containsImageBubbles': False}, 'language': 'pt-BR', 'previewLink': 'http://books.google.com.br/books?id=5CXiwAEACAAJ&dq=mentes&hl=&cd=4&source=gbs_api', 'infoLink': 'http://books.google.com.br/books?id=5CXiwAEACAAJ&dq=mentes&hl=&source=gbs_api', 'canonicalVolumeLink': 'https://books.google.com/books/about/Bullying.html?hl=&id=5CXiwAEACAAJ'}, 'saleInfo': {'country': 'BR', 'saleability': 'NOT_FOR_SALE', 'isEbook': False}, 'accessInfo': {'country': 'BR', 'viewability': 'NO_PAGES', 'embeddable': False, 'publicDomain': False, 'textToSpeechPermission': 'ALLOWED', 'epub': {'isAvailable': False}, 'pdf': {'isAvailable': False}, 'webReaderLink': 'http://play.google.com/books/reader?id=5CXiwAEACAAJ&hl=&printsec=frontcover&source=gbs_api', 'accessViewStatus': 'NONE', 'quoteSharingAllowed': False}}, {'kind': 'books#volume', 'id': 'TEk3DwAAQBAJ', 'etag': 'za+ORRO7rNw', 'selfLink': 'https://www.googleapis.com/books/v1/volumes/TEk3DwAAQBAJ', 'volumeInfo': {'kind': 'books#volume', 'id': '5CXiwAEACAAJ', 'etag': 'UkxTrUUdsSI', 'selfLink': 'https://www.googleapis.com/books/v1/volumes/5CXiwAEACAAJ', 'volumeInfo': {'title': 'Bullying', 'subtitle': 'mentes perigosas nas escolas', 'authors': ['Ana Beatriz Barbosa Silva'], 'publishedDate': '2009', 'description': \"Em 'Bullying - Mentes perigosas nas escolas', a dra. Ana Beatriz faz uma análise sobre um dos tipos de violência que precisa ser combatido. O livro faz uma investigação do problema, apresentando informações aos pais, professores, alunos e profissionais de diversas áreas para identificar esse tipo de violência e suas consequências, como também o que se pode fazer para combatê-la.\", 'industryIdentifiers': [{'type': 'ISBN_10', 'identifier': '8539000598'}, {'type': 'ISBN_13', 'identifier': '9788539000593'}], 'readingModes': {'text': False, 'image': False}, 'pageCount': 187, 'printType': 'BOOK', 'maturityRating': 'NOT_MATURE', 'allowAnonLogging': False, 'contentVersion': 'preview-1.0.0', 'panelizationSummary': {'containsEpubBubbles': False, 'containsImageBubbles': False}, 'language': 'pt-BR', 'previewLink': 'http://books.google.com.br/books?id=5CXiwAEACAAJ&dq=mentes&hl=&cd=4&source=gbs_api', 'infoLink': 'http://books.google.com.br/books?id=5CXiwAEACAAJ&dq=mentes&hl=&source=gbs_api', 'canonicalVolumeLink': 'https://books.google.com/books/about/Bullying.html?hl=&id=5CXiwAEACAAJ'}, 'saleInfo': {'country': 'BR', 'saleability': 'NOT_FOR_SALE', 'isEbook': False}, 'accessInfo': {'country': 'BR', 'viewability': 'NO_PAGES', 'embeddable': False, 'publicDomain': False, 'textToSpeechPermission': 'ALLOWED', 'epub': {'isAvailable': False}, 'pdf': {'isAvailable': False}, 'webReaderLink': 'http://play.google.com/books/reader?id=5CXiwAEACAAJ&hl=&printsec=frontcover&source=gbs_api', 'accessViewStatus': 'NONE', 'quoteSharingAllowed': False}}, 'saleInfo': {'country': 'BR', 'saleability': 'FOR_SALE', 'isEbook': True, 'listPrice': {'amount': 29.94, 'currencyCode': 'BRL'}, 'retailPrice': {'amount': 27.9, 'currencyCode': 'BRL'}, 'buyLink': 'https://play.google.com/store/books/details?id=TEk3DwAAQBAJ&rdid=book-TEk3DwAAQBAJ&rdot=1&source=gbs_api', 'offers': [{'finskyOfferType': 1, 'listPrice': {'amountInMicros': 29940000, 'currencyCode': 'BRL'}, 'retailPrice': {'amountInMicros': 27900000, 'currencyCode': 'BRL'}, 'giftable': True}]}, 'accessInfo': {'country': 'BR', 'viewability': 'PARTIAL', 'embeddable': True, 'publicDomain': False, 'textToSpeechPermission': 'ALLOWED', 'epub': {'isAvailable': True, 'acsTokenLink': 'http://books.google.com.br/books/download/Mentes_Ansiosas-sample-epub.acsm?id=TEk3DwAAQBAJ&format=epub&output=acs4_fulfillment_token&dl_type=sample&source=gbs_api'}, 'pdf': {'isAvailable': True, 'acsTokenLink': 'http://books.google.com.br/books/download/Mentes_Ansiosas-sample-pdf.acsm?id=TEk3DwAAQBAJ&format=pdf&output=acs4_fulfillment_token&dl_type=sample&source=gbs_api'}, 'webReaderLink': 'http://play.google.com/books/reader?id=TEk3DwAAQBAJ&hl=&printsec=frontcover&source=gbs_api', 'accessViewStatus': 'SAMPLE', 'quoteSharingAllowed': False}, 'searchInfo': {'textSnippet': 'Nesta nova edição revista, atualizada e ampliada de &quot;Mentes ansiosas – o medo e a ansiedade nossos de cada dia&quot;, a psiquiatra e best-seller Ana Beatriz Barbosa Silva aborda as diferentes manifestações da ansiedade.'}}]\n",
      "-=-=-=\n",
      "[{'kind': 'books#volume', 'id': 'HLi2wAEACAAJ', 'etag': 'TmDfPqYgi9k', 'selfLink': 'https://www.googleapis.com/books/v1/volumes/HLi2wAEACAAJ', 'volumeInfo': {...}, 'saleInfo': {'country': 'BR', 'saleability': 'NOT_FOR_SALE', 'isEbook': False}, 'accessInfo': {'country': 'BR', 'viewability': 'NO_PAGES', 'embeddable': False, 'publicDomain': False, 'textToSpeechPermission': 'ALLOWED', 'epub': {'isAvailable': False}, 'pdf': {'isAvailable': False}, 'webReaderLink': 'http://play.google.com/books/reader?id=HLi2wAEACAAJ&hl=&printsec=frontcover&source=gbs_api', 'accessViewStatus': 'NONE', 'quoteSharingAllowed': False}, 'searchInfo': {'textSnippet': 'Alberto Dell’isola: O Homem-memória brasileiro, detentor de dois recordes latino-americanos de memorização• Técnicas efetivas de memorização• Como memorizar nomes, fisionomias e datas• Memorize leis e artigos jurídicos • ...'}}, {'kind': 'books#volume', 'id': 'fljzNAEACAAJ', 'etag': 'URQWJGPYHGk', 'selfLink': 'https://www.googleapis.com/books/v1/volumes/fljzNAEACAAJ', 'volumeInfo': {'title': 'Mentes Brilhantes', 'authors': [\"Alberto Dell'isola\"], 'publishedDate': '2020-02-19', 'description': \"Todo mundo reconhece aqueles que inovam, criam ou provocam situações que, de alguma forma, chamam a atenção. Então, faz sentido afirmar que o segredo do sucesso pode ser resumido em ser criativo. Neste livro de Alberto Dell'Isola, o leitor entrará em contato com técnicas profissionais para desenvolver toda a capacidade do cérebro. E, dessa\", 'industryIdentifiers': [{'type': 'ISBN_10', 'identifier': '8579303265'}, {'type': 'ISBN_13', 'identifier': '9788579303265'}], 'readingModes': {'text': False, 'image': False}, 'pageCount': 208, 'printType': 'BOOK', 'maturityRating': 'NOT_MATURE', 'allowAnonLogging': False, 'contentVersion': 'preview-1.0.0', 'panelizationSummary': {'containsEpubBubbles': False, 'containsImageBubbles': False}, 'imageLinks': {'smallThumbnail': 'http://books.google.com/books/content?id=fljzNAEACAAJ&printsec=frontcover&img=1&zoom=5&source=gbs_api', 'thumbnail': 'http://books.google.com/books/content?id=fljzNAEACAAJ&printsec=frontcover&img=1&zoom=1&source=gbs_api'}, 'language': 'pt-BR', 'previewLink': 'http://books.google.com.br/books?id=fljzNAEACAAJ&dq=mentes&hl=&cd=2&source=gbs_api', 'infoLink': 'http://books.google.com.br/books?id=fljzNAEACAAJ&dq=mentes&hl=&source=gbs_api', 'canonicalVolumeLink': 'https://books.google.com/books/about/Mentes_Brilhantes.html?hl=&id=fljzNAEACAAJ'}, 'saleInfo': {'country': 'BR', 'saleability': 'NOT_FOR_SALE', 'isEbook': False}, 'accessInfo': {'country': 'BR', 'viewability': 'NO_PAGES', 'embeddable': False, 'publicDomain': False, 'textToSpeechPermission': 'ALLOWED', 'epub': {'isAvailable': False}, 'pdf': {'isAvailable': False}, 'webReaderLink': 'http://play.google.com/books/reader?id=fljzNAEACAAJ&hl=&printsec=frontcover&source=gbs_api', 'accessViewStatus': 'NONE', 'quoteSharingAllowed': False}, 'searchInfo': {'textSnippet': 'Então, faz sentido afirmar que o segredo do sucesso pode ser resumido em ser criativo. Neste livro de Alberto Dell&#39;Isola, o leitor entrará em contato com técnicas profissionais para desenvolver toda a capacidade do cérebro. E, dessa'}}, {'kind': 'books#volume', 'id': 'eNJeDwAAQBAJ', 'etag': 'iTFCbzCfz8U', 'selfLink': 'https://www.googleapis.com/books/v1/volumes/eNJeDwAAQBAJ', 'volumeInfo': {'title': 'Mentes sombrias', 'authors': ['Alexandra Bracken'], 'publisher': 'Editora Intrinseca', 'publishedDate': '2018-06-29', 'description': 'A distopia que inspirou o novo filme dos produtores de Stranger Things Do dia para a noite, crianças começam a morrer de um misterioso mal súbito. Em pouco tempo, a doença se espalha e os que sobrevivem a ela desenvolvem habilidades psíquicas assustadoras. Uma delas é Ruby. Na manhã do seu décimo aniversário, um acontecimento aterrador faz com que seus pais a tranquem na garagem e chamem a polícia. A menina é então levada para Thurmond, um acampamento que segue as diretrizes brutais do governo vigente. Seis anos depois, ela se torna uma das jovens mais perigosas de Thurmond, embora tenha que esconder isso a todo custo para a própria segurança. Quando a verdade vem à tona, Ruby desperta o interesse de muitas pessoas e precisa escapar às pressas. Fora dali, ela se alia a fugitivos de outros acampamentos e conhece Liam, que lidera uma fuga em direção ao único refúgio para adolescentes como eles. Por mais que queira fazer amigos e ter uma vida normal, Ruby sabe que isso não vai ser possível, porque nenhum lugar é seguro, e ela não pode confiar em ninguém — nem em si mesma.', 'industryIdentifiers': [{'type': 'ISBN_13', 'identifier': '9788551003824'}, {'type': 'ISBN_10', 'identifier': '8551003828'}], 'readingModes': {'text': True, 'image': True}, 'pageCount': 384, 'printType': 'BOOK', 'categories': ['Fiction'], 'maturityRating': 'NOT_MATURE', 'allowAnonLogging': True, 'contentVersion': '1.3.4.0.preview.3', 'panelizationSummary': {'containsEpubBubbles': False, 'containsImageBubbles': False}, 'imageLinks': {'smallThumbnail': 'http://books.google.com/books/content?id=eNJeDwAAQBAJ&printsec=frontcover&img=1&zoom=5&edge=curl&source=gbs_api', 'thumbnail': 'http://books.google.com/books/content?id=eNJeDwAAQBAJ&printsec=frontcover&img=1&zoom=1&edge=curl&source=gbs_api'}, 'language': 'pt-BR', 'previewLink': 'http://books.google.com.br/books?id=eNJeDwAAQBAJ&printsec=frontcover&dq=mentes&hl=&cd=3&source=gbs_api', 'infoLink': 'https://play.google.com/store/books/details?id=eNJeDwAAQBAJ&source=gbs_api', 'canonicalVolumeLink': 'https://play.google.com/store/books/details?id=eNJeDwAAQBAJ'}, 'saleInfo': {'country': 'BR', 'saleability': 'FOR_SALE', 'isEbook': True, 'listPrice': {'amount': 34.9, 'currencyCode': 'BRL'}, 'retailPrice': {'amount': 31.41, 'currencyCode': 'BRL'}, 'buyLink': 'https://play.google.com/store/books/details?id=eNJeDwAAQBAJ&rdid=book-eNJeDwAAQBAJ&rdot=1&source=gbs_api', 'offers': [{'finskyOfferType': 1, 'listPrice': {'amountInMicros': 34900000, 'currencyCode': 'BRL'}, 'retailPrice': {'amountInMicros': 31410000, 'currencyCode': 'BRL'}, 'giftable': True}]}, 'accessInfo': {'country': 'BR', 'viewability': 'PARTIAL', 'embeddable': True, 'publicDomain': False, 'textToSpeechPermission': 'ALLOWED', 'epub': {'isAvailable': True, 'acsTokenLink': 'http://books.google.com.br/books/download/Mentes_sombrias-sample-epub.acsm?id=eNJeDwAAQBAJ&format=epub&output=acs4_fulfillment_token&dl_type=sample&source=gbs_api'}, 'pdf': {'isAvailable': True, 'acsTokenLink': 'http://books.google.com.br/books/download/Mentes_sombrias-sample-pdf.acsm?id=eNJeDwAAQBAJ&format=pdf&output=acs4_fulfillment_token&dl_type=sample&source=gbs_api'}, 'webReaderLink': 'http://play.google.com/books/reader?id=eNJeDwAAQBAJ&hl=&printsec=frontcover&source=gbs_api', 'accessViewStatus': 'SAMPLE', 'quoteSharingAllowed': False}, 'searchInfo': {'textSnippet': 'A distopia que inspirou o novo filme dos produtores de Stranger Things Do dia para a noite, crianças começam a morrer de um misterioso mal súbito.'}}, {'kind': 'books#volume', 'id': '5CXiwAEACAAJ', 'etag': 'UkxTrUUdsSI', 'selfLink': 'https://www.googleapis.com/books/v1/volumes/5CXiwAEACAAJ', 'volumeInfo': {'title': 'Bullying', 'subtitle': 'mentes perigosas nas escolas', 'authors': ['Ana Beatriz Barbosa Silva'], 'publishedDate': '2009', 'description': \"Em 'Bullying - Mentes perigosas nas escolas', a dra. Ana Beatriz faz uma análise sobre um dos tipos de violência que precisa ser combatido. O livro faz uma investigação do problema, apresentando informações aos pais, professores, alunos e profissionais de diversas áreas para identificar esse tipo de violência e suas consequências, como também o que se pode fazer para combatê-la.\", 'industryIdentifiers': [{'type': 'ISBN_10', 'identifier': '8539000598'}, {'type': 'ISBN_13', 'identifier': '9788539000593'}], 'readingModes': {'text': False, 'image': False}, 'pageCount': 187, 'printType': 'BOOK', 'maturityRating': 'NOT_MATURE', 'allowAnonLogging': False, 'contentVersion': 'preview-1.0.0', 'panelizationSummary': {'containsEpubBubbles': False, 'containsImageBubbles': False}, 'language': 'pt-BR', 'previewLink': 'http://books.google.com.br/books?id=5CXiwAEACAAJ&dq=mentes&hl=&cd=4&source=gbs_api', 'infoLink': 'http://books.google.com.br/books?id=5CXiwAEACAAJ&dq=mentes&hl=&source=gbs_api', 'canonicalVolumeLink': 'https://books.google.com/books/about/Bullying.html?hl=&id=5CXiwAEACAAJ'}, 'saleInfo': {'country': 'BR', 'saleability': 'NOT_FOR_SALE', 'isEbook': False}, 'accessInfo': {'country': 'BR', 'viewability': 'NO_PAGES', 'embeddable': False, 'publicDomain': False, 'textToSpeechPermission': 'ALLOWED', 'epub': {'isAvailable': False}, 'pdf': {'isAvailable': False}, 'webReaderLink': 'http://play.google.com/books/reader?id=5CXiwAEACAAJ&hl=&printsec=frontcover&source=gbs_api', 'accessViewStatus': 'NONE', 'quoteSharingAllowed': False}}, {'kind': 'books#volume', 'id': 'TEk3DwAAQBAJ', 'etag': 'za+ORRO7rNw', 'selfLink': 'https://www.googleapis.com/books/v1/volumes/TEk3DwAAQBAJ', 'volumeInfo': {...}, 'saleInfo': {'country': 'BR', 'saleability': 'FOR_SALE', 'isEbook': True, 'listPrice': {'amount': 29.94, 'currencyCode': 'BRL'}, 'retailPrice': {'amount': 27.9, 'currencyCode': 'BRL'}, 'buyLink': 'https://play.google.com/store/books/details?id=TEk3DwAAQBAJ&rdid=book-TEk3DwAAQBAJ&rdot=1&source=gbs_api', 'offers': [{'finskyOfferType': 1, 'listPrice': {'amountInMicros': 29940000, 'currencyCode': 'BRL'}, 'retailPrice': {'amountInMicros': 27900000, 'currencyCode': 'BRL'}, 'giftable': True}]}, 'accessInfo': {'country': 'BR', 'viewability': 'PARTIAL', 'embeddable': True, 'publicDomain': False, 'textToSpeechPermission': 'ALLOWED', 'epub': {'isAvailable': True, 'acsTokenLink': 'http://books.google.com.br/books/download/Mentes_Ansiosas-sample-epub.acsm?id=TEk3DwAAQBAJ&format=epub&output=acs4_fulfillment_token&dl_type=sample&source=gbs_api'}, 'pdf': {'isAvailable': True, 'acsTokenLink': 'http://books.google.com.br/books/download/Mentes_Ansiosas-sample-pdf.acsm?id=TEk3DwAAQBAJ&format=pdf&output=acs4_fulfillment_token&dl_type=sample&source=gbs_api'}, 'webReaderLink': 'http://play.google.com/books/reader?id=TEk3DwAAQBAJ&hl=&printsec=frontcover&source=gbs_api', 'accessViewStatus': 'SAMPLE', 'quoteSharingAllowed': False}, 'searchInfo': {'textSnippet': 'Nesta nova edição revista, atualizada e ampliada de &quot;Mentes ansiosas – o medo e a ansiedade nossos de cada dia&quot;, a psiquiatra e best-seller Ana Beatriz Barbosa Silva aborda as diferentes manifestações da ansiedade.'}}]\n"
     ]
    }
   ],
   "metadata": {}
  }
 ],
 "metadata": {
  "kernelspec": {
   "name": "python3",
   "display_name": "Python 3.9.5 64-bit ('venv': venv)"
  },
  "language_info": {
   "codemirror_mode": {
    "name": "ipython",
    "version": 3
   },
   "file_extension": ".py",
   "mimetype": "text/x-python",
   "name": "python",
   "nbconvert_exporter": "python",
   "pygments_lexer": "ipython3",
   "version": "3.9.5"
  },
  "interpreter": {
   "hash": "1c60b6559e6f2313bd83830ee57482056046db25f9dbb5b54a689bb628eef610"
  }
 },
 "nbformat": 4,
 "nbformat_minor": 5
}