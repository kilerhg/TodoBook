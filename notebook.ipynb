{
 "cells": [
  {
   "cell_type": "code",
   "execution_count": 6,
   "id": "07dac5b2-c67f-4b72-a32a-e35f9048403e",
   "metadata": {},
   "outputs": [],
   "source": [
    "import requests\n",
    "import pandas as pd\n",
    "import json"
   ]
  },
  {
   "cell_type": "code",
   "execution_count": 10,
   "id": "c7610ec5-1b28-463c-bcdb-63d2d120dfbe",
   "metadata": {},
   "outputs": [],
   "source": [
    "def ConsumirAPI(url,busca):\n",
    "    url = str(url)\n",
    "    busca = str(busca)\n",
    "    resposta = requests.get(url+busca).json()\n",
    "\n",
    "    return resposta\n",
    "\n",
    "def Head(resposta,qtd_resposta=5):\n",
    "    limpo = resposta['items'][:qtd_resposta]\n",
    "    return limpo"
   ]
  },
  {
   "cell_type": "code",
   "execution_count": 8,
   "id": "0f0d581f-4be2-41a4-9445-bbbc455f6174",
   "metadata": {},
   "outputs": [],
   "source": [
    "' MAIN '\n",
    "\n",
    "url = 'https://www.googleapis.com/books/v1/volumes?q='\n",
    "busca = 'mentes'\n",
    "\n",
    "dados = Head(ConsumirAPI(url,busca))\n",
    "# a = [str(dados)[55:-1]]\n",
    "# 55"
   ]
  },
  {
   "cell_type": "code",
   "execution_count": 28,
   "id": "eebaf188-c5d8-4a1d-9b39-26dbaf8ae842",
   "metadata": {},
   "outputs": [
    {
     "data": {
      "text/plain": [
       "dict_keys(['title', 'authors', 'publisher', 'description', 'industryIdentifiers', 'readingModes', 'pageCount', 'printType', 'maturityRating', 'allowAnonLogging', 'contentVersion', 'panelizationSummary', 'imageLinks', 'language', 'previewLink', 'infoLink', 'canonicalVolumeLink'])"
      ]
     },
     "execution_count": 28,
     "metadata": {},
     "output_type": "execute_result"
    }
   ],
   "source": [
    "dados[0]['volumeInfo'].keys()"
   ]
  },
  {
   "cell_type": "code",
   "execution_count": 36,
   "id": "69e40f02-5b71-4217-a10f-0bc7b7c208f9",
   "metadata": {},
   "outputs": [],
   "source": [
    "valores = dados[0]['volumeInfo']"
   ]
  },
  {
   "cell_type": "code",
   "execution_count": 37,
   "id": "54f98293",
   "metadata": {},
   "outputs": [
    {
     "data": {
      "text/plain": [
       "'OTHER'"
      ]
     },
     "execution_count": 37,
     "metadata": {},
     "output_type": "execute_result"
    }
   ],
   "source": [
    "valores['industryIdentifiers'][0]['type']"
   ]
  },
  {
   "cell_type": "code",
   "execution_count": 38,
   "id": "7e4780b1",
   "metadata": {},
   "outputs": [
    {
     "data": {
      "text/plain": [
       "'Diálogo Das Mentes'"
      ]
     },
     "execution_count": 38,
     "metadata": {},
     "output_type": "execute_result"
    }
   ],
   "source": [
    "valores['title']"
   ]
  },
  {
   "cell_type": "code",
   "execution_count": 40,
   "id": "c8d13dc6",
   "metadata": {},
   "outputs": [],
   "source": [
    "interessantes = ['title', 'authors', 'publisher', 'description', 'industryIdentifiers', 'maturityRating', 'imageLinks', 'language', 'previewLink', 'infoLink']"
   ]
  },
  {
   "cell_type": "code",
   "execution_count": 48,
   "id": "35dcf4fc",
   "metadata": {},
   "outputs": [
    {
     "name": "stdout",
     "output_type": "stream",
     "text": [
      "Diálogo Das Mentes\n",
      "['John']\n",
      "Clube de Autores (managed)\n",
      "Diálogo das Mentes é baseado no que os pensadores científicos propagaram a respeito dos poderes da mente, onde é proposto que o homem tem o Poder de Decisão e o Instrumento que executa o que ele determina.\n",
      "[{'type': 'OTHER', 'identifier': 'PKEY:CLDEAU21416'}]\n",
      "MATURE\n",
      "{'smallThumbnail': 'http://books.google.com/books/content?id=0tpxDwAAQBAJ&printsec=frontcover&img=1&zoom=5&edge=curl&source=gbs_api', 'thumbnail': 'http://books.google.com/books/content?id=0tpxDwAAQBAJ&printsec=frontcover&img=1&zoom=1&edge=curl&source=gbs_api'}\n",
      "pt\n",
      "http://books.google.com.br/books?id=0tpxDwAAQBAJ&pg=PA95&dq=mentes&hl=&cd=1&source=gbs_api\n",
      "https://play.google.com/store/books/details?id=0tpxDwAAQBAJ&source=gbs_api\n"
     ]
    }
   ],
   "source": [
    "for coluna in interessantes:\n",
    "    print(valores[coluna])"
   ]
  }
 ],
 "metadata": {
  "kernelspec": {
   "display_name": "Python 3",
   "language": "python",
   "name": "python3"
  },
  "language_info": {
   "codemirror_mode": {
    "name": "ipython",
    "version": 3
   },
   "file_extension": ".py",
   "mimetype": "text/x-python",
   "name": "python",
   "nbconvert_exporter": "python",
   "pygments_lexer": "ipython3",
   "version": "3.8.2"
  }
 },
 "nbformat": 4,
 "nbformat_minor": 5
}
