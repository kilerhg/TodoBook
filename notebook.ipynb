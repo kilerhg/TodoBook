{
 "cells": [
  {
   "cell_type": "code",
   "execution_count": null,
   "source": [
    "import requests\r\n",
    "import pandas as pd\r\n",
    "import json"
   ],
   "outputs": [],
   "metadata": {}
  },
  {
   "cell_type": "code",
   "execution_count": 117,
   "source": [
    "def consumir_api(url, busca):\r\n",
    "    url = str(url)\r\n",
    "    busca = str(busca)\r\n",
    "    resposta = requests.get(url+busca).json()\r\n",
    "    return resposta\r\n",
    "\r\n",
    "\r\n",
    "def head(resposta, qtd_resposta=5):\r\n",
    "    limpo = resposta['items'][:qtd_resposta]\r\n",
    "    return limpo\r\n",
    "\r\n",
    "def limpa_requisicao_livro(livro):\r\n",
    "    dict_livro = {\r\n",
    "        'titulo' : livro['title'],\r\n",
    "        'autores' : '; '.join(livro['authors']),\r\n",
    "        'descricao' : livro['description'],\r\n",
    "        'num_paginas' : livro['pageCount'],\r\n",
    "        'faixa_etaria' : livro['maturityRating'],\r\n",
    "        'idioma' : livro['language'],\r\n",
    "        'link' : livro['infoLink'],\r\n",
    "    }\r\n",
    "\r\n",
    "    ## Tratando iSBN\r\n",
    "\r\n",
    "    if 'industryIdentifiers' in livro:\r\n",
    "        for isbns in livro['industryIdentifiers']:\r\n",
    "            if isbns['type'] == 'ISBN_13':\r\n",
    "                dict_livro['isbn'] = {'tipo_isbn': isbns['type'], 'valor': isbns['identifier']}\r\n",
    "            elif isbns['type'] == 'ISBN_10':\r\n",
    "                dict_livro['isbn'] = {'tipo_isbn': isbns['type'], 'valor': isbns['identifier']}\r\n",
    "            else:\r\n",
    "                {'tipo_isbn':None}\r\n",
    "    else:\r\n",
    "        {'tipo_isbn':None}\r\n",
    "\r\n",
    "    ## Tratando iSBN ↑\r\n",
    "\r\n",
    "\r\n",
    "    ## Tratando Thumb\r\n",
    "\r\n",
    "    if 'imageLinks' in livro:\r\n",
    "        if 'smallThumbnail' in livro['imageLinks']:\r\n",
    "            dict_livro['imagem'] = livro['imageLinks']['smallThumbnail']\r\n",
    "        else:\r\n",
    "            dict_livro['imagem'] = 'https://raw.githubusercontent.com/kilerhg/TodoBook/main/imagens/livro_sem_capa.png'\r\n",
    "    else:\r\n",
    "        dict_livro['imagem'] = 'https://raw.githubusercontent.com/kilerhg/TodoBook/main/imagens/livro_sem_capa.png'\r\n",
    "\r\n",
    "    ## Tratando Thumb ↑\r\n",
    "\r\n",
    "    return dict_livro\r\n",
    "\r\n",
    "def mostrar_por_indice(dicionario, indice=0, mostrar=False):  \r\n",
    "    \"\"\"\r\n",
    "    → Função que recebe um dicionario e um indice e mostra apenas um elemento do livro\r\n",
    "    :param dicionario: Recebe um dicionário com os dados limpos do livro\r\n",
    "    :param indice: Parametro opcional, recebe um valor de 0 a 6\r\n",
    "    :return: Retorna o valor do indice escolhido\r\n",
    "    \"\"\"\r\n",
    "    if indice == 0:\r\n",
    "        return dicionario['titulo']\r\n",
    "    elif indice == 1:\r\n",
    "        return dicionario['autores']\r\n",
    "    elif indice == 2:\r\n",
    "        return dicionario['descricao']\r\n",
    "    elif indice == 3:\r\n",
    "        return dicionario['num_paginas']\r\n",
    "    elif indice == 4:\r\n",
    "        return dicionario['faixa_etaria']\r\n",
    "    elif indice == 5:\r\n",
    "        return dicionario['idioma']\r\n",
    "    elif indice == 6:\r\n",
    "        return dicionario['link']\r\n",
    "    else:\r\n",
    "        return 'Índice inválido'"
   ],
   "outputs": [],
   "metadata": {}
  },
  {
   "cell_type": "code",
   "execution_count": 104,
   "source": [
    "' MAIN '\r\n",
    "\r\n",
    "url = 'https://www.googleapis.com/books/v1/volumes?q='\r\n",
    "busca = 'senhor+dos+aneis'\r\n",
    "\r\n",
    "dados = consumir_api(url,busca)\r\n",
    "dados_limpo = head(dados)"
   ],
   "outputs": [],
   "metadata": {}
  },
  {
   "cell_type": "code",
   "execution_count": 105,
   "source": [
    "livro = dados_limpo[1]['volumeInfo']\r\n",
    "\r\n",
    "dict_livro = {\r\n",
    "    'titulo' : livro['title'],\r\n",
    "    'autores' : '; '.join(livro['authors']),\r\n",
    "    'descricao' : livro['description'],\r\n",
    "    'num_paginas' : livro['pageCount'],\r\n",
    "    'faixa_etaria' : livro['maturityRating'],\r\n",
    "    'idioma' : livro['language'],\r\n",
    "    'link' : livro['infoLink'],\r\n",
    "}\r\n",
    "\r\n",
    "## Tratando iSBN\r\n",
    "\r\n",
    "if 'industryIdentifiers' in livro:\r\n",
    "    for isbns in livro['industryIdentifiers']:\r\n",
    "        if isbns['type'] == 'ISBN_13':\r\n",
    "            dict_livro['isbn'] = {'tipo_isbn': isbns['type'], 'valor': isbns['identifier']}\r\n",
    "        elif isbns['type'] == 'ISBN_10':\r\n",
    "            dict_livro['isbn'] = {'tipo_isbn': isbns['type'], 'valor': isbns['identifier']}\r\n",
    "        else:\r\n",
    "            {'tipo_isbn':None}\r\n",
    "else:\r\n",
    "    {'tipo_isbn':None}\r\n",
    "\r\n",
    "## Tratando iSBN ↑\r\n",
    "\r\n",
    "## Tratando Thumb\r\n",
    "\r\n",
    "if 'imageLinks' in livro:\r\n",
    "    if 'smallThumbnail' in livro['imageLinks']:\r\n",
    "        dict_livro['imagem'] = livro['imageLinks']['smallThumbnail']\r\n",
    "    else:\r\n",
    "        dict_livro['imagem'] = 'https://raw.githubusercontent.com/kilerhg/TodoBook/main/imagens/livro_sem_capa.png'\r\n",
    "else:\r\n",
    "    dict_livro['imagem'] = 'https://raw.githubusercontent.com/kilerhg/TodoBook/main/imagens/livro_sem_capa.png'\r\n",
    "\r\n",
    "## Tratando Thumb ↑\r\n"
   ],
   "outputs": [],
   "metadata": {}
  },
  {
   "cell_type": "code",
   "execution_count": null,
   "source": [
    "lista_livros = []\r\n",
    "for livro_sujo in dados_limpo:\r\n",
    "    livro_limpo = livro_sujo['volumeInfo']\r\n",
    "    livro_tratado = limpa_requisicao_livro(livro=livro_limpo)\r\n",
    "    lista_livros.append(livro_tratado)"
   ],
   "outputs": [],
   "metadata": {}
  },
  {
   "cell_type": "code",
   "execution_count": null,
   "source": [
    "lista_livros"
   ],
   "outputs": [],
   "metadata": {}
  },
  {
   "cell_type": "code",
   "execution_count": null,
   "source": [
    "dados_limpo[1]['volumeInfo']['imageLinks']['smallThumbnail']"
   ],
   "outputs": [],
   "metadata": {}
  },
  {
   "cell_type": "code",
   "execution_count": null,
   "source": [
    "livro = dados_limpo[2]['volumeInfo']\r\n",
    "print(livro)"
   ],
   "outputs": [],
   "metadata": {}
  },
  {
   "cell_type": "code",
   "execution_count": null,
   "source": [
    "valores = dados_limpo[2]['volumeInfo']\r\n",
    "dicionario_livro_limpo = {}\r\n",
    "for coluna in interessantes:\r\n",
    "    dicionario_livro_limpo[coluna] = valores[coluna]"
   ],
   "outputs": [],
   "metadata": {}
  },
  {
   "cell_type": "code",
   "execution_count": null,
   "source": [
    "livro['industryIdentifiers'][0]['identifier']"
   ],
   "outputs": [],
   "metadata": {}
  },
  {
   "cell_type": "code",
   "execution_count": null,
   "source": [
    "dict_livro"
   ],
   "outputs": [],
   "metadata": {}
  },
  {
   "cell_type": "code",
   "execution_count": null,
   "source": [
    "dicionario_livro_limpo\r\n",
    "\r\n",
    "# '' : livro['imageLinks'],\r\n",
    "# #  https://raw.githubusercontent.com/kilerhg/TodoBook/main/imagens/livro_sem_capa.png\r\n",
    "# 'ISBN' : livro['industryIdentifiers'],\r\n",
    "\r\n"
   ],
   "outputs": [],
   "metadata": {}
  },
  {
   "cell_type": "code",
   "execution_count": null,
   "source": [
    "dados_limpo[5]['volumeInfo']"
   ],
   "outputs": [],
   "metadata": {}
  },
  {
   "cell_type": "code",
   "execution_count": null,
   "source": [
    "interessantes = ['title', 'authors', 'description', 'industryIdentifiers', 'maturityRating', 'language', 'infoLink']\r\n",
    "interessantes_opc = ['publisher', 'imageLinks']"
   ],
   "outputs": [],
   "metadata": {}
  },
  {
   "cell_type": "code",
   "execution_count": null,
   "source": [
    "livro = dados_limpo[0]['volumeInfo']\r\n",
    "for coluna in interessantes:\r\n",
    "    limpo = livro['volumeInfo']\r\n",
    "    if coluna in limpo:\r\n",
    "        print(limpo[coluna])"
   ],
   "outputs": [],
   "metadata": {}
  },
  {
   "cell_type": "code",
   "execution_count": null,
   "source": [
    "for livro['volumeInfo'] in dados_limpo:\r\n",
    "    print('-=-=-=')\r\n",
    "    print(dados_limpo)\r\n",
    "    for coluna in interessantes:\r\n",
    "        if coluna in livro['volumeInfo']:\r\n",
    "            print(livro[coluna])"
   ],
   "outputs": [],
   "metadata": {}
  }
 ],
 "metadata": {
  "kernelspec": {
   "name": "python3",
   "display_name": "Python 3.8.8 64-bit ('base': conda)"
  },
  "language_info": {
   "codemirror_mode": {
    "name": "ipython",
    "version": 3
   },
   "file_extension": ".py",
   "mimetype": "text/x-python",
   "name": "python",
   "nbconvert_exporter": "python",
   "pygments_lexer": "ipython3",
   "version": "3.8.8"
  },
  "interpreter": {
   "hash": "3e601f0cabf5b16bcd7752c0c1590e89a6efe77ccc33d4818a5ac8598b9a9f8f"
  }
 },
 "nbformat": 4,
 "nbformat_minor": 5
}